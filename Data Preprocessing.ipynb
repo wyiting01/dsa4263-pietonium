{
 "cells": [
  {
   "cell_type": "markdown",
   "id": "5d368aae",
   "metadata": {},
   "source": [
    "This notebook contains function to pre-process raw text inputs."
   ]
  },
  {
   "cell_type": "code",
   "execution_count": null,
   "id": "1f862cca",
   "metadata": {},
   "outputs": [],
   "source": [
    "import pandas as pd\n",
    "import numpy as np\n",
    "import re\n",
    "\n",
    "import nltk\n",
    "from nltk.corpus import stopwords\n",
    "from nltk.stem import PorterStemmer\n",
    "from nltk.stem import WordNetLemmatizer"
   ]
  },
  {
   "cell_type": "markdown",
   "id": "c495cfeb",
   "metadata": {},
   "source": [
    "# 1. Noise Entity Removal\n",
    "This section is about noise entity removal. First, we convert all the words to lower case. We then remove html tags, non-word character, digits and extra spaces. Finally, we remove stopwords from the documents."
   ]
  },
  {
   "cell_type": "code",
   "execution_count": null,
   "id": "c0a20bb0",
   "metadata": {},
   "outputs": [],
   "source": [
    "HTML_PATTERN = re.compile('<.*?>')\n",
    "STOPWORDS_LIST = set(stopwords.words('english'))\n",
    "\n",
    "def noise_entity_removal(target_input):\n",
    "    # convert to lower case\n",
    "    target_input = target_input.lower()\n",
    "    \n",
    "    # remove html tags\n",
    "    target_input = re.sub(HTML_PATTERN, '', target_input)\n",
    "    \n",
    "    # remove non-word characters like #,*,% etc\n",
    "    target_input = re.sub(r'\\W',' ', target_input)\n",
    "    \n",
    "    #will remove digits\n",
    "    target_input = re.sub(r'\\d',' ',target_input)\n",
    "    \n",
    "    #will remove extra spaces\n",
    "    target_input = re.sub(r'\\s+',' ',target_input)\n",
    "    \n",
    "    # remove stopwords\n",
    "    target_input_tokens = nltk.word_tokenize(target_input)\n",
    "    target_input_tokens_wo_stopwords = [i for i in target_input_tokens if i not in STOPWORDS_LIST and i]\n",
    "    \n",
    "    # join the list of tokens back to string\n",
    "    output = \" \".join(target_input_tokens_wo_stopwords)\n",
    "    \n",
    "    return output"
   ]
  },
  {
   "cell_type": "markdown",
   "id": "e0d1f3d0",
   "metadata": {},
   "source": [
    "## 2. Text Normalization\n",
    "In this section, we normalize our documents by either stemming or lemmatizing. Since lemmatization is able to retain the sentiment meanings, we will make lemmatization as the default."
   ]
  },
  {
   "cell_type": "code",
   "execution_count": null,
   "id": "a21df895",
   "metadata": {},
   "outputs": [],
   "source": [
    "LEMMATIZER = WordNetLemmatizer()\n",
    "STEMMER = PorterStemmer()\n",
    "\n",
    "def text_normalization(target_input, method = 'lemmatize'):\n",
    "    target_input_tokens = nltk.word_tokenize(target_input)\n",
    "    \n",
    "    if method == 'lemmatize':\n",
    "        lemmatized_tokens = [LEMMATIZER.lemmatize(word, pos='v') for word in target_input_tokens]\n",
    "        output = \" \".join(lemmatized_tokens)\n",
    "    \n",
    "    if method == 'stem':\n",
    "        stemmed_tokens = [STEMMER.stem(word) for word in target_input_tokens]\n",
    "        output = \" \".join(stemmed_tokens)\n",
    "        \n",
    "    return output"
   ]
  },
  {
   "cell_type": "markdown",
   "id": "57c9e866",
   "metadata": {},
   "source": [
    "## 3. Stardardise Labels (if applicable)\n",
    "0: positive; 1: negative\n",
    "\n",
    "0: positive; 1: neutral; 2: negative"
   ]
  },
  {
   "cell_type": "code",
   "execution_count": null,
   "id": "720c39ee",
   "metadata": {},
   "outputs": [],
   "source": [
    "'''\n",
    "If sentiments are labelled with words, we need to convert these into integer classes\n",
    "'''\n",
    "\n",
    "def label_to_integer(sentiment_label):\n",
    "    if sentiment_label == 'positive':\n",
    "        return 0\n",
    "    elif sentiment_label == 'negative':\n",
    "        return 1\n",
    "    else:\n",
    "        return None\n",
    "\n",
    "'''\n",
    "Assume sentiment score ranges from 0 to 5.\n",
    "score <= 2: negative\n",
    "score = 3: neutral\n",
    "score >= 4: positive\n",
    "'''\n",
    "def process_score(sentiment_score):\n",
    "    if sentiment_score >= 4:\n",
    "        return 0\n",
    "    elif sentiment_score == 3:\n",
    "        return 1\n",
    "    else:\n",
    "        return 2"
   ]
  }
 ],
 "metadata": {
  "kernelspec": {
   "display_name": "Python 3 (ipykernel)",
   "language": "python",
   "name": "python3"
  },
  "language_info": {
   "codemirror_mode": {
    "name": "ipython",
    "version": 3
   },
   "file_extension": ".py",
   "mimetype": "text/x-python",
   "name": "python",
   "nbconvert_exporter": "python",
   "pygments_lexer": "ipython3",
   "version": "3.9.16"
  }
 },
 "nbformat": 4,
 "nbformat_minor": 5
}
