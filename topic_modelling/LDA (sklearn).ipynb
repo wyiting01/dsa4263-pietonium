{
 "cells": [
  {
   "cell_type": "code",
   "execution_count": 71,
   "id": "fd214bba",
   "metadata": {},
   "outputs": [],
   "source": [
    "import pandas as pd\n",
    "import numpy as np\n",
    "import re\n",
    "import matplotlib.pyplot as plt\n",
    "\n",
    "import nltk\n",
    "from nltk.corpus import stopwords\n",
    "from nltk.tokenize import RegexpTokenizer\n",
    "from nltk.stem import PorterStemmer\n",
    "from nltk.stem import WordNetLemmatizer\n",
    "\n",
    "from sklearn.decomposition import LatentDirichletAllocation\n",
    "from sklearn.feature_extraction.text import TfidfVectorizer\n",
    "\n",
    "from gensim.models import CoherenceModel\n",
    "import gensim.corpora as corpora"
   ]
  },
  {
   "cell_type": "markdown",
   "id": "a040b813",
   "metadata": {},
   "source": [
    "# Read in Dataset"
   ]
  },
  {
   "cell_type": "code",
   "execution_count": 118,
   "id": "5028a25c",
   "metadata": {},
   "outputs": [
    {
     "data": {
      "text/html": [
       "<div>\n",
       "<style scoped>\n",
       "    .dataframe tbody tr th:only-of-type {\n",
       "        vertical-align: middle;\n",
       "    }\n",
       "\n",
       "    .dataframe tbody tr th {\n",
       "        vertical-align: top;\n",
       "    }\n",
       "\n",
       "    .dataframe thead th {\n",
       "        text-align: right;\n",
       "    }\n",
       "</style>\n",
       "<table border=\"1\" class=\"dataframe\">\n",
       "  <thead>\n",
       "    <tr style=\"text-align: right;\">\n",
       "      <th></th>\n",
       "      <th>Sentiment</th>\n",
       "      <th>Time</th>\n",
       "      <th>Text</th>\n",
       "      <th>processed_text</th>\n",
       "    </tr>\n",
       "  </thead>\n",
       "  <tbody>\n",
       "    <tr>\n",
       "      <th>0</th>\n",
       "      <td>0</td>\n",
       "      <td>18/6/21</td>\n",
       "      <td>This is a very healthy dog food. Good for thei...</td>\n",
       "      <td>healthy dog food good digestion also good smal...</td>\n",
       "    </tr>\n",
       "    <tr>\n",
       "      <th>1</th>\n",
       "      <td>0</td>\n",
       "      <td>7/7/21</td>\n",
       "      <td>I've been very pleased with the Natural Balanc...</td>\n",
       "      <td>pleased natural balance dog food dog issue dog...</td>\n",
       "    </tr>\n",
       "    <tr>\n",
       "      <th>2</th>\n",
       "      <td>0</td>\n",
       "      <td>18/6/21</td>\n",
       "      <td>Before I was educated about feline nutrition, ...</td>\n",
       "      <td>educate feline nutrition allow cat become addi...</td>\n",
       "    </tr>\n",
       "    <tr>\n",
       "      <th>3</th>\n",
       "      <td>0</td>\n",
       "      <td>7/7/21</td>\n",
       "      <td>My holistic vet recommended this, along with a...</td>\n",
       "      <td>holistic vet recommend along brand try cat pre...</td>\n",
       "    </tr>\n",
       "    <tr>\n",
       "      <th>4</th>\n",
       "      <td>0</td>\n",
       "      <td>1/7/21</td>\n",
       "      <td>I bought this coffee because its much cheaper ...</td>\n",
       "      <td>buy coffee much cheaper ganocafe organic reish...</td>\n",
       "    </tr>\n",
       "    <tr>\n",
       "      <th>...</th>\n",
       "      <td>...</td>\n",
       "      <td>...</td>\n",
       "      <td>...</td>\n",
       "      <td>...</td>\n",
       "    </tr>\n",
       "    <tr>\n",
       "      <th>5439</th>\n",
       "      <td>1</td>\n",
       "      <td>26/2/21</td>\n",
       "      <td>This is an okay gift box, only if you like med...</td>\n",
       "      <td>okay gift box like mediocre cheese summer saus...</td>\n",
       "    </tr>\n",
       "    <tr>\n",
       "      <th>5440</th>\n",
       "      <td>1</td>\n",
       "      <td>18/12/19</td>\n",
       "      <td>It looks llike I just walked into a raw deal. ...</td>\n",
       "      <td>look llike walked raw deal item intolerably st...</td>\n",
       "    </tr>\n",
       "    <tr>\n",
       "      <th>5441</th>\n",
       "      <td>1</td>\n",
       "      <td>19/1/20</td>\n",
       "      <td>Thank god that i tasted the metal before i swa...</td>\n",
       "      <td>thank god taste metal swallow dont even get ge...</td>\n",
       "    </tr>\n",
       "    <tr>\n",
       "      <th>5442</th>\n",
       "      <td>1</td>\n",
       "      <td>13/9/20</td>\n",
       "      <td>This product was very good when I began buying...</td>\n",
       "      <td>product good begin buy lately terrible taste r...</td>\n",
       "    </tr>\n",
       "    <tr>\n",
       "      <th>5443</th>\n",
       "      <td>1</td>\n",
       "      <td>10/7/20</td>\n",
       "      <td>Once again, Paragon has disappointed with this...</td>\n",
       "      <td>paragon disappoint flavor hawaiian tropic simp...</td>\n",
       "    </tr>\n",
       "  </tbody>\n",
       "</table>\n",
       "<p>5444 rows × 4 columns</p>\n",
       "</div>"
      ],
      "text/plain": [
       "      Sentiment      Time                                               Text  \\\n",
       "0             0   18/6/21  This is a very healthy dog food. Good for thei...   \n",
       "1             0    7/7/21  I've been very pleased with the Natural Balanc...   \n",
       "2             0   18/6/21  Before I was educated about feline nutrition, ...   \n",
       "3             0    7/7/21  My holistic vet recommended this, along with a...   \n",
       "4             0    1/7/21  I bought this coffee because its much cheaper ...   \n",
       "...         ...       ...                                                ...   \n",
       "5439          1   26/2/21  This is an okay gift box, only if you like med...   \n",
       "5440          1  18/12/19  It looks llike I just walked into a raw deal. ...   \n",
       "5441          1   19/1/20  Thank god that i tasted the metal before i swa...   \n",
       "5442          1   13/9/20  This product was very good when I began buying...   \n",
       "5443          1   10/7/20  Once again, Paragon has disappointed with this...   \n",
       "\n",
       "                                         processed_text  \n",
       "0     healthy dog food good digestion also good smal...  \n",
       "1     pleased natural balance dog food dog issue dog...  \n",
       "2     educate feline nutrition allow cat become addi...  \n",
       "3     holistic vet recommend along brand try cat pre...  \n",
       "4     buy coffee much cheaper ganocafe organic reish...  \n",
       "...                                                 ...  \n",
       "5439  okay gift box like mediocre cheese summer saus...  \n",
       "5440  look llike walked raw deal item intolerably st...  \n",
       "5441  thank god taste metal swallow dont even get ge...  \n",
       "5442  product good begin buy lately terrible taste r...  \n",
       "5443  paragon disappoint flavor hawaiian tropic simp...  \n",
       "\n",
       "[5444 rows x 4 columns]"
      ]
     },
     "execution_count": 118,
     "metadata": {},
     "output_type": "execute_result"
    }
   ],
   "source": [
    "df = pd.read_csv('../data/curated/reviews/yiting_cleaned_reviews.csv')\n",
    "df"
   ]
  },
  {
   "cell_type": "markdown",
   "id": "8cd7d5b6",
   "metadata": {},
   "source": [
    "# TF-IDF"
   ]
  },
  {
   "cell_type": "code",
   "execution_count": 123,
   "id": "6009ae73",
   "metadata": {},
   "outputs": [],
   "source": [
    "vectorizer = TfidfVectorizer(lowercase=True,\n",
    "                             analyzer='word',\n",
    "                             stop_words = 'english',\n",
    "                             ngram_range = (1,1),\n",
    "                             min_df = 3)\n",
    "vectorized_text = vectorizer.fit_transform(df['processed_text'])"
   ]
  },
  {
   "cell_type": "code",
   "execution_count": 124,
   "id": "08586682",
   "metadata": {},
   "outputs": [
    {
     "data": {
      "text/plain": [
       "(5444, 3949)"
      ]
     },
     "execution_count": 124,
     "metadata": {},
     "output_type": "execute_result"
    }
   ],
   "source": [
    "vectorized_text.shape"
   ]
  },
  {
   "cell_type": "code",
   "execution_count": 125,
   "id": "dcf056d6",
   "metadata": {},
   "outputs": [
    {
     "data": {
      "text/plain": [
       "array(['ability', 'able', 'absolute', ..., 'ziplock', 'zippy', 'zucchini'],\n",
       "      dtype=object)"
      ]
     },
     "execution_count": 125,
     "metadata": {},
     "output_type": "execute_result"
    }
   ],
   "source": [
    "vectorizer.get_feature_names_out()"
   ]
  },
  {
   "cell_type": "markdown",
   "id": "bb514ef3",
   "metadata": {},
   "source": [
    "# LDA"
   ]
  },
  {
   "cell_type": "code",
   "execution_count": 152,
   "id": "e071b23e",
   "metadata": {},
   "outputs": [],
   "source": [
    "#Coherance Score function \n",
    "#The higher the better. Input: Sklearn Model, output: Coherance score\n",
    "\n",
    "def get_Cv(model, df_columnm):\n",
    "  topics = model.components_\n",
    "  n_top_words = 20\n",
    "  texts = [[word for word in doc.split()] for doc in df_columnm]\n",
    "  # create the dictionary\n",
    "  dictionary = corpora.Dictionary(texts)\n",
    "  # Create a gensim dictionary from the word count matrix\n",
    "  # Create a gensim corpus from the word count matrix\n",
    "  corpus = [dictionary.doc2bow(text) for text in texts]\n",
    "  feature_names = [dictionary[i] for i in range(len(dictionary))]\n",
    "  # Get the top words for each topic from the components_ attribute\n",
    "  top_words = []\n",
    "  for topic in topics:\n",
    "      top_words.append([feature_names[i] for i in topic.argsort()[:-n_top_words - 1:-1]])\n",
    "  coherence_model = CoherenceModel(topics=top_words, texts=texts, dictionary=dictionary, coherence='c_v')\n",
    "  coherence = coherence_model.get_coherence()\n",
    "  return coherence"
   ]
  },
  {
   "cell_type": "code",
   "execution_count": 133,
   "id": "131216ab",
   "metadata": {},
   "outputs": [
    {
     "name": "stdout",
     "output_type": "stream",
     "text": [
      "Coherance Score:  0.747241345113341\n",
      "Log Likelihood:  -166278.72847467771\n",
      "Perplexity:  1891.0078048030143\n",
      "Coherance Score:  0.7331917071185434\n",
      "Log Likelihood:  -172168.69196138403\n",
      "Perplexity:  2470.364900840852\n",
      "Coherance Score:  0.7290572750503688\n",
      "Log Likelihood:  -177038.29117213117\n",
      "Perplexity:  3081.2119095699863\n",
      "Coherance Score:  0.7424624448295551\n",
      "Log Likelihood:  -180596.68392968338\n",
      "Perplexity:  3621.1236599454624\n",
      "Coherance Score:  0.7235204905192512\n",
      "Log Likelihood:  -182218.9697241557\n",
      "Perplexity:  3897.733715458449\n",
      "Coherance Score:  0.7031051587500845\n",
      "Log Likelihood:  -184011.5712611755\n",
      "Perplexity:  4228.021842807344\n",
      "Coherance Score:  0.7314644003553329\n",
      "Log Likelihood:  -185649.08518905638\n",
      "Perplexity:  4554.137281727133\n",
      "Coherance Score:  0.7165408452755669\n",
      "Log Likelihood:  -188520.4207198949\n",
      "Perplexity:  5187.8658467705945\n",
      "Coherance Score:  0.7075378716455663\n",
      "Log Likelihood:  -188038.15769549346\n",
      "Perplexity:  5075.574985480946\n",
      "Coherance Score:  0.719073240131727\n",
      "Log Likelihood:  -191958.51364660222\n",
      "Perplexity:  6063.730534317279\n"
     ]
    }
   ],
   "source": [
    "#Finding the right number of topis (n_components)\n",
    "\n",
    "cv_scores = []\n",
    "lg_scores = []\n",
    "perp_scores = []\n",
    "\n",
    "for i in range(1,11):\n",
    "    lda_model = LatentDirichletAllocation(batch_size=128, doc_topic_prior=None,\n",
    " evaluate_every=-1, learning_decay=0.7,\n",
    " learning_method='online', learning_offset=10.0,\n",
    " max_doc_update_iter=100, max_iter=20, mean_change_tol=0.001,\n",
    " n_components=i, n_jobs=-1, perp_tol=0.1,\n",
    " random_state=20, topic_word_prior=None,\n",
    " total_samples=1000000.0, verbose=0)\n",
    "\n",
    "    lda_topics = lda_model.fit_transform(vectorized_text)\n",
    "    \n",
    "    cv_scores.append(get_Cv(lda_model,df['processed_text']))\n",
    "    lg_scores.append(lda_model.score(vectorized_text))\n",
    "    perp_scores.append(lda_model.perplexity(vectorized_text))\n",
    "    # See model parameters\n",
    "    #print(lda_model.get_params())"
   ]
  },
  {
   "cell_type": "code",
   "execution_count": 143,
   "metadata": {},
   "outputs": [
    {
     "data": {
      "text/plain": [
       "Text(0, 0.5, 'Perplexity')"
      ]
     },
     "execution_count": 143,
     "metadata": {},
     "output_type": "execute_result"
    },
    {
     "data": {
      "image/png": "[encoded data removed]",
      "text/plain": [
       "<Figure size 432x288 with 1 Axes>"
      ]
     },
     "metadata": {
      "needs_background": "light"
     },
     "output_type": "display_data"
    },
    {
     "data": {
      "image/png": "[encoded data removed]",
      "text/plain": [
       "<Figure size 432x288 with 1 Axes>"
      ]
     },
     "metadata": {
      "needs_background": "light"
     },
     "output_type": "display_data"
    },
    {
     "data": {
      "image/png": "[encoded data removed]",
      "text/plain": [
       "<Figure size 432x288 with 1 Axes>"
      ]
     },
     "metadata": {
      "needs_background": "light"
     },
     "output_type": "display_data"
    }
   ],
   "source": [
    "x = np.array(range(1,11))\n",
    "plt.plot(x,cv_scores)\n",
    "plt.xlabel(\"num of topics\")\n",
    "plt.ylabel(\"Coherance\")\n",
    "plt.figure()\n",
    "plt.plot(x,lg_scores) \n",
    "plt.xlabel(\"num of topics\")\n",
    "plt.ylabel(\"Log likelihood\")\n",
    "plt.figure()\n",
    "plt.plot(x,perp_scores)\n",
    "plt.xlabel(\"num of topics\")\n",
    "plt.ylabel(\"Perplexity\") "
   ]
  },
  {
   "cell_type": "code",
   "execution_count": 154,
   "id": "1617c059",
   "metadata": {},
   "outputs": [
    {
     "data": {
      "text/plain": [
       "(4, 3949)"
      ]
     },
     "execution_count": 154,
     "metadata": {},
     "output_type": "execute_result"
    }
   ],
   "source": [
    "# lda component: for each topic, the prob of each word in the vocabulary\n",
    "lda_model = LatentDirichletAllocation(batch_size=128, doc_topic_prior=None,\n",
    " evaluate_every=-1, learning_decay=0.7,\n",
    " learning_method='online', learning_offset=10.0,\n",
    " max_doc_update_iter=100, max_iter=20, mean_change_tol=0.001,\n",
    " n_components=4, n_jobs=-1, perp_tol=0.1,\n",
    " random_state=20, topic_word_prior=None,\n",
    " total_samples=1000000.0, verbose=0)\n",
    "\n",
    "lda_topics = lda_model.fit_transform(vectorized_text)\n",
    "lda_model.components_.shape"
   ]
  },
  {
   "cell_type": "code",
   "execution_count": 163,
   "id": "d8e57dd3",
   "metadata": {},
   "outputs": [
    {
     "name": "stdout",
     "output_type": "stream",
     "text": [
      "Topic 0: \n",
      "butter peanut cake gluten popcorn gift noodle pasta bread free great love rice pancake oil wheat easy make flour taste use olive best maple mix price cheese good white toast gf product family sandwich son sauce school fast guest service mother dairy spread dress salad affordable gravy enjoy sent birthday dish sister egg daughter kid recipe quick pamela customer door asian stock grinder pb convenience biscuit allergic delicious bake prepare buy mart bisquick cook movie amazon sam beat jam salsa house work rum ramen grill reasonably pan machine law email coconut celiac anymore yummy fantastic auto soup really texture wal\n",
      "Topic 1: \n",
      "product taste great good like buy love price flavor make order food eat use amazon bag really store time try snack box purchase chip tasty little bar better pack think come salt healthy package say best item quality look year way add know brand local sweet treat sugar fresh free lot ingredient want day recommend hard chocolate bit grocery cooky calorie right size thing need cereal receive bad delicious ship old cat high organic save review month pay open money work candy texture sure chicken cheaper enjoy small mix definitely easy case happy nice nut favorite low sell kid perfect\n",
      "Topic 2: \n",
      "dog treat feed vet formula pet fda vomit crazy dogswell timely hip report eats china solid link puppy th refuse sunflower quinoa jack human manner pill animal science choke father spoil diamond lamb digest upset diarrhea owner fee country fig ear bowel ill wellness finicky stool reward research pup delight origin food greenies newman buffalo nori pistachio glucosamine strip trust digestion sushi kidney happily softer icicle severe similac joint satisfying ghee steam poison newton toffee feeding illness toy infant mic poo hurry mini flow disease tastiest purina na arthritis article bichon supplement toxic happens breed symptom movement kosher eb terrier\n",
      "Topic 3: \n",
      "coffee tea taste drink cup flavor like great water good try chocolate use hot make juice sugar love powder soda strong better green orange add bitter nice price recommend best product really brew keurig dark cocoa buy milk sweet little aftertaste blend smooth mix roast black brand day ice licorice morning enjoy stuff vanilla favorite aroma weak starbucks oz highly say decaf think rich ginger want refresh artificial energy sweetener different stevia bottle perfect far syrup caffeine lemon time instant coconut honey order bad tried way bold delicious pod lot tasty right iced tangerine french come expensive prefer truffle leave\n"
     ]
    }
   ],
   "source": [
    "vocab = vectorizer.get_feature_names_out()\n",
    "for i, comp in enumerate(lda_model.components_):\n",
    "    vocab_comp = zip(vocab, comp)\n",
    "    sorted_words = sorted(vocab_comp, key = lambda x:x[1], reverse = True)[:100]\n",
    "    print(\"Topic \" + str(i) + \": \")\n",
    "    print(\" \".join([i[0] for i in sorted_words]))"
   ]
  },
  {
   "cell_type": "code",
   "execution_count": 155,
   "id": "9d834f2b",
   "metadata": {},
   "outputs": [
    {
     "data": {
      "text/html": [
       "<div>\n",
       "<style scoped>\n",
       "    .dataframe tbody tr th:only-of-type {\n",
       "        vertical-align: middle;\n",
       "    }\n",
       "\n",
       "    .dataframe tbody tr th {\n",
       "        vertical-align: top;\n",
       "    }\n",
       "\n",
       "    .dataframe thead th {\n",
       "        text-align: right;\n",
       "    }\n",
       "</style>\n",
       "<table border=\"1\" class=\"dataframe\">\n",
       "  <thead>\n",
       "    <tr style=\"text-align: right;\">\n",
       "      <th></th>\n",
       "      <th>Sentiment</th>\n",
       "      <th>Time</th>\n",
       "      <th>Text</th>\n",
       "      <th>processed_text</th>\n",
       "      <th>dominant_topic</th>\n",
       "    </tr>\n",
       "  </thead>\n",
       "  <tbody>\n",
       "    <tr>\n",
       "      <th>0</th>\n",
       "      <td>0</td>\n",
       "      <td>18/6/21</td>\n",
       "      <td>This is a very healthy dog food. Good for thei...</td>\n",
       "      <td>healthy dog food good digestion also good smal...</td>\n",
       "      <td>2</td>\n",
       "    </tr>\n",
       "    <tr>\n",
       "      <th>1</th>\n",
       "      <td>0</td>\n",
       "      <td>7/7/21</td>\n",
       "      <td>I've been very pleased with the Natural Balanc...</td>\n",
       "      <td>pleased natural balance dog food dog issue dog...</td>\n",
       "      <td>1</td>\n",
       "    </tr>\n",
       "    <tr>\n",
       "      <th>2</th>\n",
       "      <td>0</td>\n",
       "      <td>18/6/21</td>\n",
       "      <td>Before I was educated about feline nutrition, ...</td>\n",
       "      <td>educate feline nutrition allow cat become addi...</td>\n",
       "      <td>1</td>\n",
       "    </tr>\n",
       "    <tr>\n",
       "      <th>3</th>\n",
       "      <td>0</td>\n",
       "      <td>7/7/21</td>\n",
       "      <td>My holistic vet recommended this, along with a...</td>\n",
       "      <td>holistic vet recommend along brand try cat pre...</td>\n",
       "      <td>1</td>\n",
       "    </tr>\n",
       "    <tr>\n",
       "      <th>4</th>\n",
       "      <td>0</td>\n",
       "      <td>1/7/21</td>\n",
       "      <td>I bought this coffee because its much cheaper ...</td>\n",
       "      <td>buy coffee much cheaper ganocafe organic reish...</td>\n",
       "      <td>1</td>\n",
       "    </tr>\n",
       "    <tr>\n",
       "      <th>...</th>\n",
       "      <td>...</td>\n",
       "      <td>...</td>\n",
       "      <td>...</td>\n",
       "      <td>...</td>\n",
       "      <td>...</td>\n",
       "    </tr>\n",
       "    <tr>\n",
       "      <th>5439</th>\n",
       "      <td>1</td>\n",
       "      <td>26/2/21</td>\n",
       "      <td>This is an okay gift box, only if you like med...</td>\n",
       "      <td>okay gift box like mediocre cheese summer saus...</td>\n",
       "      <td>1</td>\n",
       "    </tr>\n",
       "    <tr>\n",
       "      <th>5440</th>\n",
       "      <td>1</td>\n",
       "      <td>18/12/19</td>\n",
       "      <td>It looks llike I just walked into a raw deal. ...</td>\n",
       "      <td>look llike walked raw deal item intolerably st...</td>\n",
       "      <td>1</td>\n",
       "    </tr>\n",
       "    <tr>\n",
       "      <th>5441</th>\n",
       "      <td>1</td>\n",
       "      <td>19/1/20</td>\n",
       "      <td>Thank god that i tasted the metal before i swa...</td>\n",
       "      <td>thank god taste metal swallow dont even get ge...</td>\n",
       "      <td>1</td>\n",
       "    </tr>\n",
       "    <tr>\n",
       "      <th>5442</th>\n",
       "      <td>1</td>\n",
       "      <td>13/9/20</td>\n",
       "      <td>This product was very good when I began buying...</td>\n",
       "      <td>product good begin buy lately terrible taste r...</td>\n",
       "      <td>1</td>\n",
       "    </tr>\n",
       "    <tr>\n",
       "      <th>5443</th>\n",
       "      <td>1</td>\n",
       "      <td>10/7/20</td>\n",
       "      <td>Once again, Paragon has disappointed with this...</td>\n",
       "      <td>paragon disappoint flavor hawaiian tropic simp...</td>\n",
       "      <td>3</td>\n",
       "    </tr>\n",
       "  </tbody>\n",
       "</table>\n",
       "<p>5444 rows × 5 columns</p>\n",
       "</div>"
      ],
      "text/plain": [
       "      Sentiment      Time                                               Text  \\\n",
       "0             0   18/6/21  This is a very healthy dog food. Good for thei...   \n",
       "1             0    7/7/21  I've been very pleased with the Natural Balanc...   \n",
       "2             0   18/6/21  Before I was educated about feline nutrition, ...   \n",
       "3             0    7/7/21  My holistic vet recommended this, along with a...   \n",
       "4             0    1/7/21  I bought this coffee because its much cheaper ...   \n",
       "...         ...       ...                                                ...   \n",
       "5439          1   26/2/21  This is an okay gift box, only if you like med...   \n",
       "5440          1  18/12/19  It looks llike I just walked into a raw deal. ...   \n",
       "5441          1   19/1/20  Thank god that i tasted the metal before i swa...   \n",
       "5442          1   13/9/20  This product was very good when I began buying...   \n",
       "5443          1   10/7/20  Once again, Paragon has disappointed with this...   \n",
       "\n",
       "                                         processed_text  dominant_topic  \n",
       "0     healthy dog food good digestion also good smal...               2  \n",
       "1     pleased natural balance dog food dog issue dog...               1  \n",
       "2     educate feline nutrition allow cat become addi...               1  \n",
       "3     holistic vet recommend along brand try cat pre...               1  \n",
       "4     buy coffee much cheaper ganocafe organic reish...               1  \n",
       "...                                                 ...             ...  \n",
       "5439  okay gift box like mediocre cheese summer saus...               1  \n",
       "5440  look llike walked raw deal item intolerably st...               1  \n",
       "5441  thank god taste metal swallow dont even get ge...               1  \n",
       "5442  product good begin buy lately terrible taste r...               1  \n",
       "5443  paragon disappoint flavor hawaiian tropic simp...               3  \n",
       "\n",
       "[5444 rows x 5 columns]"
      ]
     },
     "execution_count": 155,
     "metadata": {},
     "output_type": "execute_result"
    }
   ],
   "source": [
    "dominant_topic_list = [np.where(topic == np.max(topic))[0][0] for topic in lda_topics]\n",
    "df['dominant_topic'] = dominant_topic_list\n",
    "df"
   ]
  },
  {
   "cell_type": "code",
   "execution_count": 156,
   "id": "621736ff",
   "metadata": {},
   "outputs": [
    {
     "data": {
      "text/plain": [
       "0     212\n",
       "1    3998\n",
       "2      24\n",
       "3    1210\n",
       "Name: dominant_topic, dtype: int64"
      ]
     },
     "execution_count": 156,
     "metadata": {},
     "output_type": "execute_result"
    }
   ],
   "source": [
    "df.dominant_topic.value_counts().sort_index()"
   ]
  },
  {
   "cell_type": "code",
   "execution_count": 160,
   "id": "7f7efde6",
   "metadata": {},
   "outputs": [
    {
     "data": {
      "text/html": [
       "<style>#sk-container-id-2 {color: black;background-color: white;}#sk-container-id-2 pre{padding: 0;}#sk-container-id-2 div.sk-toggleable {background-color: white;}#sk-container-id-2 label.sk-toggleable__label {cursor: pointer;display: block;width: 100%;margin-bottom: 0;padding: 0.3em;box-sizing: border-box;text-align: center;}#sk-container-id-2 label.sk-toggleable__label-arrow:before {content: \"▸\";float: left;margin-right: 0.25em;color: #696969;}#sk-container-id-2 label.sk-toggleable__label-arrow:hover:before {color: black;}#sk-container-id-2 div.sk-estimator:hover label.sk-toggleable__label-arrow:before {color: black;}#sk-container-id-2 div.sk-toggleable__content {max-height: 0;max-width: 0;overflow: hidden;text-align: left;background-color: #f0f8ff;}#sk-container-id-2 div.sk-toggleable__content pre {margin: 0.2em;color: black;border-radius: 0.25em;background-color: #f0f8ff;}#sk-container-id-2 input.sk-toggleable__control:checked~div.sk-toggleable__content {max-height: 200px;max-width: 100%;overflow: auto;}#sk-container-id-2 input.sk-toggleable__control:checked~label.sk-toggleable__label-arrow:before {content: \"▾\";}#sk-container-id-2 div.sk-estimator input.sk-toggleable__control:checked~label.sk-toggleable__label {background-color: #d4ebff;}#sk-container-id-2 div.sk-label input.sk-toggleable__control:checked~label.sk-toggleable__label {background-color: #d4ebff;}#sk-container-id-2 input.sk-hidden--visually {border: 0;clip: rect(1px 1px 1px 1px);clip: rect(1px, 1px, 1px, 1px);height: 1px;margin: -1px;overflow: hidden;padding: 0;position: absolute;width: 1px;}#sk-container-id-2 div.sk-estimator {font-family: monospace;background-color: #f0f8ff;border: 1px dotted black;border-radius: 0.25em;box-sizing: border-box;margin-bottom: 0.5em;}#sk-container-id-2 div.sk-estimator:hover {background-color: #d4ebff;}#sk-container-id-2 div.sk-parallel-item::after {content: \"\";width: 100%;border-bottom: 1px solid gray;flex-grow: 1;}#sk-container-id-2 div.sk-label:hover label.sk-toggleable__label {background-color: #d4ebff;}#sk-container-id-2 div.sk-serial::before {content: \"\";position: absolute;border-left: 1px solid gray;box-sizing: border-box;top: 0;bottom: 0;left: 50%;z-index: 0;}#sk-container-id-2 div.sk-serial {display: flex;flex-direction: column;align-items: center;background-color: white;padding-right: 0.2em;padding-left: 0.2em;position: relative;}#sk-container-id-2 div.sk-item {position: relative;z-index: 1;}#sk-container-id-2 div.sk-parallel {display: flex;align-items: stretch;justify-content: center;background-color: white;position: relative;}#sk-container-id-2 div.sk-item::before, #sk-container-id-2 div.sk-parallel-item::before {content: \"\";position: absolute;border-left: 1px solid gray;box-sizing: border-box;top: 0;bottom: 0;left: 50%;z-index: -1;}#sk-container-id-2 div.sk-parallel-item {display: flex;flex-direction: column;z-index: 1;position: relative;background-color: white;}#sk-container-id-2 div.sk-parallel-item:first-child::after {align-self: flex-end;width: 50%;}#sk-container-id-2 div.sk-parallel-item:last-child::after {align-self: flex-start;width: 50%;}#sk-container-id-2 div.sk-parallel-item:only-child::after {width: 0;}#sk-container-id-2 div.sk-dashed-wrapped {border: 1px dashed gray;margin: 0 0.4em 0.5em 0.4em;box-sizing: border-box;padding-bottom: 0.4em;background-color: white;}#sk-container-id-2 div.sk-label label {font-family: monospace;font-weight: bold;display: inline-block;line-height: 1.2em;}#sk-container-id-2 div.sk-label-container {text-align: center;}#sk-container-id-2 div.sk-container {/* jupyter's `normalize.less` sets `[hidden] { display: none; }` but bootstrap.min.css set `[hidden] { display: none !important; }` so we also need the `!important` here to be able to override the default hidden behavior on the sphinx rendered scikit-learn.org. See: https://github.com/scikit-learn/scikit-learn/issues/21755 */display: inline-block !important;position: relative;}#sk-container-id-2 div.sk-text-repr-fallback {display: none;}</style><div id=\"sk-container-id-2\" class=\"sk-top-container\"><div class=\"sk-text-repr-fallback\"><pre>GridSearchCV(error_score=&#x27;raise&#x27;,\n",
       "             estimator=LatentDirichletAllocation(learning_method=None,\n",
       "                                                 n_jobs=1),\n",
       "             n_jobs=1, param_grid={&#x27;learning_decay&#x27;: [0.5, 0.7, 0.9]},\n",
       "             return_train_score=&#x27;warn&#x27;)</pre><b>In a Jupyter environment, please rerun this cell to show the HTML representation or trust the notebook. <br />On GitHub, the HTML representation is unable to render, please try loading this page with nbviewer.org.</b></div><div class=\"sk-container\" hidden><div class=\"sk-item sk-dashed-wrapped\"><div class=\"sk-label-container\"><div class=\"sk-label sk-toggleable\"><input class=\"sk-toggleable__control sk-hidden--visually\" id=\"sk-estimator-id-2\" type=\"checkbox\" ><label for=\"sk-estimator-id-2\" class=\"sk-toggleable__label sk-toggleable__label-arrow\">GridSearchCV</label><div class=\"sk-toggleable__content\"><pre>GridSearchCV(error_score=&#x27;raise&#x27;,\n",
       "             estimator=LatentDirichletAllocation(learning_method=None,\n",
       "                                                 n_jobs=1),\n",
       "             n_jobs=1, param_grid={&#x27;learning_decay&#x27;: [0.5, 0.7, 0.9]},\n",
       "             return_train_score=&#x27;warn&#x27;)</pre></div></div></div><div class=\"sk-parallel\"><div class=\"sk-parallel-item\"><div class=\"sk-item\"><div class=\"sk-label-container\"><div class=\"sk-label sk-toggleable\"><input class=\"sk-toggleable__control sk-hidden--visually\" id=\"sk-estimator-id-3\" type=\"checkbox\" ><label for=\"sk-estimator-id-3\" class=\"sk-toggleable__label sk-toggleable__label-arrow\">estimator: LatentDirichletAllocation</label><div class=\"sk-toggleable__content\"><pre>LatentDirichletAllocation(learning_method=None, n_jobs=1)</pre></div></div></div><div class=\"sk-serial\"><div class=\"sk-item\"><div class=\"sk-estimator sk-toggleable\"><input class=\"sk-toggleable__control sk-hidden--visually\" id=\"sk-estimator-id-4\" type=\"checkbox\" ><label for=\"sk-estimator-id-4\" class=\"sk-toggleable__label sk-toggleable__label-arrow\">LatentDirichletAllocation</label><div class=\"sk-toggleable__content\"><pre>LatentDirichletAllocation(learning_method=None, n_jobs=1)</pre></div></div></div></div></div></div></div></div></div></div>"
      ],
      "text/plain": [
       "GridSearchCV(error_score='raise',\n",
       "             estimator=LatentDirichletAllocation(learning_method=None,\n",
       "                                                 n_jobs=1),\n",
       "             n_jobs=1, param_grid={'learning_decay': [0.5, 0.7, 0.9]},\n",
       "             return_train_score='warn')"
      ]
     },
     "execution_count": 160,
     "metadata": {},
     "output_type": "execute_result"
    }
   ],
   "source": [
    "from sklearn.model_selection import GridSearchCV\n",
    "# Define Search Param\n",
    "search_params = {'n_components': [1,2,3,4,5], 'learning_decay': [.5, .7, .9]}\n",
    "# Init the Model\n",
    "lda = LatentDirichletAllocation(max_iter=5, learning_method='online', learning_offset=50.,random_state=0)\n",
    "# Init Grid Search Class\n",
    "model = GridSearchCV(lda, param_grid=search_params)\n",
    "# Do the Grid Search\n",
    "model.fit(vectorized_text)\n",
    "GridSearchCV(cv=None, error_score='raise',\n",
    "       estimator=LatentDirichletAllocation(batch_size=128, doc_topic_prior=None,\n",
    "             evaluate_every=-1, learning_decay=0.7, learning_method=None,\n",
    "             learning_offset=10.0, max_doc_update_iter=100, max_iter=10,\n",
    "             mean_change_tol=0.001, n_components=10, n_jobs=1,\n",
    "             perp_tol=0.1, random_state=None,\n",
    "             topic_word_prior=None, total_samples=1000000.0, verbose=0), n_jobs=1,\n",
    "             param_grid={'learning_decay': [0.5, 0.7, 0.9]},\n",
    "             pre_dispatch='2*n_jobs', refit=True, return_train_score='warn',\n",
    "             verbose=0)"
   ]
  },
  {
   "cell_type": "code",
   "execution_count": 161,
   "id": "12db7043",
   "metadata": {},
   "outputs": [
    {
     "name": "stdout",
     "output_type": "stream",
     "text": [
      "Best Model's Params:  {'learning_decay': 0.9, 'n_components': 1}\n",
      "Best Log Likelihood Score:  -36195.64129151554\n",
      "Model Perplexity:  1890.0796887448364\n"
     ]
    }
   ],
   "source": [
    "# Best Model\n",
    "best_lda_model = model.best_estimator_\n",
    "# Model Parameters\n",
    "print(\"Best Model's Params: \", model.best_params_)\n",
    "# Log Likelihood Score\n",
    "print(\"Best Log Likelihood Score: \", model.best_score_)\n",
    "# Perplexity\n",
    "print(\"Model Perplexity: \", best_lda_model.perplexity(vectorized_text))"
   ]
  },
  {
   "cell_type": "markdown",
   "id": "2a4c2a4c",
   "metadata": {},
   "source": [
    "# Model for Topic Modelling"
   ]
  },
  {
   "cell_type": "code",
   "execution_count": 15,
   "id": "ee6a5baa",
   "metadata": {},
   "outputs": [],
   "source": [
    "from sklearn.svm import SVC\n",
    "from sklearn.model_selection import train_test_split"
   ]
  },
  {
   "cell_type": "code",
   "execution_count": 17,
   "id": "6d010f04",
   "metadata": {},
   "outputs": [],
   "source": [
    "x_train, x_test, y_train, y_test = train_test_split(lda_topics, df['dominant_topic'], test_size = 0.2, random_state = 1)"
   ]
  },
  {
   "cell_type": "code",
   "execution_count": 18,
   "id": "84aacc96",
   "metadata": {},
   "outputs": [
    {
     "data": {
      "text/plain": [
       "dominant_topic\n",
       "2                 2632\n",
       "1                 1214\n",
       "0                  340\n",
       "3                  169\n",
       "dtype: int64"
      ]
     },
     "execution_count": 18,
     "metadata": {},
     "output_type": "execute_result"
    }
   ],
   "source": [
    "pd.DataFrame(y_train).value_counts()"
   ]
  },
  {
   "cell_type": "code",
   "execution_count": 19,
   "id": "8c93948c",
   "metadata": {},
   "outputs": [],
   "source": [
    "svc = SVC(C=1.0, random_state=1, kernel='poly')"
   ]
  },
  {
   "cell_type": "code",
   "execution_count": 20,
   "id": "c2b6cccc",
   "metadata": {},
   "outputs": [
    {
     "data": {
      "text/html": [
       "<style>#sk-container-id-1 {color: black;background-color: white;}#sk-container-id-1 pre{padding: 0;}#sk-container-id-1 div.sk-toggleable {background-color: white;}#sk-container-id-1 label.sk-toggleable__label {cursor: pointer;display: block;width: 100%;margin-bottom: 0;padding: 0.3em;box-sizing: border-box;text-align: center;}#sk-container-id-1 label.sk-toggleable__label-arrow:before {content: \"▸\";float: left;margin-right: 0.25em;color: #696969;}#sk-container-id-1 label.sk-toggleable__label-arrow:hover:before {color: black;}#sk-container-id-1 div.sk-estimator:hover label.sk-toggleable__label-arrow:before {color: black;}#sk-container-id-1 div.sk-toggleable__content {max-height: 0;max-width: 0;overflow: hidden;text-align: left;background-color: #f0f8ff;}#sk-container-id-1 div.sk-toggleable__content pre {margin: 0.2em;color: black;border-radius: 0.25em;background-color: #f0f8ff;}#sk-container-id-1 input.sk-toggleable__control:checked~div.sk-toggleable__content {max-height: 200px;max-width: 100%;overflow: auto;}#sk-container-id-1 input.sk-toggleable__control:checked~label.sk-toggleable__label-arrow:before {content: \"▾\";}#sk-container-id-1 div.sk-estimator input.sk-toggleable__control:checked~label.sk-toggleable__label {background-color: #d4ebff;}#sk-container-id-1 div.sk-label input.sk-toggleable__control:checked~label.sk-toggleable__label {background-color: #d4ebff;}#sk-container-id-1 input.sk-hidden--visually {border: 0;clip: rect(1px 1px 1px 1px);clip: rect(1px, 1px, 1px, 1px);height: 1px;margin: -1px;overflow: hidden;padding: 0;position: absolute;width: 1px;}#sk-container-id-1 div.sk-estimator {font-family: monospace;background-color: #f0f8ff;border: 1px dotted black;border-radius: 0.25em;box-sizing: border-box;margin-bottom: 0.5em;}#sk-container-id-1 div.sk-estimator:hover {background-color: #d4ebff;}#sk-container-id-1 div.sk-parallel-item::after {content: \"\";width: 100%;border-bottom: 1px solid gray;flex-grow: 1;}#sk-container-id-1 div.sk-label:hover label.sk-toggleable__label {background-color: #d4ebff;}#sk-container-id-1 div.sk-serial::before {content: \"\";position: absolute;border-left: 1px solid gray;box-sizing: border-box;top: 0;bottom: 0;left: 50%;z-index: 0;}#sk-container-id-1 div.sk-serial {display: flex;flex-direction: column;align-items: center;background-color: white;padding-right: 0.2em;padding-left: 0.2em;position: relative;}#sk-container-id-1 div.sk-item {position: relative;z-index: 1;}#sk-container-id-1 div.sk-parallel {display: flex;align-items: stretch;justify-content: center;background-color: white;position: relative;}#sk-container-id-1 div.sk-item::before, #sk-container-id-1 div.sk-parallel-item::before {content: \"\";position: absolute;border-left: 1px solid gray;box-sizing: border-box;top: 0;bottom: 0;left: 50%;z-index: -1;}#sk-container-id-1 div.sk-parallel-item {display: flex;flex-direction: column;z-index: 1;position: relative;background-color: white;}#sk-container-id-1 div.sk-parallel-item:first-child::after {align-self: flex-end;width: 50%;}#sk-container-id-1 div.sk-parallel-item:last-child::after {align-self: flex-start;width: 50%;}#sk-container-id-1 div.sk-parallel-item:only-child::after {width: 0;}#sk-container-id-1 div.sk-dashed-wrapped {border: 1px dashed gray;margin: 0 0.4em 0.5em 0.4em;box-sizing: border-box;padding-bottom: 0.4em;background-color: white;}#sk-container-id-1 div.sk-label label {font-family: monospace;font-weight: bold;display: inline-block;line-height: 1.2em;}#sk-container-id-1 div.sk-label-container {text-align: center;}#sk-container-id-1 div.sk-container {/* jupyter's `normalize.less` sets `[hidden] { display: none; }` but bootstrap.min.css set `[hidden] { display: none !important; }` so we also need the `!important` here to be able to override the default hidden behavior on the sphinx rendered scikit-learn.org. See: https://github.com/scikit-learn/scikit-learn/issues/21755 */display: inline-block !important;position: relative;}#sk-container-id-1 div.sk-text-repr-fallback {display: none;}</style><div id=\"sk-container-id-1\" class=\"sk-top-container\"><div class=\"sk-text-repr-fallback\"><pre>SVC(kernel=&#x27;poly&#x27;, random_state=1)</pre><b>In a Jupyter environment, please rerun this cell to show the HTML representation or trust the notebook. <br />On GitHub, the HTML representation is unable to render, please try loading this page with nbviewer.org.</b></div><div class=\"sk-container\" hidden><div class=\"sk-item\"><div class=\"sk-estimator sk-toggleable\"><input class=\"sk-toggleable__control sk-hidden--visually\" id=\"sk-estimator-id-1\" type=\"checkbox\" checked><label for=\"sk-estimator-id-1\" class=\"sk-toggleable__label sk-toggleable__label-arrow\">SVC</label><div class=\"sk-toggleable__content\"><pre>SVC(kernel=&#x27;poly&#x27;, random_state=1)</pre></div></div></div></div></div>"
      ],
      "text/plain": [
       "SVC(kernel='poly', random_state=1)"
      ]
     },
     "execution_count": 20,
     "metadata": {},
     "output_type": "execute_result"
    }
   ],
   "source": [
    "svc.fit(x_train, y_train)"
   ]
  },
  {
   "cell_type": "code",
   "execution_count": 21,
   "id": "f8ce26af",
   "metadata": {},
   "outputs": [],
   "source": [
    "x_test_predicted = svc.predict(x_test)"
   ]
  },
  {
   "cell_type": "code",
   "execution_count": 22,
   "id": "0f05dc12",
   "metadata": {},
   "outputs": [
    {
     "data": {
      "text/plain": [
       "1079"
      ]
     },
     "execution_count": 22,
     "metadata": {},
     "output_type": "execute_result"
    }
   ],
   "source": [
    "np.sum(x_test_predicted == y_test)"
   ]
  },
  {
   "cell_type": "code",
   "execution_count": 23,
   "id": "48cd1e1b",
   "metadata": {},
   "outputs": [
    {
     "data": {
      "text/plain": [
       "0.9908172635445363"
      ]
     },
     "execution_count": 23,
     "metadata": {},
     "output_type": "execute_result"
    }
   ],
   "source": [
    "np.sum(x_test_predicted == y_test)/y_test.shape[0]"
   ]
  },
  {
   "cell_type": "code",
   "execution_count": null,
   "id": "d3477376",
   "metadata": {},
   "outputs": [],
   "source": []
  }
 ],
 "metadata": {
  "kernelspec": {
   "display_name": "Python 3 (ipykernel)",
   "language": "python",
   "name": "python3"
  },
  "language_info": {
   "codemirror_mode": {
    "name": "ipython",
    "version": 3
   },
   "file_extension": ".py",
   "mimetype": "text/x-python",
   "name": "python",
   "nbconvert_exporter": "python",
   "pygments_lexer": "ipython3",
   "version": "3.9.7"
  }
 },
 "nbformat": 4,
 "nbformat_minor": 5
}
