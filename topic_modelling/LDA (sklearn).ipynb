{
 "cells": [
  {
   "cell_type": "code",
   "execution_count": 1,
   "id": "fd214bba",
   "metadata": {},
   "outputs": [],
   "source": [
    "import pandas as pd\n",
    "import numpy as np\n",
    "import re\n",
    "import matplotlib.pyplot as plt\n",
    "\n",
    "import nltk\n",
    "from nltk.corpus import stopwords\n",
    "from nltk.stem import PorterStemmer\n",
    "from nltk.stem import WordNetLemmatizer\n",
    "\n",
    "from sklearn.decomposition import LatentDirichletAllocation\n",
    "from sklearn.feature_extraction.text import TfidfVectorizer"
   ]
  },
  {
   "cell_type": "markdown",
   "id": "a040b813",
   "metadata": {},
   "source": [
    "# Read in Dataset"
   ]
  },
  {
   "cell_type": "code",
   "execution_count": 2,
   "id": "5028a25c",
   "metadata": {},
   "outputs": [
    {
     "data": {
      "text/html": [
       "<div>\n",
       "<style scoped>\n",
       "    .dataframe tbody tr th:only-of-type {\n",
       "        vertical-align: middle;\n",
       "    }\n",
       "\n",
       "    .dataframe tbody tr th {\n",
       "        vertical-align: top;\n",
       "    }\n",
       "\n",
       "    .dataframe thead th {\n",
       "        text-align: right;\n",
       "    }\n",
       "</style>\n",
       "<table border=\"1\" class=\"dataframe\">\n",
       "  <thead>\n",
       "    <tr style=\"text-align: right;\">\n",
       "      <th></th>\n",
       "      <th>Sentiment</th>\n",
       "      <th>Time</th>\n",
       "      <th>Text</th>\n",
       "      <th>processed_text</th>\n",
       "    </tr>\n",
       "  </thead>\n",
       "  <tbody>\n",
       "    <tr>\n",
       "      <th>0</th>\n",
       "      <td>0</td>\n",
       "      <td>18/6/21</td>\n",
       "      <td>This is a very healthy dog food. Good for thei...</td>\n",
       "      <td>healthy dog food good digestion also good smal...</td>\n",
       "    </tr>\n",
       "    <tr>\n",
       "      <th>1</th>\n",
       "      <td>0</td>\n",
       "      <td>7/7/21</td>\n",
       "      <td>I've been very pleased with the Natural Balanc...</td>\n",
       "      <td>pleased natural balance dog food dog issue dog...</td>\n",
       "    </tr>\n",
       "    <tr>\n",
       "      <th>2</th>\n",
       "      <td>0</td>\n",
       "      <td>18/6/21</td>\n",
       "      <td>Before I was educated about feline nutrition, ...</td>\n",
       "      <td>educate feline nutrition allow cat become addi...</td>\n",
       "    </tr>\n",
       "    <tr>\n",
       "      <th>3</th>\n",
       "      <td>0</td>\n",
       "      <td>7/7/21</td>\n",
       "      <td>My holistic vet recommended this, along with a...</td>\n",
       "      <td>holistic vet recommend along brand try cat pre...</td>\n",
       "    </tr>\n",
       "    <tr>\n",
       "      <th>4</th>\n",
       "      <td>0</td>\n",
       "      <td>1/7/21</td>\n",
       "      <td>I bought this coffee because its much cheaper ...</td>\n",
       "      <td>buy coffee much cheaper ganocafe organic reish...</td>\n",
       "    </tr>\n",
       "    <tr>\n",
       "      <th>...</th>\n",
       "      <td>...</td>\n",
       "      <td>...</td>\n",
       "      <td>...</td>\n",
       "      <td>...</td>\n",
       "    </tr>\n",
       "    <tr>\n",
       "      <th>5439</th>\n",
       "      <td>1</td>\n",
       "      <td>26/2/21</td>\n",
       "      <td>This is an okay gift box, only if you like med...</td>\n",
       "      <td>okay gift box like mediocre cheese summer saus...</td>\n",
       "    </tr>\n",
       "    <tr>\n",
       "      <th>5440</th>\n",
       "      <td>1</td>\n",
       "      <td>18/12/19</td>\n",
       "      <td>It looks llike I just walked into a raw deal. ...</td>\n",
       "      <td>look llike walked raw deal item intolerably st...</td>\n",
       "    </tr>\n",
       "    <tr>\n",
       "      <th>5441</th>\n",
       "      <td>1</td>\n",
       "      <td>19/1/20</td>\n",
       "      <td>Thank god that i tasted the metal before i swa...</td>\n",
       "      <td>thank god taste metal swallow dont even get ge...</td>\n",
       "    </tr>\n",
       "    <tr>\n",
       "      <th>5442</th>\n",
       "      <td>1</td>\n",
       "      <td>13/9/20</td>\n",
       "      <td>This product was very good when I began buying...</td>\n",
       "      <td>product good begin buy lately terrible taste r...</td>\n",
       "    </tr>\n",
       "    <tr>\n",
       "      <th>5443</th>\n",
       "      <td>1</td>\n",
       "      <td>10/7/20</td>\n",
       "      <td>Once again, Paragon has disappointed with this...</td>\n",
       "      <td>paragon disappoint flavor hawaiian tropic simp...</td>\n",
       "    </tr>\n",
       "  </tbody>\n",
       "</table>\n",
       "<p>5444 rows × 4 columns</p>\n",
       "</div>"
      ],
      "text/plain": [
       "      Sentiment      Time                                               Text  \\\n",
       "0             0   18/6/21  This is a very healthy dog food. Good for thei...   \n",
       "1             0    7/7/21  I've been very pleased with the Natural Balanc...   \n",
       "2             0   18/6/21  Before I was educated about feline nutrition, ...   \n",
       "3             0    7/7/21  My holistic vet recommended this, along with a...   \n",
       "4             0    1/7/21  I bought this coffee because its much cheaper ...   \n",
       "...         ...       ...                                                ...   \n",
       "5439          1   26/2/21  This is an okay gift box, only if you like med...   \n",
       "5440          1  18/12/19  It looks llike I just walked into a raw deal. ...   \n",
       "5441          1   19/1/20  Thank god that i tasted the metal before i swa...   \n",
       "5442          1   13/9/20  This product was very good when I began buying...   \n",
       "5443          1   10/7/20  Once again, Paragon has disappointed with this...   \n",
       "\n",
       "                                         processed_text  \n",
       "0     healthy dog food good digestion also good smal...  \n",
       "1     pleased natural balance dog food dog issue dog...  \n",
       "2     educate feline nutrition allow cat become addi...  \n",
       "3     holistic vet recommend along brand try cat pre...  \n",
       "4     buy coffee much cheaper ganocafe organic reish...  \n",
       "...                                                 ...  \n",
       "5439  okay gift box like mediocre cheese summer saus...  \n",
       "5440  look llike walked raw deal item intolerably st...  \n",
       "5441  thank god taste metal swallow dont even get ge...  \n",
       "5442  product good begin buy lately terrible taste r...  \n",
       "5443  paragon disappoint flavor hawaiian tropic simp...  \n",
       "\n",
       "[5444 rows x 4 columns]"
      ]
     },
     "execution_count": 2,
     "metadata": {},
     "output_type": "execute_result"
    }
   ],
   "source": [
    "df = pd.read_csv('../data/curated/reviews/yiting_cleaned_reviews.csv')\n",
    "df"
   ]
  },
  {
   "cell_type": "markdown",
   "id": "8cd7d5b6",
   "metadata": {},
   "source": [
    "# TF-IDF"
   ]
  },
  {
   "cell_type": "code",
   "execution_count": 5,
   "id": "6009ae73",
   "metadata": {},
   "outputs": [],
   "source": [
    "vectorizer = TfidfVectorizer(max_features = 1000, min_df = 3, sublinear_tf = True)\n",
    "vectorized_text = vectorizer.fit_transform(df['processed_text'])"
   ]
  },
  {
   "cell_type": "code",
   "execution_count": 6,
   "id": "08586682",
   "metadata": {},
   "outputs": [
    {
     "data": {
      "text/plain": [
       "(5444, 1000)"
      ]
     },
     "execution_count": 6,
     "metadata": {},
     "output_type": "execute_result"
    }
   ],
   "source": [
    "vectorized_text.shape"
   ]
  },
  {
   "cell_type": "code",
   "execution_count": 7,
   "id": "dcf056d6",
   "metadata": {},
   "outputs": [
    {
     "data": {
      "text/plain": [
       "array(['able', 'absolutely', 'acid', 'actual', 'actually', 'add',\n",
       "       'addition', 'admit', 'adult', 'afternoon', 'aftertaste', 'age',\n",
       "       'ago', 'agree', 'air', 'allergy', 'allow', 'almond', 'almost',\n",
       "       'alone', 'along', 'already', 'also', 'alternative', 'although',\n",
       "       'always', 'amaze', 'amazing', 'amazon', 'amount', 'animal',\n",
       "       'another', 'anymore', 'anyone', 'anything', 'anyway', 'anywhere',\n",
       "       'appear', 'apple', 'area', 'aroma', 'around', 'arrive',\n",
       "       'artificial', 'asian', 'ask', 'assume', 'ate', 'available',\n",
       "       'avoid', 'aware', 'away', 'awesome', 'awful', 'baby', 'back',\n",
       "       'bad', 'bag', 'bake', 'balance', 'ball', 'banana', 'bar', 'barely',\n",
       "       'bargain', 'base', 'basically', 'batch', 'bbq', 'bean', 'beat',\n",
       "       'become', 'beef', 'begin', 'believe', 'benefit', 'berry', 'best',\n",
       "       'better', 'beverage', 'big', 'biscuit', 'bisquick', 'bit', 'bite',\n",
       "       'bitter', 'black', 'bland', 'blend', 'blood', 'blue', 'blueberry',\n",
       "       'body', 'boil', 'bold', 'bone', 'bottle', 'bottom', 'bought',\n",
       "       'bowl', 'box', 'bpa', 'brand', 'bread', 'break', 'breakfast',\n",
       "       'breast', 'brew', 'brewer', 'bring', 'broken', 'brown', 'buck',\n",
       "       'bulk', 'bunch', 'burn', 'burnt', 'business', 'butter', 'buy',\n",
       "       'buying', 'cacao', 'caffeine', 'cake', 'call', 'calorie', 'can',\n",
       "       'candy', 'caramel', 'carb', 'carbonate', 'carbonation', 'carbs',\n",
       "       'care', 'careful', 'carrot', 'carry', 'case', 'cat', 'cause',\n",
       "       'cent', 'cereal', 'certainly', 'chai', 'chance', 'change',\n",
       "       'charge', 'cheap', 'cheaper', 'check', 'cheddar', 'cheese',\n",
       "       'chemical', 'cherry', 'chew', 'chewy', 'chicken', 'child', 'chili',\n",
       "       'china', 'chip', 'chocolate', 'choice', 'cholesterol', 'chop',\n",
       "       'christmas', 'chunk', 'cinnamon', 'claim', 'clean', 'clear',\n",
       "       'close', 'co', 'coat', 'cocoa', 'coconut', 'coffee', 'cold',\n",
       "       'color', 'com', 'combination', 'come', 'comment', 'company',\n",
       "       'compare', 'complain', 'complaint', 'completely', 'concentrate',\n",
       "       'concern', 'condition', 'consider', 'consistency', 'consume',\n",
       "       'contact', 'contain', 'container', 'contains', 'content',\n",
       "       'continue', 'control', 'convenience', 'convenient', 'cook',\n",
       "       'cookie', 'cooking', 'cooky', 'cool', 'corn', 'cost', 'costco',\n",
       "       'could', 'count', 'country', 'couple', 'course', 'cover',\n",
       "       'cracker', 'crave', 'crazy', 'cream', 'creamy', 'create', 'crisp',\n",
       "       'crispy', 'crunch', 'crunchy', 'crystal', 'cup', 'curry',\n",
       "       'customer', 'cut', 'daily', 'dairy', 'dark', 'date', 'daughter',\n",
       "       'day', 'deal', 'decaf', 'decent', 'decide', 'definitely',\n",
       "       'delicious', 'deliver', 'delivery', 'dent', 'describe',\n",
       "       'description', 'die', 'diet', 'difference', 'different',\n",
       "       'difficult', 'dinner', 'dip', 'direction', 'directly',\n",
       "       'disappoint', 'disappointed', 'disappointing', 'disappointment',\n",
       "       'discover', 'dish', 'dissolve', 'do', 'dog', 'dollar', 'dont',\n",
       "       'double', 'dress', 'drink', 'drinker', 'drinking', 'drop', 'dry',\n",
       "       'due', 'earth', 'easier', 'easily', 'easy', 'eat', 'eater',\n",
       "       'eating', 'effect', 'egg', 'either', 'else', 'elsewhere', 'end',\n",
       "       'energy', 'enjoy', 'enough', 'entire', 'especially', 'espresso',\n",
       "       'etc', 'even', 'ever', 'every', 'everyday', 'everyone',\n",
       "       'everything', 'exactly', 'excellent', 'except', 'excite', 'expect',\n",
       "       'expensive', 'experience', 'expiration', 'extra', 'extract',\n",
       "       'extremely', 'fact', 'fair', 'fairly', 'fall', 'family', 'fan',\n",
       "       'fantastic', 'far', 'fast', 'fat', 'favor', 'favorite', 'fda',\n",
       "       'feed', 'feel', 'fell', 'felt', 'fiber', 'figure', 'fill',\n",
       "       'filter', 'finally', 'find', 'fine', 'finish', 'first', 'fish',\n",
       "       'fit', 'five', 'fix', 'flavor', 'flavored', 'flavorful', 'flavour',\n",
       "       'flour', 'follow', 'food', 'form', 'formula', 'forward', 'four',\n",
       "       'free', 'french', 'fresh', 'freshness', 'fridge', 'friend',\n",
       "       'frost', 'fruit', 'fry', 'full', 'fun', 'future', 'garlic',\n",
       "       'general', 'generally', 'get', 'gf', 'gift', 'ginger', 'give',\n",
       "       'glad', 'glass', 'gluten', 'go', 'good', 'gourmet', 'graham',\n",
       "       'grain', 'gram', 'granola', 'grape', 'gravy', 'great', 'green',\n",
       "       'grind', 'grocery', 'ground', 'grove', 'grow', 'guess', 'guest',\n",
       "       'gum', 'hair', 'half', 'hand', 'happen', 'happy', 'hard', 'hate',\n",
       "       'hazelnut', 'health', 'healthier', 'healthy', 'hear', 'heat',\n",
       "       'heavy', 'help', 'hemp', 'herb', 'high', 'higher', 'highly',\n",
       "       'hint', 'hit', 'hold', 'home', 'homemade', 'honestly', 'honey',\n",
       "       'hop', 'hope', 'horrible', 'hot', 'hour', 'house', 'however',\n",
       "       'huge', 'hungry', 'husband', 'ice', 'iced', 'idea', 'imagine',\n",
       "       'immediately', 'important', 'impressed', 'include', 'increase',\n",
       "       'individual', 'individually', 'information', 'ingredient',\n",
       "       'inside', 'instant', 'instead', 'instruction', 'internet', 'issue',\n",
       "       'italian', 'item', 'jar', 'jelly', 'jerky', 'job', 'juice', 'junk',\n",
       "       'keep', 'kettle', 'keurig', 'kick', 'kid', 'kind', 'kitchen',\n",
       "       'know', 'kona', 'label', 'lack', 'large', 'larger', 'last',\n",
       "       'later', 'lb', 'leaf', 'learn', 'least', 'leave', 'lemon', 'less',\n",
       "       'let', 'level', 'licorice', 'lid', 'life', 'light', 'like', 'lime',\n",
       "       'line', 'lipton', 'liquid', 'list', 'little', 'live', 'load',\n",
       "       'local', 'locally', 'long', 'longer', 'look', 'loose', 'lose',\n",
       "       'lot', 'love', 'lover', 'low', 'lower', 'lunch', 'machine', 'make',\n",
       "       'maker', 'manufacturer', 'many', 'maple', 'market', 'matter',\n",
       "       'may', 'maybe', 'meal', 'mean', 'measure', 'meat', 'medium',\n",
       "       'melt', 'mention', 'mess', 'mg', 'microwave', 'might', 'mild',\n",
       "       'milk', 'mill', 'mind', 'mine', 'mint', 'minute', 'miss',\n",
       "       'mistake', 'mix', 'mixed', 'moist', 'mom', 'money', 'month',\n",
       "       'morning', 'mostly', 'mother', 'mountain', 'mouth', 'move', 'msg',\n",
       "       'much', 'muffin', 'must', 'name', 'nasty', 'natural', 'near',\n",
       "       'nearly', 'need', 'negative', 'never', 'new', 'newman', 'next',\n",
       "       'nice', 'nicely', 'night', 'non', 'none', 'noodle', 'normal',\n",
       "       'normally', 'note', 'nothing', 'notice', 'number', 'nut',\n",
       "       'nutrition', 'nutritional', 'nutty', 'oat', 'oatmeal', 'offer',\n",
       "       'office', 'often', 'oh', 'oil', 'ok', 'okay', 'old', 'olive',\n",
       "       'one', 'onion', 'online', 'open', 'opinion', 'option', 'orange',\n",
       "       'order', 'ordered', 'organic', 'original', 'others', 'otherwise',\n",
       "       'ounce', 'outside', 'overall', 'overly', 'overpower', 'oz', 'pack',\n",
       "       'package', 'packaging', 'packet', 'pancake', 'paper', 'part',\n",
       "       'particular', 'party', 'past', 'pasta', 'paste', 'pay', 'peach',\n",
       "       'peanut', 'people', 'pepper', 'peppermint', 'per', 'perfect',\n",
       "       'perfectly', 'perhaps', 'person', 'personally', 'pet', 'pick',\n",
       "       'picky', 'picture', 'piece', 'pineapple', 'place', 'plain', 'plan',\n",
       "       'plant', 'plastic', 'pleasant', 'pleasantly', 'please', 'pleased',\n",
       "       'plenty', 'plus', 'pod', 'point', 'pomegranate', 'poor', 'pop',\n",
       "       'popcorn', 'pork', 'portion', 'positive', 'possible', 'pot',\n",
       "       'potato', 'pouch', 'pound', 'pour', 'powder', 'prefer', 'premium',\n",
       "       'prepare', 'pretty', 'price', 'pricey', 'prime', 'probably',\n",
       "       'problem', 'process', 'produce', 'product', 'program', 'protein',\n",
       "       'provide', 'pull', 'pumpkin', 'purchase', 'pure', 'put', 'quality',\n",
       "       'quantity', 'quick', 'quickly', 'quite', 'raisin', 'raspberry',\n",
       "       'rate', 'rather', 'rating', 'raw', 'read', 'ready', 'real',\n",
       "       'realize', 'really', 'reason', 'reasonable', 'receive', 'recently',\n",
       "       'recipe', 'recommend', 'red', 'reduce', 'refresh', 'refund',\n",
       "       'regular', 'regularly', 'remember', 'remind', 'replace',\n",
       "       'replacement', 'report', 'require', 'research', 'rest',\n",
       "       'restaurant', 'result', 'return', 'review', 'reviewer', 'rice',\n",
       "       'rich', 'right', 'rind', 'rise', 'roast', 'roll', 'run', 'salad',\n",
       "       'sale', 'salt', 'salty', 'sample', 'sandwich', 'sardine',\n",
       "       'satisfy', 'sauce', 'save', 'saw', 'say', 'science', 'sea', 'seal',\n",
       "       'search', 'season', 'second', 'see', 'seed', 'seem', 'sell',\n",
       "       'seller', 'send', 'serve', 'service', 'serving', 'set', 'several',\n",
       "       'shake', 'shape', 'share', 'shelf', 'shell', 'ship', 'shipment',\n",
       "       'shipping', 'shop', 'short', 'shot', 'show', 'sick', 'side',\n",
       "       'similar', 'simple', 'simply', 'since', 'single', 'sit', 'site',\n",
       "       'six', 'size', 'skin', 'slice', 'slight', 'slightly', 'small',\n",
       "       'smaller', 'smell', 'smoke', 'smooth', 'snack', 'soda', 'sodium',\n",
       "       'soft', 'solid', 'someone', 'something', 'sometimes', 'somewhat',\n",
       "       'son', 'soon', 'sorry', 'sort', 'sound', 'soup', 'sour', 'source',\n",
       "       'soy', 'special', 'spend', 'spice', 'spicy', 'splenda', 'spread',\n",
       "       'spring', 'square', 'stale', 'stand', 'standard', 'staple', 'star',\n",
       "       'starbucks', 'start', 'state', 'stay', 'stevia', 'stick', 'sticky',\n",
       "       'still', 'stir', 'stock', 'stomach', 'stool', 'stop', 'store',\n",
       "       'strange', 'strawberry', 'strong', 'stuff', 'style', 'subscribe',\n",
       "       'subscription', 'substitute', 'subtle', 'sugar', 'sugary',\n",
       "       'suggest', 'summer', 'super', 'supermarket', 'supplement',\n",
       "       'supply', 'suppose', 'sure', 'surprise', 'surprised', 'sweet',\n",
       "       'sweeten', 'sweetener', 'sweetness', 'swiss', 'switch', 'syrup',\n",
       "       'table', 'tablespoon', 'take', 'tangerine', 'tart', 'taste',\n",
       "       'tasteless', 'tasting', 'tasty', 'tea', 'teeth', 'tell',\n",
       "       'terrible', 'test', 'texture', 'thank', 'thanks', 'thick', 'thin',\n",
       "       'thing', 'think', 'though', 'thought', 'three', 'throw', 'time',\n",
       "       'tiny', 'toast', 'today', 'together', 'tomato', 'tooth', 'top',\n",
       "       'toss', 'total', 'totally', 'touch', 'tough', 'trader',\n",
       "       'traditional', 'trans', 'trash', 'travel', 'treat', 'tried',\n",
       "       'trip', 'true', 'truffle', 'truly', 'trust', 'try', 'tuna',\n",
       "       'turkey', 'turn', 'twice', 'two', 'type', 'understand',\n",
       "       'unfortunately', 'unless', 'unlike', 'update', 'upon', 'us', 'usa',\n",
       "       'use', 'usual', 'usually', 'value', 'vanilla', 'variety', 'vegan',\n",
       "       'vegetable', 'veggie', 'version', 'vet', 'vinegar', 'vitamin',\n",
       "       'vomit', 'waffle', 'wait', 'walmart', 'walnut', 'want', 'warm',\n",
       "       'waste', 'watch', 'water', 'watery', 'way', 'weak', 'website',\n",
       "       'week', 'weight', 'weird', 'well', 'whatever', 'wheat', 'whenever',\n",
       "       'whether', 'white', 'whole', 'wife', 'wish', 'within', 'without',\n",
       "       'wonder', 'wonderful', 'word', 'work', 'world', 'worry', 'worse',\n",
       "       'worst', 'worth', 'would', 'wow', 'wrap', 'wrapper', 'write',\n",
       "       'wrong', 'year', 'yes', 'yet', 'yogurt', 'yummy'], dtype=object)"
      ]
     },
     "execution_count": 7,
     "metadata": {},
     "output_type": "execute_result"
    }
   ],
   "source": [
    "vectorizer.get_feature_names_out()"
   ]
  },
  {
   "cell_type": "markdown",
   "id": "bb514ef3",
   "metadata": {},
   "source": [
    "# LDA"
   ]
  },
  {
   "cell_type": "code",
   "execution_count": 26,
   "id": "8f620fed",
   "metadata": {},
   "outputs": [],
   "source": [
    "lda_model = LatentDirichletAllocation(n_components = 4, \n",
    "                                      learning_method = 'online',\n",
    "                                      random_state = 42)\n",
    "\n",
    "lda_topics = lda_model.fit_transform(vectorized_text)"
   ]
  },
  {
   "cell_type": "code",
   "execution_count": 27,
   "id": "9bd603da",
   "metadata": {},
   "outputs": [
    {
     "name": "stdout",
     "output_type": "stream",
     "text": [
      "-161749.9024621396\n",
      "1260.9737478668708\n"
     ]
    }
   ],
   "source": [
    "# Log Likelyhood: Higher the better\n",
    "print(lda_model.score(vectorized_text))\n",
    "\n",
    "# Perplexity: Lower the better. Perplexity = exp(-1. * log-likelihood per word)\n",
    "print(lda_model.perplexity(vectorized_text))"
   ]
  },
  {
   "cell_type": "code",
   "execution_count": 28,
   "id": "1617c059",
   "metadata": {},
   "outputs": [
    {
     "data": {
      "text/plain": [
       "(4, 1000)"
      ]
     },
     "execution_count": 28,
     "metadata": {},
     "output_type": "execute_result"
    }
   ],
   "source": [
    "# lda component: for each topic, the prob of each word in the vocabulary\n",
    "lda_model.components_.shape"
   ]
  },
  {
   "cell_type": "code",
   "execution_count": 29,
   "id": "d8e57dd3",
   "metadata": {},
   "outputs": [
    {
     "name": "stdout",
     "output_type": "stream",
     "text": [
      "Topic 0: \n",
      "salt sauce chicken use soup make cook taste oil great\n",
      "Topic 1: \n",
      "coffee tea taste flavor cup like drink try great water\n",
      "Topic 2: \n",
      "product price buy good get great love taste order find\n",
      "Topic 3: \n",
      "sugar sweet syrup juice soda flavor orange fruit taste like\n"
     ]
    }
   ],
   "source": [
    "vocab = vectorizer.get_feature_names_out()\n",
    "for i, comp in enumerate(lda_model.components_):\n",
    "    vocab_comp = zip(vocab, comp)\n",
    "    sorted_words = sorted(vocab_comp, key = lambda x:x[1], reverse = True)[:10]\n",
    "    print(\"Topic \" + str(i) + \": \")\n",
    "    print(\" \".join([i[0] for i in sorted_words]))"
   ]
  },
  {
   "cell_type": "code",
   "execution_count": 30,
   "id": "9d834f2b",
   "metadata": {},
   "outputs": [],
   "source": [
    "dominant_topic_list = [np.where(topic == np.max(topic))[0][0] for topic in lda_topics]\n",
    "df['dominant_topic'] = dominant_topic_list"
   ]
  },
  {
   "cell_type": "code",
   "execution_count": 31,
   "id": "621736ff",
   "metadata": {},
   "outputs": [
    {
     "data": {
      "text/plain": [
       "0     438\n",
       "1    1508\n",
       "2    3285\n",
       "3     213\n",
       "Name: dominant_topic, dtype: int64"
      ]
     },
     "execution_count": 31,
     "metadata": {},
     "output_type": "execute_result"
    }
   ],
   "source": [
    "df.dominant_topic.value_counts().sort_index()"
   ]
  },
  {
   "cell_type": "markdown",
   "id": "2a4c2a4c",
   "metadata": {},
   "source": [
    "# Model for Topic Modelling"
   ]
  },
  {
   "cell_type": "code",
   "execution_count": 32,
   "id": "ee6a5baa",
   "metadata": {},
   "outputs": [],
   "source": [
    "from sklearn.svm import SVC\n",
    "from sklearn.model_selection import train_test_split"
   ]
  },
  {
   "cell_type": "code",
   "execution_count": 33,
   "id": "6d010f04",
   "metadata": {},
   "outputs": [],
   "source": [
    "x_train, x_test, y_train, y_test = train_test_split(lda_topics, df['dominant_topic'], test_size = 0.2, random_state = 1)"
   ]
  },
  {
   "cell_type": "code",
   "execution_count": 41,
   "id": "84aacc96",
   "metadata": {},
   "outputs": [
    {
     "data": {
      "text/plain": [
       "dominant_topic\n",
       "2                 2632\n",
       "1                 1214\n",
       "0                  340\n",
       "3                  169\n",
       "dtype: int64"
      ]
     },
     "execution_count": 41,
     "metadata": {},
     "output_type": "execute_result"
    }
   ],
   "source": [
    "pd.DataFrame(y_train).value_counts()"
   ]
  },
  {
   "cell_type": "code",
   "execution_count": 34,
   "id": "8c93948c",
   "metadata": {},
   "outputs": [],
   "source": [
    "svc = SVC(C=1.0, random_state=1, kernel='poly')"
   ]
  },
  {
   "cell_type": "code",
   "execution_count": 35,
   "id": "c2b6cccc",
   "metadata": {},
   "outputs": [
    {
     "data": {
      "text/html": [
       "<style>#sk-container-id-1 {color: black;background-color: white;}#sk-container-id-1 pre{padding: 0;}#sk-container-id-1 div.sk-toggleable {background-color: white;}#sk-container-id-1 label.sk-toggleable__label {cursor: pointer;display: block;width: 100%;margin-bottom: 0;padding: 0.3em;box-sizing: border-box;text-align: center;}#sk-container-id-1 label.sk-toggleable__label-arrow:before {content: \"▸\";float: left;margin-right: 0.25em;color: #696969;}#sk-container-id-1 label.sk-toggleable__label-arrow:hover:before {color: black;}#sk-container-id-1 div.sk-estimator:hover label.sk-toggleable__label-arrow:before {color: black;}#sk-container-id-1 div.sk-toggleable__content {max-height: 0;max-width: 0;overflow: hidden;text-align: left;background-color: #f0f8ff;}#sk-container-id-1 div.sk-toggleable__content pre {margin: 0.2em;color: black;border-radius: 0.25em;background-color: #f0f8ff;}#sk-container-id-1 input.sk-toggleable__control:checked~div.sk-toggleable__content {max-height: 200px;max-width: 100%;overflow: auto;}#sk-container-id-1 input.sk-toggleable__control:checked~label.sk-toggleable__label-arrow:before {content: \"▾\";}#sk-container-id-1 div.sk-estimator input.sk-toggleable__control:checked~label.sk-toggleable__label {background-color: #d4ebff;}#sk-container-id-1 div.sk-label input.sk-toggleable__control:checked~label.sk-toggleable__label {background-color: #d4ebff;}#sk-container-id-1 input.sk-hidden--visually {border: 0;clip: rect(1px 1px 1px 1px);clip: rect(1px, 1px, 1px, 1px);height: 1px;margin: -1px;overflow: hidden;padding: 0;position: absolute;width: 1px;}#sk-container-id-1 div.sk-estimator {font-family: monospace;background-color: #f0f8ff;border: 1px dotted black;border-radius: 0.25em;box-sizing: border-box;margin-bottom: 0.5em;}#sk-container-id-1 div.sk-estimator:hover {background-color: #d4ebff;}#sk-container-id-1 div.sk-parallel-item::after {content: \"\";width: 100%;border-bottom: 1px solid gray;flex-grow: 1;}#sk-container-id-1 div.sk-label:hover label.sk-toggleable__label {background-color: #d4ebff;}#sk-container-id-1 div.sk-serial::before {content: \"\";position: absolute;border-left: 1px solid gray;box-sizing: border-box;top: 0;bottom: 0;left: 50%;z-index: 0;}#sk-container-id-1 div.sk-serial {display: flex;flex-direction: column;align-items: center;background-color: white;padding-right: 0.2em;padding-left: 0.2em;position: relative;}#sk-container-id-1 div.sk-item {position: relative;z-index: 1;}#sk-container-id-1 div.sk-parallel {display: flex;align-items: stretch;justify-content: center;background-color: white;position: relative;}#sk-container-id-1 div.sk-item::before, #sk-container-id-1 div.sk-parallel-item::before {content: \"\";position: absolute;border-left: 1px solid gray;box-sizing: border-box;top: 0;bottom: 0;left: 50%;z-index: -1;}#sk-container-id-1 div.sk-parallel-item {display: flex;flex-direction: column;z-index: 1;position: relative;background-color: white;}#sk-container-id-1 div.sk-parallel-item:first-child::after {align-self: flex-end;width: 50%;}#sk-container-id-1 div.sk-parallel-item:last-child::after {align-self: flex-start;width: 50%;}#sk-container-id-1 div.sk-parallel-item:only-child::after {width: 0;}#sk-container-id-1 div.sk-dashed-wrapped {border: 1px dashed gray;margin: 0 0.4em 0.5em 0.4em;box-sizing: border-box;padding-bottom: 0.4em;background-color: white;}#sk-container-id-1 div.sk-label label {font-family: monospace;font-weight: bold;display: inline-block;line-height: 1.2em;}#sk-container-id-1 div.sk-label-container {text-align: center;}#sk-container-id-1 div.sk-container {/* jupyter's `normalize.less` sets `[hidden] { display: none; }` but bootstrap.min.css set `[hidden] { display: none !important; }` so we also need the `!important` here to be able to override the default hidden behavior on the sphinx rendered scikit-learn.org. See: https://github.com/scikit-learn/scikit-learn/issues/21755 */display: inline-block !important;position: relative;}#sk-container-id-1 div.sk-text-repr-fallback {display: none;}</style><div id=\"sk-container-id-1\" class=\"sk-top-container\"><div class=\"sk-text-repr-fallback\"><pre>SVC(kernel=&#x27;poly&#x27;, random_state=1)</pre><b>In a Jupyter environment, please rerun this cell to show the HTML representation or trust the notebook. <br />On GitHub, the HTML representation is unable to render, please try loading this page with nbviewer.org.</b></div><div class=\"sk-container\" hidden><div class=\"sk-item\"><div class=\"sk-estimator sk-toggleable\"><input class=\"sk-toggleable__control sk-hidden--visually\" id=\"sk-estimator-id-1\" type=\"checkbox\" checked><label for=\"sk-estimator-id-1\" class=\"sk-toggleable__label sk-toggleable__label-arrow\">SVC</label><div class=\"sk-toggleable__content\"><pre>SVC(kernel=&#x27;poly&#x27;, random_state=1)</pre></div></div></div></div></div>"
      ],
      "text/plain": [
       "SVC(kernel='poly', random_state=1)"
      ]
     },
     "execution_count": 35,
     "metadata": {},
     "output_type": "execute_result"
    }
   ],
   "source": [
    "svc.fit(x_train, y_train)"
   ]
  },
  {
   "cell_type": "code",
   "execution_count": 36,
   "id": "f8ce26af",
   "metadata": {},
   "outputs": [],
   "source": [
    "x_test_predicted = svc.predict(x_test)"
   ]
  },
  {
   "cell_type": "code",
   "execution_count": 37,
   "id": "0f05dc12",
   "metadata": {},
   "outputs": [
    {
     "data": {
      "text/plain": [
       "1079"
      ]
     },
     "execution_count": 37,
     "metadata": {},
     "output_type": "execute_result"
    }
   ],
   "source": [
    "np.sum(x_test_predicted == y_test)"
   ]
  },
  {
   "cell_type": "code",
   "execution_count": 38,
   "id": "48cd1e1b",
   "metadata": {},
   "outputs": [
    {
     "data": {
      "text/plain": [
       "0.9908172635445363"
      ]
     },
     "execution_count": 38,
     "metadata": {},
     "output_type": "execute_result"
    }
   ],
   "source": [
    "np.sum(x_test_predicted == y_test)/y_test.shape[0]"
   ]
  },
  {
   "cell_type": "code",
   "execution_count": null,
   "id": "d3477376",
   "metadata": {},
   "outputs": [],
   "source": []
  }
 ],
 "metadata": {
  "kernelspec": {
   "display_name": "Python 3 (ipykernel)",
   "language": "python",
   "name": "python3"
  },
  "language_info": {
   "codemirror_mode": {
    "name": "ipython",
    "version": 3
   },
   "file_extension": ".py",
   "mimetype": "text/x-python",
   "name": "python",
   "nbconvert_exporter": "python",
   "pygments_lexer": "ipython3",
   "version": "3.9.16"
  }
 },
 "nbformat": 4,
 "nbformat_minor": 5
}
