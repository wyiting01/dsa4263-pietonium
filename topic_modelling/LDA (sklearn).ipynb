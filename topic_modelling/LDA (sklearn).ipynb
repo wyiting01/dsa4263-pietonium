{
 "cells": [
  {
   "cell_type": "code",
   "execution_count": 1,
   "id": "fd214bba",
   "metadata": {},
   "outputs": [],
   "source": [
    "import pandas as pd\n",
    "import numpy as np\n",
    "import re\n",
    "import matplotlib.pyplot as plt\n",
    "\n",
    "import nltk\n",
    "from nltk.corpus import stopwords\n",
    "from nltk.tokenize import RegexpTokenizer\n",
    "from nltk.stem import PorterStemmer\n",
    "from nltk.stem import WordNetLemmatizer\n",
    "\n",
    "from sklearn.decomposition import LatentDirichletAllocation\n",
    "from sklearn.feature_extraction.text import TfidfVectorizer\n",
    "\n",
    "from gensim.models import CoherenceModel\n",
    "import gensim.corpora as corpora"
   ]
  },
  {
   "cell_type": "markdown",
   "id": "a040b813",
   "metadata": {},
   "source": [
    "# Read in Dataset"
   ]
  },
  {
   "cell_type": "code",
   "execution_count": 4,
   "id": "5028a25c",
   "metadata": {},
   "outputs": [
    {
     "data": {
      "text/html": [
       "<div>\n",
       "<style scoped>\n",
       "    .dataframe tbody tr th:only-of-type {\n",
       "        vertical-align: middle;\n",
       "    }\n",
       "\n",
       "    .dataframe tbody tr th {\n",
       "        vertical-align: top;\n",
       "    }\n",
       "\n",
       "    .dataframe thead th {\n",
       "        text-align: right;\n",
       "    }\n",
       "</style>\n",
       "<table border=\"1\" class=\"dataframe\">\n",
       "  <thead>\n",
       "    <tr style=\"text-align: right;\">\n",
       "      <th></th>\n",
       "      <th>Sentiment</th>\n",
       "      <th>Time</th>\n",
       "      <th>Text</th>\n",
       "      <th>processed_text</th>\n",
       "    </tr>\n",
       "  </thead>\n",
       "  <tbody>\n",
       "    <tr>\n",
       "      <th>0</th>\n",
       "      <td>1</td>\n",
       "      <td>18/6/21</td>\n",
       "      <td>This is a very healthy dog food. Good for thei...</td>\n",
       "      <td>healthy dog food good digestion also good smal...</td>\n",
       "    </tr>\n",
       "    <tr>\n",
       "      <th>1</th>\n",
       "      <td>1</td>\n",
       "      <td>7/7/21</td>\n",
       "      <td>I've been very pleased with the Natural Balanc...</td>\n",
       "      <td>pleased natural balance dog food dog issue dog...</td>\n",
       "    </tr>\n",
       "    <tr>\n",
       "      <th>2</th>\n",
       "      <td>1</td>\n",
       "      <td>18/6/21</td>\n",
       "      <td>Before I was educated about feline nutrition, ...</td>\n",
       "      <td>educate feline nutrition allow cat become addi...</td>\n",
       "    </tr>\n",
       "    <tr>\n",
       "      <th>3</th>\n",
       "      <td>1</td>\n",
       "      <td>7/7/21</td>\n",
       "      <td>My holistic vet recommended this, along with a...</td>\n",
       "      <td>holistic vet recommend along brand try cat pre...</td>\n",
       "    </tr>\n",
       "    <tr>\n",
       "      <th>4</th>\n",
       "      <td>1</td>\n",
       "      <td>1/7/21</td>\n",
       "      <td>I bought this coffee because its much cheaper ...</td>\n",
       "      <td>buy coffee much cheaper ganocafe organic reish...</td>\n",
       "    </tr>\n",
       "    <tr>\n",
       "      <th>...</th>\n",
       "      <td>...</td>\n",
       "      <td>...</td>\n",
       "      <td>...</td>\n",
       "      <td>...</td>\n",
       "    </tr>\n",
       "    <tr>\n",
       "      <th>5439</th>\n",
       "      <td>0</td>\n",
       "      <td>26/2/21</td>\n",
       "      <td>This is an okay gift box, only if you like med...</td>\n",
       "      <td>okay gift box like mediocre cheese summer saus...</td>\n",
       "    </tr>\n",
       "    <tr>\n",
       "      <th>5440</th>\n",
       "      <td>0</td>\n",
       "      <td>18/12/19</td>\n",
       "      <td>It looks llike I just walked into a raw deal. ...</td>\n",
       "      <td>look llike walked raw deal item intolerably st...</td>\n",
       "    </tr>\n",
       "    <tr>\n",
       "      <th>5441</th>\n",
       "      <td>0</td>\n",
       "      <td>19/1/20</td>\n",
       "      <td>Thank god that i tasted the metal before i swa...</td>\n",
       "      <td>thank god taste metal swallow dont even get ge...</td>\n",
       "    </tr>\n",
       "    <tr>\n",
       "      <th>5442</th>\n",
       "      <td>0</td>\n",
       "      <td>13/9/20</td>\n",
       "      <td>This product was very good when I began buying...</td>\n",
       "      <td>product good begin buy lately terrible taste r...</td>\n",
       "    </tr>\n",
       "    <tr>\n",
       "      <th>5443</th>\n",
       "      <td>0</td>\n",
       "      <td>10/7/20</td>\n",
       "      <td>Once again, Paragon has disappointed with this...</td>\n",
       "      <td>paragon disappoint flavor hawaiian tropic simp...</td>\n",
       "    </tr>\n",
       "  </tbody>\n",
       "</table>\n",
       "<p>5444 rows × 4 columns</p>\n",
       "</div>"
      ],
      "text/plain": [
       "      Sentiment      Time                                               Text  \\\n",
       "0             1   18/6/21  This is a very healthy dog food. Good for thei...   \n",
       "1             1    7/7/21  I've been very pleased with the Natural Balanc...   \n",
       "2             1   18/6/21  Before I was educated about feline nutrition, ...   \n",
       "3             1    7/7/21  My holistic vet recommended this, along with a...   \n",
       "4             1    1/7/21  I bought this coffee because its much cheaper ...   \n",
       "...         ...       ...                                                ...   \n",
       "5439          0   26/2/21  This is an okay gift box, only if you like med...   \n",
       "5440          0  18/12/19  It looks llike I just walked into a raw deal. ...   \n",
       "5441          0   19/1/20  Thank god that i tasted the metal before i swa...   \n",
       "5442          0   13/9/20  This product was very good when I began buying...   \n",
       "5443          0   10/7/20  Once again, Paragon has disappointed with this...   \n",
       "\n",
       "                                         processed_text  \n",
       "0     healthy dog food good digestion also good smal...  \n",
       "1     pleased natural balance dog food dog issue dog...  \n",
       "2     educate feline nutrition allow cat become addi...  \n",
       "3     holistic vet recommend along brand try cat pre...  \n",
       "4     buy coffee much cheaper ganocafe organic reish...  \n",
       "...                                                 ...  \n",
       "5439  okay gift box like mediocre cheese summer saus...  \n",
       "5440  look llike walked raw deal item intolerably st...  \n",
       "5441  thank god taste metal swallow dont even get ge...  \n",
       "5442  product good begin buy lately terrible taste r...  \n",
       "5443  paragon disappoint flavor hawaiian tropic simp...  \n",
       "\n",
       "[5444 rows x 4 columns]"
      ]
     },
     "execution_count": 4,
     "metadata": {},
     "output_type": "execute_result"
    }
   ],
   "source": [
    "df = pd.read_csv('../data/curated/reviews/cleaned_reviews.csv')\n",
    "df"
   ]
  },
  {
   "cell_type": "markdown",
   "id": "8cd7d5b6",
   "metadata": {},
   "source": [
    "# TF-IDF"
   ]
  },
  {
   "cell_type": "code",
   "execution_count": 6,
   "id": "6009ae73",
   "metadata": {},
   "outputs": [],
   "source": [
    "vectorizer = TfidfVectorizer(lowercase=True,\n",
    "                             analyzer='word',\n",
    "                             stop_words = 'english',\n",
    "                             ngram_range = (1,1),\n",
    "                             max_df = 0.75,\n",
    "                             min_df = 50,\n",
    "                             max_features=10000)\n",
    "vectorized_text = vectorizer.fit_transform(df['processed_text'])"
   ]
  },
  {
   "cell_type": "code",
   "execution_count": 7,
   "id": "08586682",
   "metadata": {},
   "outputs": [
    {
     "data": {
      "text/plain": [
       "(5444, 499)"
      ]
     },
     "execution_count": 7,
     "metadata": {},
     "output_type": "execute_result"
    }
   ],
   "source": [
    "vectorized_text.shape"
   ]
  },
  {
   "cell_type": "code",
   "execution_count": 8,
   "id": "dcf056d6",
   "metadata": {},
   "outputs": [
    {
     "data": {
      "text/plain": [
       "array(['able', 'absolutely', 'actually', 'add', 'aftertaste', 'ago',\n",
       "       'almond', 'alternative', 'amaze', 'amazon', 'apple', 'aroma',\n",
       "       'arrive', 'artificial', 'ask', 'ate', 'available', 'avoid', 'away',\n",
       "       'awesome', 'baby', 'bad', 'bag', 'bake', 'bar', 'base', 'batch',\n",
       "       'bean', 'beat', 'believe', 'benefit', 'best', 'better', 'beverage',\n",
       "       'big', 'bit', 'bite', 'bitter', 'black', 'blend', 'bottle',\n",
       "       'bought', 'bowl', 'box', 'brand', 'bread', 'break', 'breakfast',\n",
       "       'brew', 'bring', 'brown', 'bulk', 'butter', 'buy', 'buying',\n",
       "       'cake', 'calorie', 'candy', 'carbs', 'care', 'carry', 'case',\n",
       "       'cat', 'cause', 'cereal', 'certainly', 'change', 'cheap',\n",
       "       'cheaper', 'check', 'cheese', 'chemical', 'chew', 'chewy',\n",
       "       'chicken', 'child', 'china', 'chip', 'chocolate', 'choice',\n",
       "       'cinnamon', 'clean', 'close', 'coat', 'cocoa', 'coconut', 'coffee',\n",
       "       'cold', 'color', 'com', 'come', 'company', 'compare', 'complaint',\n",
       "       'completely', 'consider', 'consistency', 'contain', 'container',\n",
       "       'content', 'continue', 'convenient', 'cook', 'cookie', 'cooky',\n",
       "       'corn', 'cost', 'count', 'couple', 'course', 'cracker', 'cream',\n",
       "       'crunch', 'crunchy', 'cup', 'customer', 'cut', 'daily', 'dark',\n",
       "       'date', 'daughter', 'day', 'deal', 'decent', 'decide',\n",
       "       'definitely', 'delicious', 'deliver', 'delivery', 'description',\n",
       "       'diet', 'difference', 'different', 'dinner', 'disappoint',\n",
       "       'disappointed', 'discover', 'dish', 'dog', 'drink', 'dry',\n",
       "       'easily', 'easy', 'eat', 'egg', 'end', 'energy', 'enjoy',\n",
       "       'especially', 'exactly', 'excellent', 'expect', 'expensive',\n",
       "       'experience', 'extra', 'extremely', 'fact', 'family', 'fan',\n",
       "       'fantastic', 'far', 'fast', 'fat', 'favorite', 'feed', 'feel',\n",
       "       'fiber', 'finally', 'fine', 'finish', 'fit', 'flavor', 'flavorful',\n",
       "       'flour', 'follow', 'food', 'free', 'french', 'fresh', 'friend',\n",
       "       'fruit', 'future', 'gift', 'glad', 'glass', 'gluten', 'good',\n",
       "       'grain', 'great', 'green', 'grocery', 'ground', 'guess', 'half',\n",
       "       'hand', 'happy', 'hard', 'health', 'healthier', 'healthy', 'heat',\n",
       "       'help', 'high', 'higher', 'highly', 'hint', 'hit', 'hold', 'home',\n",
       "       'honey', 'hop', 'hope', 'horrible', 'hot', 'hour', 'house', 'huge',\n",
       "       'husband', 'ice', 'idea', 'include', 'ingredient', 'instant',\n",
       "       'instead', 'issue', 'item', 'jar', 'juice', 'keurig', 'kid',\n",
       "       'kind', 'know', 'label', 'lack', 'large', 'larger', 'later',\n",
       "       'leave', 'let', 'life', 'light', 'like', 'line', 'liquid', 'list',\n",
       "       'little', 'live', 'local', 'locally', 'long', 'longer', 'look',\n",
       "       'lot', 'love', 'lover', 'low', 'lower', 'lunch', 'machine', 'make',\n",
       "       'market', 'matter', 'maybe', 'meal', 'mean', 'meat', 'mention',\n",
       "       'microwave', 'mild', 'milk', 'mind', 'minute', 'miss', 'mix',\n",
       "       'mixed', 'money', 'month', 'morning', 'mouth', 'natural', 'need',\n",
       "       'new', 'nice', 'night', 'non', 'noodle', 'normal', 'normally',\n",
       "       'note', 'notice', 'nut', 'oatmeal', 'offer', 'oil', 'old', 'onion',\n",
       "       'online', 'open', 'opinion', 'option', 'orange', 'order',\n",
       "       'organic', 'original', 'ounce', 'overall', 'pack', 'package',\n",
       "       'packaging', 'packet', 'past', 'pasta', 'pay', 'peanut', 'people',\n",
       "       'pepper', 'perfect', 'pet', 'pick', 'piece', 'place', 'plain',\n",
       "       'plan', 'plastic', 'pleased', 'plus', 'point', 'pop', 'popcorn',\n",
       "       'potato', 'pound', 'powder', 'prefer', 'prepare', 'pretty',\n",
       "       'price', 'pricey', 'probably', 'problem', 'process', 'produce',\n",
       "       'product', 'protein', 'provide', 'purchase', 'quality', 'quick',\n",
       "       'quickly', 'quite', 'raw', 'read', 'real', 'realize', 'really',\n",
       "       'reason', 'receive', 'recently', 'recipe', 'recommend', 'red',\n",
       "       'refresh', 'regular', 'remember', 'rest', 'result', 'return',\n",
       "       'review', 'reviewer', 'rice', 'rich', 'right', 'roast', 'run',\n",
       "       'salad', 'sale', 'salt', 'salty', 'sample', 'satisfy', 'sauce',\n",
       "       'save', 'saw', 'say', 'seal', 'search', 'season', 'second', 'seed',\n",
       "       'sell', 'seller', 'send', 'serve', 'service', 'set', 'shake',\n",
       "       'share', 'ship', 'shipping', 'shop', 'similar', 'simply', 'single',\n",
       "       'sit', 'size', 'slightly', 'small', 'smaller', 'smell', 'smooth',\n",
       "       'snack', 'soda', 'sodium', 'soft', 'son', 'soon', 'sort', 'soup',\n",
       "       'sour', 'source', 'soy', 'special', 'spend', 'spice', 'spicy',\n",
       "       'stale', 'star', 'starbucks', 'start', 'state', 'stay', 'stick',\n",
       "       'stock', 'stop', 'store', 'strong', 'stuff', 'subscribe',\n",
       "       'substitute', 'sugar', 'suggest', 'super', 'supermarket',\n",
       "       'suppose', 'sure', 'surprise', 'sweet', 'sweeten', 'sweetener',\n",
       "       'sweetness', 'switch', 'syrup', 'taste', 'tasty', 'tea', 'tell',\n",
       "       'texture', 'thank', 'thanks', 'thing', 'think', 'thought', 'throw',\n",
       "       'time', 'today', 'treat', 'tried', 'try', 'turn', 'type',\n",
       "       'unfortunately', 'unless', 'use', 'usually', 'value', 'vanilla',\n",
       "       'variety', 'vegetable', 'version', 'vitamin', 'wait', 'want',\n",
       "       'waste', 'water', 'way', 'weak', 'week', 'weight', 'wheat',\n",
       "       'white', 'wife', 'wish', 'wonderful', 'work', 'worth', 'write',\n",
       "       'wrong', 'year', 'yes', 'yummy'], dtype=object)"
      ]
     },
     "execution_count": 8,
     "metadata": {},
     "output_type": "execute_result"
    }
   ],
   "source": [
    "vectorizer.get_feature_names_out()"
   ]
  },
  {
   "cell_type": "markdown",
   "id": "bb514ef3",
   "metadata": {},
   "source": [
    "# LDA"
   ]
  },
  {
   "cell_type": "code",
   "execution_count": 9,
   "id": "e071b23e",
   "metadata": {},
   "outputs": [],
   "source": [
    "#Coherance Score function \n",
    "#The higher the better. Input: Sklearn Model, output: Coherance score\n",
    "\n",
    "def get_Cv(model, df_columnm):\n",
    "  topics = model.components_\n",
    "  n_top_words = 20\n",
    "  texts = [[word for word in doc.split()] for doc in df_columnm]\n",
    "  # create the dictionary\n",
    "  dictionary = corpora.Dictionary(texts)\n",
    "  # Create a gensim dictionary from the word count matrix\n",
    "  # Create a gensim corpus from the word count matrix\n",
    "  corpus = [dictionary.doc2bow(text) for text in texts]\n",
    "  feature_names = [dictionary[i] for i in range(len(dictionary))]\n",
    "  # Get the top words for each topic from the components_ attribute\n",
    "  top_words = []\n",
    "  for topic in topics:\n",
    "      top_words.append([feature_names[i] for i in topic.argsort()[:-n_top_words - 1:-1]])\n",
    "  coherence_model = CoherenceModel(topics=top_words, texts=texts, dictionary=dictionary, coherence='c_v')\n",
    "  coherence = coherence_model.get_coherence()\n",
    "  return coherence"
   ]
  },
  {
   "cell_type": "code",
   "execution_count": 12,
   "id": "131216ab",
   "metadata": {},
   "outputs": [],
   "source": [
    "#Finding the right number of topis (n_components)\n",
    "\n",
    "cv_scores = []\n",
    "lg_scores = []\n",
    "perp_scores = []\n",
    "\n",
    "for i in range(1,11):\n",
    "    lda_model = LatentDirichletAllocation(batch_size=128, doc_topic_prior=None,\n",
    " evaluate_every=-1, learning_decay=0.7,\n",
    " learning_method='online', learning_offset=50,\n",
    " max_doc_update_iter=100, max_iter=20, mean_change_tol=0.001,\n",
    " n_components=i, n_jobs=-1, perp_tol=0.1,\n",
    " random_state=20, topic_word_prior=None,\n",
    " total_samples=1000000.0, verbose=0)\n",
    "\n",
    "    lda_topics = lda_model.fit_transform(vectorized_text)\n",
    "    \n",
    "    cv_scores.append(get_Cv(lda_model,df['processed_text']))\n",
    "    lg_scores.append(lda_model.score(vectorized_text))\n",
    "    perp_scores.append(lda_model.perplexity(vectorized_text))\n",
    "    # See model parameters\n",
    "    #print(lda_model.get_params())"
   ]
  },
  {
   "cell_type": "code",
   "execution_count": 13,
   "metadata": {},
   "outputs": [
    {
     "data": {
      "text/plain": [
       "Text(0, 0.5, 'Perplexity')"
      ]
     },
     "execution_count": 13,
     "metadata": {},
     "output_type": "execute_result"
    },
    {
     "data": {
      "image/png": "[encoded data removed]",
      "text/plain": [
       "<Figure size 432x288 with 1 Axes>"
      ]
     },
     "metadata": {
      "needs_background": "light"
     },
     "output_type": "display_data"
    },
    {
     "data": {
      "image/png": "[encoded data removed]",
      "text/plain": [
       "<Figure size 432x288 with 1 Axes>"
      ]
     },
     "metadata": {
      "needs_background": "light"
     },
     "output_type": "display_data"
    },
    {
     "data": {
      "image/png": "[encoded data removed]",
      "text/plain": [
       "<Figure size 432x288 with 1 Axes>"
      ]
     },
     "metadata": {
      "needs_background": "light"
     },
     "output_type": "display_data"
    }
   ],
   "source": [
    "x = np.array(range(1,11))\n",
    "plt.plot(x,cv_scores)\n",
    "plt.xlabel(\"num of topics\")\n",
    "plt.ylabel(\"Coherance\")\n",
    "plt.figure()\n",
    "plt.plot(x,lg_scores) \n",
    "plt.xlabel(\"num of topics\")\n",
    "plt.ylabel(\"Log likelihood\")\n",
    "plt.figure()\n",
    "plt.plot(x,perp_scores)\n",
    "plt.xlabel(\"num of topics\")\n",
    "plt.ylabel(\"Perplexity\") "
   ]
  },
  {
   "cell_type": "code",
   "execution_count": 14,
   "id": "28567964",
   "metadata": {},
   "outputs": [
    {
     "data": {
      "text/plain": [
       "[0.4502849373792383,\n",
       " 0.4568159285041642,\n",
       " 0.5243971432366218,\n",
       " 0.4825400802938184,\n",
       " 0.4922032970413587,\n",
       " 0.4903806086957921,\n",
       " 0.4769933645403962,\n",
       " 0.463016601477941,\n",
       " 0.5207471627180221,\n",
       " 0.4910273856325076]"
      ]
     },
     "execution_count": 14,
     "metadata": {},
     "output_type": "execute_result"
    }
   ],
   "source": [
    "cv_scores \n",
    "#choose topics = 3 due to highest CV score & lower perplexity than topic = 9"
   ]
  },
  {
   "cell_type": "code",
   "execution_count": 15,
   "id": "1617c059",
   "metadata": {},
   "outputs": [
    {
     "data": {
      "text/plain": [
       "(3, 499)"
      ]
     },
     "execution_count": 15,
     "metadata": {},
     "output_type": "execute_result"
    }
   ],
   "source": [
    "# lda component: for each topic, the prob of each word in the vocabulary\n",
    "lda_model = LatentDirichletAllocation(batch_size=128, doc_topic_prior=None,\n",
    " evaluate_every=-1, learning_decay=0.7,\n",
    " learning_method='online', learning_offset=50,\n",
    " max_doc_update_iter=100, max_iter=20, mean_change_tol=0.001,\n",
    " n_components=3, n_jobs=-1, perp_tol=0.1,\n",
    " random_state=20, topic_word_prior=None,\n",
    " total_samples=1000000.0, verbose=0)\n",
    "\n",
    "lda_topics = lda_model.fit_transform(vectorized_text)\n",
    "lda_model.components_.shape"
   ]
  },
  {
   "cell_type": "code",
   "execution_count": 68,
   "id": "d8e57dd3",
   "metadata": {},
   "outputs": [
    {
     "name": "stdout",
     "output_type": "stream",
     "text": [
      "Topic 0: \n",
      "coffee price buy cup product dog great taste love like store food good treat chocolate make amazon flavor try brand\n",
      "Topic 1: \n",
      "order product great good free price chip taste love tasty time item make box cooky receive gluten bag use eat\n",
      "Topic 2: \n",
      "tea taste flavor like drink water use good great try add make really sugar salt product smell bottle love cat\n"
     ]
    }
   ],
   "source": [
    "#Top 20 words in each topic shown\n",
    "vocab = vectorizer.get_feature_names_out()\n",
    "for i, comp in enumerate(lda_model.components_):\n",
    "    vocab_comp = zip(vocab, comp)\n",
    "    sorted_words = sorted(vocab_comp, key = lambda x:x[1], reverse = True)[:20]\n",
    "    print(\"Topic \" + str(i) + \": \")\n",
    "    print(\" \".join([i[0] for i in sorted_words]))"
   ]
  },
  {
   "cell_type": "code",
   "execution_count": 23,
   "id": "9d834f2b",
   "metadata": {},
   "outputs": [
    {
     "data": {
      "text/html": [
       "<div>\n",
       "<style scoped>\n",
       "    .dataframe tbody tr th:only-of-type {\n",
       "        vertical-align: middle;\n",
       "    }\n",
       "\n",
       "    .dataframe tbody tr th {\n",
       "        vertical-align: top;\n",
       "    }\n",
       "\n",
       "    .dataframe thead th {\n",
       "        text-align: right;\n",
       "    }\n",
       "</style>\n",
       "<table border=\"1\" class=\"dataframe\">\n",
       "  <thead>\n",
       "    <tr style=\"text-align: right;\">\n",
       "      <th></th>\n",
       "      <th>Sentiment</th>\n",
       "      <th>Time</th>\n",
       "      <th>Text</th>\n",
       "      <th>processed_text</th>\n",
       "      <th>dominant_topic</th>\n",
       "    </tr>\n",
       "  </thead>\n",
       "  <tbody>\n",
       "    <tr>\n",
       "      <th>0</th>\n",
       "      <td>1</td>\n",
       "      <td>18/6/21</td>\n",
       "      <td>This is a very healthy dog food. Good for thei...</td>\n",
       "      <td>healthy dog food good digestion also good smal...</td>\n",
       "      <td>0</td>\n",
       "    </tr>\n",
       "    <tr>\n",
       "      <th>1</th>\n",
       "      <td>1</td>\n",
       "      <td>7/7/21</td>\n",
       "      <td>I've been very pleased with the Natural Balanc...</td>\n",
       "      <td>pleased natural balance dog food dog issue dog...</td>\n",
       "      <td>0</td>\n",
       "    </tr>\n",
       "    <tr>\n",
       "      <th>2</th>\n",
       "      <td>1</td>\n",
       "      <td>18/6/21</td>\n",
       "      <td>Before I was educated about feline nutrition, ...</td>\n",
       "      <td>educate feline nutrition allow cat become addi...</td>\n",
       "      <td>0</td>\n",
       "    </tr>\n",
       "    <tr>\n",
       "      <th>3</th>\n",
       "      <td>1</td>\n",
       "      <td>7/7/21</td>\n",
       "      <td>My holistic vet recommended this, along with a...</td>\n",
       "      <td>holistic vet recommend along brand try cat pre...</td>\n",
       "      <td>2</td>\n",
       "    </tr>\n",
       "    <tr>\n",
       "      <th>4</th>\n",
       "      <td>1</td>\n",
       "      <td>1/7/21</td>\n",
       "      <td>I bought this coffee because its much cheaper ...</td>\n",
       "      <td>buy coffee much cheaper ganocafe organic reish...</td>\n",
       "      <td>0</td>\n",
       "    </tr>\n",
       "    <tr>\n",
       "      <th>...</th>\n",
       "      <td>...</td>\n",
       "      <td>...</td>\n",
       "      <td>...</td>\n",
       "      <td>...</td>\n",
       "      <td>...</td>\n",
       "    </tr>\n",
       "    <tr>\n",
       "      <th>5439</th>\n",
       "      <td>0</td>\n",
       "      <td>26/2/21</td>\n",
       "      <td>This is an okay gift box, only if you like med...</td>\n",
       "      <td>okay gift box like mediocre cheese summer saus...</td>\n",
       "      <td>1</td>\n",
       "    </tr>\n",
       "    <tr>\n",
       "      <th>5440</th>\n",
       "      <td>0</td>\n",
       "      <td>18/12/19</td>\n",
       "      <td>It looks llike I just walked into a raw deal. ...</td>\n",
       "      <td>look llike walked raw deal item intolerably st...</td>\n",
       "      <td>1</td>\n",
       "    </tr>\n",
       "    <tr>\n",
       "      <th>5441</th>\n",
       "      <td>0</td>\n",
       "      <td>19/1/20</td>\n",
       "      <td>Thank god that i tasted the metal before i swa...</td>\n",
       "      <td>thank god taste metal swallow dont even get ge...</td>\n",
       "      <td>2</td>\n",
       "    </tr>\n",
       "    <tr>\n",
       "      <th>5442</th>\n",
       "      <td>0</td>\n",
       "      <td>13/9/20</td>\n",
       "      <td>This product was very good when I began buying...</td>\n",
       "      <td>product good begin buy lately terrible taste r...</td>\n",
       "      <td>0</td>\n",
       "    </tr>\n",
       "    <tr>\n",
       "      <th>5443</th>\n",
       "      <td>0</td>\n",
       "      <td>10/7/20</td>\n",
       "      <td>Once again, Paragon has disappointed with this...</td>\n",
       "      <td>paragon disappoint flavor hawaiian tropic simp...</td>\n",
       "      <td>2</td>\n",
       "    </tr>\n",
       "  </tbody>\n",
       "</table>\n",
       "<p>5444 rows × 5 columns</p>\n",
       "</div>"
      ],
      "text/plain": [
       "      Sentiment      Time                                               Text  \\\n",
       "0             1   18/6/21  This is a very healthy dog food. Good for thei...   \n",
       "1             1    7/7/21  I've been very pleased with the Natural Balanc...   \n",
       "2             1   18/6/21  Before I was educated about feline nutrition, ...   \n",
       "3             1    7/7/21  My holistic vet recommended this, along with a...   \n",
       "4             1    1/7/21  I bought this coffee because its much cheaper ...   \n",
       "...         ...       ...                                                ...   \n",
       "5439          0   26/2/21  This is an okay gift box, only if you like med...   \n",
       "5440          0  18/12/19  It looks llike I just walked into a raw deal. ...   \n",
       "5441          0   19/1/20  Thank god that i tasted the metal before i swa...   \n",
       "5442          0   13/9/20  This product was very good when I began buying...   \n",
       "5443          0   10/7/20  Once again, Paragon has disappointed with this...   \n",
       "\n",
       "                                         processed_text  dominant_topic  \n",
       "0     healthy dog food good digestion also good smal...               0  \n",
       "1     pleased natural balance dog food dog issue dog...               0  \n",
       "2     educate feline nutrition allow cat become addi...               0  \n",
       "3     holistic vet recommend along brand try cat pre...               2  \n",
       "4     buy coffee much cheaper ganocafe organic reish...               0  \n",
       "...                                                 ...             ...  \n",
       "5439  okay gift box like mediocre cheese summer saus...               1  \n",
       "5440  look llike walked raw deal item intolerably st...               1  \n",
       "5441  thank god taste metal swallow dont even get ge...               2  \n",
       "5442  product good begin buy lately terrible taste r...               0  \n",
       "5443  paragon disappoint flavor hawaiian tropic simp...               2  \n",
       "\n",
       "[5444 rows x 5 columns]"
      ]
     },
     "execution_count": 23,
     "metadata": {},
     "output_type": "execute_result"
    }
   ],
   "source": [
    "dominant_topic_list = [np.where(topic == np.max(topic))[0][0] for topic in lda_topics]\n",
    "df['dominant_topic'] = dominant_topic_list\n",
    "df"
   ]
  },
  {
   "cell_type": "code",
   "execution_count": 22,
   "id": "f8a1a3cc",
   "metadata": {},
   "outputs": [
    {
     "data": {
      "text/html": [
       "<div>\n",
       "<style scoped>\n",
       "    .dataframe tbody tr th:only-of-type {\n",
       "        vertical-align: middle;\n",
       "    }\n",
       "\n",
       "    .dataframe tbody tr th {\n",
       "        vertical-align: top;\n",
       "    }\n",
       "\n",
       "    .dataframe thead th {\n",
       "        text-align: right;\n",
       "    }\n",
       "</style>\n",
       "<table border=\"1\" class=\"dataframe\">\n",
       "  <thead>\n",
       "    <tr style=\"text-align: right;\">\n",
       "      <th></th>\n",
       "      <th>Topic0</th>\n",
       "      <th>Topic1</th>\n",
       "      <th>Topic2</th>\n",
       "      <th>dominant_topic</th>\n",
       "    </tr>\n",
       "  </thead>\n",
       "  <tbody>\n",
       "    <tr>\n",
       "      <th>Doc0</th>\n",
       "      <td>0.77</td>\n",
       "      <td>0.12</td>\n",
       "      <td>0.11</td>\n",
       "      <td>0</td>\n",
       "    </tr>\n",
       "    <tr>\n",
       "      <th>Doc1</th>\n",
       "      <td>0.79</td>\n",
       "      <td>0.12</td>\n",
       "      <td>0.09</td>\n",
       "      <td>0</td>\n",
       "    </tr>\n",
       "    <tr>\n",
       "      <th>Doc2</th>\n",
       "      <td>0.66</td>\n",
       "      <td>0.08</td>\n",
       "      <td>0.26</td>\n",
       "      <td>0</td>\n",
       "    </tr>\n",
       "    <tr>\n",
       "      <th>Doc3</th>\n",
       "      <td>0.20</td>\n",
       "      <td>0.14</td>\n",
       "      <td>0.67</td>\n",
       "      <td>2</td>\n",
       "    </tr>\n",
       "    <tr>\n",
       "      <th>Doc4</th>\n",
       "      <td>0.85</td>\n",
       "      <td>0.08</td>\n",
       "      <td>0.08</td>\n",
       "      <td>0</td>\n",
       "    </tr>\n",
       "    <tr>\n",
       "      <th>...</th>\n",
       "      <td>...</td>\n",
       "      <td>...</td>\n",
       "      <td>...</td>\n",
       "      <td>...</td>\n",
       "    </tr>\n",
       "    <tr>\n",
       "      <th>Doc5439</th>\n",
       "      <td>0.39</td>\n",
       "      <td>0.41</td>\n",
       "      <td>0.19</td>\n",
       "      <td>1</td>\n",
       "    </tr>\n",
       "    <tr>\n",
       "      <th>Doc5440</th>\n",
       "      <td>0.37</td>\n",
       "      <td>0.57</td>\n",
       "      <td>0.07</td>\n",
       "      <td>1</td>\n",
       "    </tr>\n",
       "    <tr>\n",
       "      <th>Doc5441</th>\n",
       "      <td>0.17</td>\n",
       "      <td>0.12</td>\n",
       "      <td>0.71</td>\n",
       "      <td>2</td>\n",
       "    </tr>\n",
       "    <tr>\n",
       "      <th>Doc5442</th>\n",
       "      <td>0.69</td>\n",
       "      <td>0.21</td>\n",
       "      <td>0.10</td>\n",
       "      <td>0</td>\n",
       "    </tr>\n",
       "    <tr>\n",
       "      <th>Doc5443</th>\n",
       "      <td>0.36</td>\n",
       "      <td>0.11</td>\n",
       "      <td>0.53</td>\n",
       "      <td>2</td>\n",
       "    </tr>\n",
       "  </tbody>\n",
       "</table>\n",
       "<p>5444 rows × 4 columns</p>\n",
       "</div>"
      ],
      "text/plain": [
       "         Topic0  Topic1  Topic2  dominant_topic\n",
       "Doc0       0.77    0.12    0.11               0\n",
       "Doc1       0.79    0.12    0.09               0\n",
       "Doc2       0.66    0.08    0.26               0\n",
       "Doc3       0.20    0.14    0.67               2\n",
       "Doc4       0.85    0.08    0.08               0\n",
       "...         ...     ...     ...             ...\n",
       "Doc5439    0.39    0.41    0.19               1\n",
       "Doc5440    0.37    0.57    0.07               1\n",
       "Doc5441    0.17    0.12    0.71               2\n",
       "Doc5442    0.69    0.21    0.10               0\n",
       "Doc5443    0.36    0.11    0.53               2\n",
       "\n",
       "[5444 rows x 4 columns]"
      ]
     },
     "execution_count": 22,
     "metadata": {},
     "output_type": "execute_result"
    }
   ],
   "source": [
    "#Detailed breakdown of Texts\n",
    "colnames = [\"Topic\" + str(i) for i in range(lda_model.n_components)]\n",
    "docnames = [\"Doc\" + str(i) for i in range(len(df['processed_text']))]\n",
    "df_doc_topic = pd.DataFrame(np.round(lda_topics,2),columns=colnames,index=docnames)\n",
    "significant_topic = np.argmax(df_doc_topic.values,axis=1)\n",
    "df_doc_topic['dominant_topic'] = significant_topic \n",
    "df_doc_topic"
   ]
  },
  {
   "cell_type": "code",
   "execution_count": 24,
   "id": "621736ff",
   "metadata": {},
   "outputs": [
    {
     "data": {
      "text/plain": [
       "0    2209\n",
       "1    1621\n",
       "2    1614\n",
       "Name: dominant_topic, dtype: int64"
      ]
     },
     "execution_count": 24,
     "metadata": {},
     "output_type": "execute_result"
    }
   ],
   "source": [
    "df.dominant_topic.value_counts().sort_index()"
   ]
  },
  {
   "cell_type": "markdown",
   "id": "2a4c2a4c",
   "metadata": {},
   "source": [
    "# Model for Topic Modelling"
   ]
  },
  {
   "cell_type": "code",
   "execution_count": 79,
   "id": "2440b582",
   "metadata": {},
   "outputs": [],
   "source": [
    "from sklearn.model_selection import train_test_split\n",
    "x_train, x_test, y_train, y_test = train_test_split(lda_topics, df['dominant_topic'], test_size = 0.2, random_state = 1)"
   ]
  },
  {
   "cell_type": "code",
   "execution_count": 82,
   "id": "5b18cea0",
   "metadata": {},
   "outputs": [
    {
     "name": "stdout",
     "output_type": "stream",
     "text": [
      "Best: -0.008063 using {'n_estimators': 600}\n",
      "-0.009010 (0.004887) with: {'n_estimators': 50}\n",
      "-0.008592 (0.004948) with: {'n_estimators': 100}\n",
      "-0.008441 (0.004839) with: {'n_estimators': 150}\n",
      "-0.008306 (0.004778) with: {'n_estimators': 200}\n",
      "-0.008246 (0.004771) with: {'n_estimators': 250}\n",
      "-0.008187 (0.004785) with: {'n_estimators': 300}\n",
      "-0.008131 (0.004811) with: {'n_estimators': 350}\n",
      "-0.008104 (0.004829) with: {'n_estimators': 400}\n",
      "-0.008094 (0.004842) with: {'n_estimators': 450}\n",
      "-0.008083 (0.004845) with: {'n_estimators': 500}\n",
      "-0.008069 (0.004851) with: {'n_estimators': 550}\n",
      "-0.008063 (0.004850) with: {'n_estimators': 600}\n",
      "-0.008067 (0.004856) with: {'n_estimators': 650}\n",
      "-0.008074 (0.004860) with: {'n_estimators': 700}\n",
      "-0.008070 (0.004860) with: {'n_estimators': 750}\n",
      "-0.008080 (0.004869) with: {'n_estimators': 800}\n",
      "-0.008081 (0.004870) with: {'n_estimators': 850}\n",
      "-0.008084 (0.004873) with: {'n_estimators': 900}\n",
      "-0.008090 (0.004882) with: {'n_estimators': 950}\n",
      "-0.008089 (0.004884) with: {'n_estimators': 1000}\n",
      "-0.008093 (0.004892) with: {'n_estimators': 1050}\n",
      "-0.008097 (0.004899) with: {'n_estimators': 1100}\n",
      "-0.008098 (0.004900) with: {'n_estimators': 1150}\n",
      "-0.008101 (0.004906) with: {'n_estimators': 1200}\n",
      "-0.008104 (0.004908) with: {'n_estimators': 1250}\n",
      "-0.008105 (0.004919) with: {'n_estimators': 1300}\n",
      "-0.008105 (0.004919) with: {'n_estimators': 1350}\n",
      "-0.008108 (0.004930) with: {'n_estimators': 1400}\n",
      "-0.008109 (0.004934) with: {'n_estimators': 1450}\n",
      "-0.008109 (0.004938) with: {'n_estimators': 1500}\n",
      "-0.008111 (0.004946) with: {'n_estimators': 1550}\n",
      "-0.008111 (0.004948) with: {'n_estimators': 1600}\n",
      "-0.008113 (0.004955) with: {'n_estimators': 1650}\n",
      "-0.008115 (0.004960) with: {'n_estimators': 1700}\n",
      "-0.008114 (0.004961) with: {'n_estimators': 1750}\n",
      "-0.008117 (0.004970) with: {'n_estimators': 1800}\n",
      "-0.008117 (0.004970) with: {'n_estimators': 1850}\n",
      "-0.008119 (0.004978) with: {'n_estimators': 1900}\n",
      "-0.008118 (0.004978) with: {'n_estimators': 1950}\n",
      "-0.008122 (0.004987) with: {'n_estimators': 2000}\n",
      "-0.008122 (0.004987) with: {'n_estimators': 2050}\n",
      "-0.008124 (0.004992) with: {'n_estimators': 2100}\n",
      "-0.008125 (0.004995) with: {'n_estimators': 2150}\n",
      "-0.008126 (0.004997) with: {'n_estimators': 2200}\n",
      "-0.008129 (0.005004) with: {'n_estimators': 2250}\n",
      "-0.008132 (0.005012) with: {'n_estimators': 2300}\n",
      "-0.008131 (0.005011) with: {'n_estimators': 2350}\n",
      "-0.008135 (0.005018) with: {'n_estimators': 2400}\n",
      "-0.008139 (0.005029) with: {'n_estimators': 2450}\n",
      "-0.008139 (0.005029) with: {'n_estimators': 2500}\n",
      "-0.008140 (0.005033) with: {'n_estimators': 2550}\n",
      "-0.008146 (0.005044) with: {'n_estimators': 2600}\n",
      "-0.008147 (0.005048) with: {'n_estimators': 2650}\n",
      "-0.008147 (0.005048) with: {'n_estimators': 2700}\n",
      "-0.008150 (0.005056) with: {'n_estimators': 2750}\n",
      "-0.008155 (0.005067) with: {'n_estimators': 2800}\n",
      "-0.008155 (0.005068) with: {'n_estimators': 2850}\n",
      "-0.008154 (0.005067) with: {'n_estimators': 2900}\n",
      "-0.008157 (0.005076) with: {'n_estimators': 2950}\n",
      "-0.008160 (0.005080) with: {'n_estimators': 3000}\n",
      "-0.008159 (0.005079) with: {'n_estimators': 3050}\n",
      "-0.008160 (0.005082) with: {'n_estimators': 3100}\n",
      "-0.008163 (0.005090) with: {'n_estimators': 3150}\n",
      "-0.008162 (0.005089) with: {'n_estimators': 3200}\n",
      "-0.008163 (0.005090) with: {'n_estimators': 3250}\n",
      "-0.008164 (0.005095) with: {'n_estimators': 3300}\n",
      "-0.008166 (0.005100) with: {'n_estimators': 3350}\n",
      "-0.008166 (0.005099) with: {'n_estimators': 3400}\n",
      "-0.008167 (0.005102) with: {'n_estimators': 3450}\n",
      "-0.008169 (0.005107) with: {'n_estimators': 3500}\n",
      "-0.008170 (0.005109) with: {'n_estimators': 3550}\n",
      "-0.008171 (0.005112) with: {'n_estimators': 3600}\n",
      "-0.008173 (0.005116) with: {'n_estimators': 3650}\n",
      "-0.008173 (0.005117) with: {'n_estimators': 3700}\n",
      "-0.008173 (0.005118) with: {'n_estimators': 3750}\n",
      "-0.008177 (0.005127) with: {'n_estimators': 3800}\n",
      "-0.008178 (0.005128) with: {'n_estimators': 3850}\n",
      "-0.008178 (0.005128) with: {'n_estimators': 3900}\n",
      "-0.008179 (0.005132) with: {'n_estimators': 3950}\n"
     ]
    },
    {
     "data": {
      "image/png": "[encoded data removed]",
      "text/plain": [
       "<Figure size 432x288 with 1 Axes>"
      ]
     },
     "metadata": {
      "needs_background": "light"
     },
     "output_type": "display_data"
    }
   ],
   "source": [
    "# XGBoost: Tuning n_estimators\n",
    "from pandas import read_csv\n",
    "from xgboost import XGBClassifier\n",
    "from sklearn.model_selection import GridSearchCV\n",
    "from sklearn.model_selection import StratifiedKFold\n",
    "from sklearn.preprocessing import LabelEncoder\n",
    "import matplotlib\n",
    "matplotlib.use('Agg')\n",
    "from matplotlib import pyplot\n",
    "\n",
    "label_encoded_y = LabelEncoder().fit_transform(y_train)\n",
    "# grid search\n",
    "model = XGBClassifier()\n",
    "n_estimators = range(50, 4000, 50)\n",
    "param_grid = dict(n_estimators=n_estimators)\n",
    "kfold = StratifiedKFold(n_splits=10, shuffle=True, random_state=7)\n",
    "grid_search = GridSearchCV(model, param_grid, scoring=\"neg_log_loss\", n_jobs=-1, cv=kfold)\n",
    "grid_result = grid_search.fit(x_train,y_train)\n",
    "# summarize results\n",
    "print(\"Best: %f using %s\" % (grid_result.best_score_, grid_result.best_params_))\n",
    "means = grid_result.cv_results_['mean_test_score']\n",
    "stds = grid_result.cv_results_['std_test_score']\n",
    "params = grid_result.cv_results_['params']\n",
    "for mean, stdev, param in zip(means, stds, params):\n",
    " print(\"%f (%f) with: %r\" % (mean, stdev, param))\n",
    "# plot\n",
    "pyplot.errorbar(n_estimators, means, yerr=stds)\n",
    "pyplot.title(\"XGBoost n_estimators vs Log Loss\")\n",
    "pyplot.xlabel('n_estimators')\n",
    "pyplot.ylabel('Log Loss')\n",
    "#pyplot.savefig('n_estimators.png')"
   ]
  },
  {
   "cell_type": "code",
   "execution_count": 83,
   "id": "497f6100",
   "metadata": {},
   "outputs": [
    {
     "data": {
      "text/plain": [
       "0.9944903581267218"
      ]
     },
     "execution_count": 83,
     "metadata": {},
     "output_type": "execute_result"
    }
   ],
   "source": [
    "#XGBoost Evaluation\n",
    "xgbc = XGBClassifier(n_estimators=600)\n",
    "xgbc_lda = xgbc.fit(x_train,y_train)\n",
    "xgbc_ytest = xgbc_lda.predict(x_test)\n",
    "np.sum(xgbc_ytest == y_test)/y_test.shape[0] #Accuracy"
   ]
  },
  {
   "cell_type": "code",
   "execution_count": 56,
   "id": "84aacc96",
   "metadata": {},
   "outputs": [
    {
     "data": {
      "text/plain": [
       "0.9972451790633609"
      ]
     },
     "execution_count": 56,
     "metadata": {},
     "output_type": "execute_result"
    }
   ],
   "source": [
    "from sklearn.svm import SVC\n",
    "#SVM Evaluation\n",
    "pd.DataFrame(y_train).value_counts()\n",
    "svc = SVC(C=1.0, random_state=1, kernel='poly')\n",
    "svc.fit(x_train, y_train)\n",
    "x_test_predicted = svc.predict(x_test)\n",
    "np.sum(x_test_predicted == y_test)\n",
    "np.sum(x_test_predicted == y_test)/y_test.shape[0] #Accuracy"
   ]
  }
 ],
 "metadata": {
  "kernelspec": {
   "display_name": "Python 3 (ipykernel)",
   "language": "python",
   "name": "python3"
  },
  "language_info": {
   "codemirror_mode": {
    "name": "ipython",
    "version": 3
   },
   "file_extension": ".py",
   "mimetype": "text/x-python",
   "name": "python",
   "nbconvert_exporter": "python",
   "pygments_lexer": "ipython3",
   "version": "3.9.7"
  }
 },
 "nbformat": 4,
 "nbformat_minor": 5
}
