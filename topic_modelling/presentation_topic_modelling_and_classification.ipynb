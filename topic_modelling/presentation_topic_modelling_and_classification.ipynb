{
 "cells": [
  {
   "cell_type": "markdown",
   "id": "b457e528",
   "metadata": {},
   "source": [
    "# Topic Modelling"
   ]
  },
  {
   "cell_type": "code",
   "execution_count": null,
   "id": "a7701aeb",
   "metadata": {},
   "outputs": [],
   "source": [
    "pip install -r requirement.txt"
   ]
  },
  {
   "cell_type": "code",
   "execution_count": 1,
   "id": "cdc8ac76",
   "metadata": {},
   "outputs": [],
   "source": [
    "from lda_gensim_modularized import *"
   ]
  },
  {
   "cell_type": "code",
   "execution_count": 1,
   "id": "ff7b06fd",
   "metadata": {},
   "outputs": [
    {
     "name": "stdout",
     "output_type": "stream",
     "text": [
      "3.10.4\n"
     ]
    }
   ],
   "source": [
    "from platform import python_version\n",
    "print(python_version())"
   ]
  },
  {
   "cell_type": "code",
   "execution_count": 2,
   "id": "3a0afb5d",
   "metadata": {},
   "outputs": [],
   "source": [
    "# Read in cleaned reviews\n",
    "df_path = '../data/curated/reviews/cleaned_reviews.csv'\n",
    "clean_data = read_data(df_path)"
   ]
  },
  {
   "cell_type": "code",
   "execution_count": 3,
   "id": "b38ee898",
   "metadata": {},
   "outputs": [],
   "source": [
    "# obtain tfidf corpus\n",
    "data = combine_reviews_to_list(clean_data)\n",
    "data_words, id2word, bow_corpus = obtain_corpus(data)\n",
    "corpus_tfidf = get_tfidf_corpus(bow_corpus)"
   ]
  },
  {
   "cell_type": "code",
   "execution_count": 4,
   "id": "80fb6ced",
   "metadata": {},
   "outputs": [
    {
     "name": "stdout",
     "output_type": "stream",
     "text": [
      "Baseline Coherence Score:  0.3741965329013099\n"
     ]
    }
   ],
   "source": [
    "# run LDA baseline model\n",
    "lda_base_model = load_base_lda_model(data_words, id2word, corpus_tfidf)"
   ]
  },
  {
   "cell_type": "code",
   "execution_count": 5,
   "id": "12a0a6d0",
   "metadata": {},
   "outputs": [
    {
     "name": "stdout",
     "output_type": "stream",
     "text": [
      "Num Topics = 2  has Coherence Value of 0.3775\n",
      "Num Topics = 3  has Coherence Value of 0.6298\n",
      "Num Topics = 4  has Coherence Value of 0.535\n",
      "Num Topics = 5  has Coherence Value of 0.5213\n",
      "Num Topics = 6  has Coherence Value of 0.5733\n",
      "Num Topics = 7  has Coherence Value of 0.5392\n",
      "Num Topics = 8  has Coherence Value of 0.5707\n",
      "Num Topics = 9  has Coherence Value of 0.5508\n"
     ]
    },
    {
     "data": {
      "image/png": "[encoded data removed]",
      "text/plain": [
       "<Figure size 432x288 with 1 Axes>"
      ]
     },
     "metadata": {
      "needs_background": "light"
     },
     "output_type": "display_data"
    }
   ],
   "source": [
    "# Obtain optimal number of topics\n",
    "final_num_topics, final_score, coherence_score_topic = get_coherence_values_and_optimal_topic_num(corpus_tfidf,10, id2word, data_words)"
   ]
  },
  {
   "cell_type": "code",
   "execution_count": 44,
   "id": "adaf5631",
   "metadata": {},
   "outputs": [
    {
     "name": "stdout",
     "output_type": "stream",
     "text": [
      "Topic: 0 \n",
      "Words: 0.006*\"coffee\" + 0.004*\"tea\" + 0.004*\"cup\" + 0.003*\"love\" + 0.003*\"price\" + 0.003*\"buy\" + 0.003*\"much\" + 0.003*\"chocolate\" + 0.003*\"try\" + 0.003*\"really\"\n",
      "Topic: 1 \n",
      "Words: 0.003*\"snack\" + 0.003*\"love\" + 0.003*\"bar\" + 0.003*\"price\" + 0.003*\"chip\" + 0.003*\"buy\" + 0.003*\"find\" + 0.003*\"try\" + 0.003*\"eat\" + 0.003*\"would\"\n",
      "Topic: 2 \n",
      "Words: 0.004*\"tea\" + 0.004*\"dog\" + 0.003*\"treat\" + 0.003*\"food\" + 0.002*\"love\" + 0.002*\"buy\" + 0.002*\"coffee\" + 0.002*\"cat\" + 0.002*\"eat\" + 0.002*\"china\"\n",
      "Topic 0: {'cup', 'much', 'chocolate', 'really'}\n",
      "Topic 1: {'snack', 'would', 'bar', 'find', 'chip'}\n",
      "Topic 2: {'treat', 'dog', 'china', 'cat', 'food'}\n"
     ]
    }
   ],
   "source": [
    "# run final LDA model using optimal number of topics\n",
    "lda_final_model = load_final_lda_model(id2word, corpus_tfidf, final_num_topics)\n",
    "\n",
    "# print 10 keywords of the topics\n",
    "unique_sets(lda_final_model)"
   ]
  },
  {
   "cell_type": "code",
   "execution_count": 8,
   "id": "b700bf69",
   "metadata": {},
   "outputs": [
    {
     "name": "stderr",
     "output_type": "stream",
     "text": [
      "C:\\Users\\User\\dsa4263-pietonium\\topic_modelling\\lda_gensim_modularized.py:220: FutureWarning: The frame.append method is deprecated and will be removed from pandas in a future version. Use pandas.concat instead.\n",
      "  sent_topics_df = sent_topics_df.append(pd.Series([int(topic_num), round(prop_topic,4), topic_keywords]), ignore_index=True)\n",
      "C:\\Users\\User\\dsa4263-pietonium\\topic_modelling\\lda_gensim_modularized.py:220: FutureWarning: The frame.append method is deprecated and will be removed from pandas in a future version. Use pandas.concat instead.\n",
      "  sent_topics_df = sent_topics_df.append(pd.Series([int(topic_num), round(prop_topic,4), topic_keywords]), ignore_index=True)\n"
     ]
    },
    {
     "data": {
      "text/plain": [
       "0    2455\n",
       "1    2226\n",
       "2     763\n",
       "Name: Dominant_Topic, dtype: int64"
      ]
     },
     "execution_count": 8,
     "metadata": {},
     "output_type": "execute_result"
    }
   ],
   "source": [
    "# Obtain the dominant topic for each review and save it to csv\n",
    "topic_df, df = save_dominant_topic_per_review(lda_final_model, corpus_tfidf, data)\n",
    "# topic distribution \n",
    "topic_distri_across_review(topic_df)"
   ]
  },
  {
   "cell_type": "markdown",
   "id": "a013a24a",
   "metadata": {},
   "source": [
    "# Topic Classification"
   ]
  },
  {
   "cell_type": "code",
   "execution_count": 54,
   "id": "4fb6cee9",
   "metadata": {},
   "outputs": [],
   "source": [
    "from topic_classification_modularized import *"
   ]
  },
  {
   "cell_type": "code",
   "execution_count": 55,
   "id": "0b270126",
   "metadata": {},
   "outputs": [],
   "source": [
    "train, test = split_test_train(df)"
   ]
  },
  {
   "cell_type": "code",
   "execution_count": 56,
   "id": "77e36f8d",
   "metadata": {},
   "outputs": [],
   "source": [
    "# Obtain train and test corpus respectively using LDA dictionary aka id2words \n",
    "x_train_corpus = preprocess_test_train(train, id2word)\n",
    "x_test_corpus = preprocess_test_train(test, id2word)"
   ]
  },
  {
   "cell_type": "code",
   "execution_count": 57,
   "id": "60ae2896",
   "metadata": {},
   "outputs": [],
   "source": [
    "y_train, y_test = y_label(train, test)"
   ]
  },
  {
   "cell_type": "code",
   "execution_count": 58,
   "id": "cdae011e",
   "metadata": {},
   "outputs": [],
   "source": [
    "# Convert corpus to vectors to feed into sklearn\n",
    "train_vecs = create_vectors(x_train_corpus, train, lda_final_model, final_num_topics)\n",
    "test_vecs = create_vectors(x_train_corpus, test, lda_final_model, final_num_topics)"
   ]
  },
  {
   "cell_type": "code",
   "execution_count": 59,
   "id": "8ee9cf44",
   "metadata": {},
   "outputs": [],
   "source": [
    "# Convert vector to scaled numpy array\n",
    "x_train_scale, y_train, x_test_scale, y_test = convert_vector_to_scaled_array(train_vecs, y_train, test_vecs, y_test)"
   ]
  },
  {
   "cell_type": "code",
   "execution_count": 60,
   "id": "f3a9b2c5",
   "metadata": {},
   "outputs": [
    {
     "name": "stdout",
     "output_type": "stream",
     "text": [
      "              precision    recall  f1-score      support\n",
      "0              0.425243  0.452479  0.438438   484.000000\n",
      "1              0.367442  0.355856  0.361556   444.000000\n",
      "2              0.111111  0.099379  0.104918   161.000000\n",
      "accuracy       0.360882  0.360882  0.360882     0.360882\n",
      "macro avg      0.301265  0.302571  0.301638  1089.000000\n",
      "weighted avg   0.355235  0.360882  0.357784  1089.000000      0    1   2\n",
      "0  219  206  59\n",
      "1  217  158  69\n",
      "2   79   66  16\n"
     ]
    }
   ],
   "source": [
    "# Baseline_xgb\n",
    "xgb_base = baseline_xgb(x_train_scale, y_train)\n",
    "\n",
    "# Confusion matrix and classification report of baseline xgb\n",
    "classification_df, confusion_matrix_df = predict_and_evaluate_model(xgb_base, x_test_scale, y_test)\n",
    "print(classification_df, confusion_matrix_df)"
   ]
  },
  {
   "cell_type": "code",
   "execution_count": 61,
   "id": "9e126342",
   "metadata": {},
   "outputs": [
    {
     "name": "stdout",
     "output_type": "stream",
     "text": [
      "Best: -0.055919 using {'n_estimators': 50}\n"
     ]
    }
   ],
   "source": [
    "tune_hyperparameter(x_train_scale, y_train)"
   ]
  },
  {
   "cell_type": "code",
   "execution_count": 62,
   "id": "3af362e1",
   "metadata": {},
   "outputs": [
    {
     "name": "stdout",
     "output_type": "stream",
     "text": [
      "              precision    recall  f1-score      support\n",
      "0              0.425243  0.452479  0.438438   484.000000\n",
      "1              0.366589  0.355856  0.361143   444.000000\n",
      "2              0.111888  0.099379  0.105263   161.000000\n",
      "accuracy       0.360882  0.360882  0.360882     0.360882\n",
      "macro avg      0.301240  0.302571  0.301615  1089.000000\n",
      "weighted avg   0.355002  0.360882  0.357667  1089.000000      0    1   2\n",
      "0  219  207  58\n",
      "1  217  158  69\n",
      "2   79   66  16\n"
     ]
    }
   ],
   "source": [
    "# Final xgb\n",
    "xgb_final = final_xgb(x_train_scale, y_train)\n",
    "\n",
    "# Confusion matrix and classification report of baseline xgb\n",
    "classification_df, confusion_matrix_df = predict_and_evaluate_model(xgb_final, x_test_scale, y_test)\n",
    "print(classification_df, confusion_matrix_df)"
   ]
  }
 ],
 "metadata": {
  "kernelspec": {
   "display_name": "Python 3 (ipykernel)",
   "language": "python",
   "name": "python3"
  },
  "language_info": {
   "codemirror_mode": {
    "name": "ipython",
    "version": 3
   },
   "file_extension": ".py",
   "mimetype": "text/x-python",
   "name": "python",
   "nbconvert_exporter": "python",
   "pygments_lexer": "ipython3",
   "version": "3.10.4"
  }
 },
 "nbformat": 4,
 "nbformat_minor": 5
}
