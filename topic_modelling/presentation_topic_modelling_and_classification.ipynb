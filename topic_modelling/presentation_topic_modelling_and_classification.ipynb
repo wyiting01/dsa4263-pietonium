{
 "cells": [
  {
   "cell_type": "markdown",
   "id": "b457e528",
   "metadata": {},
   "source": [
    "# Topic Modelling"
   ]
  },
  {
   "cell_type": "code",
   "execution_count": null,
   "id": "a7701aeb",
   "metadata": {},
   "outputs": [],
   "source": [
    "pip install -r requirement.txt"
   ]
  },
  {
   "cell_type": "code",
   "execution_count": 1,
   "id": "cdc8ac76",
   "metadata": {},
   "outputs": [],
   "source": [
    "from lda_gensim_modularized import *"
   ]
  },
  {
   "cell_type": "code",
   "execution_count": 2,
   "id": "ff7b06fd",
   "metadata": {},
   "outputs": [
    {
     "name": "stdout",
     "output_type": "stream",
     "text": [
      "3.10.4\n"
     ]
    }
   ],
   "source": [
    "from platform import python_version\n",
    "print(python_version())"
   ]
  },
  {
   "cell_type": "code",
   "execution_count": 3,
   "id": "3a0afb5d",
   "metadata": {},
   "outputs": [],
   "source": [
    "# Read in cleaned reviews\n",
    "df_path = '../data/curated/reviews/cleaned_reviews.csv'\n",
    "clean_data = read_data(df_path)"
   ]
  },
  {
   "cell_type": "code",
   "execution_count": 4,
   "id": "b38ee898",
   "metadata": {},
   "outputs": [],
   "source": [
    "# obtain tfidf corpus\n",
    "data = combine_reviews_to_list(clean_data)\n",
    "data_words, id2word, bow_corpus = obtain_corpus(data)\n",
    "corpus_tfidf = get_tfidf_corpus(bow_corpus)"
   ]
  },
  {
   "cell_type": "code",
   "execution_count": 6,
   "id": "80fb6ced",
   "metadata": {},
   "outputs": [
    {
     "name": "stdout",
     "output_type": "stream",
     "text": [
      "Baseline Coherence Score:  0.3741965329013099\n"
     ]
    }
   ],
   "source": [
    "# run LDA baseline model\n",
    "lda_base_model = load_base_lda_model(data_words, id2word, corpus_tfidf)"
   ]
  },
  {
   "cell_type": "code",
   "execution_count": 5,
   "id": "12a0a6d0",
   "metadata": {},
   "outputs": [
    {
     "name": "stdout",
     "output_type": "stream",
     "text": [
      "Num Topics = 2  has Coherence Value of 0.3581\n",
      "Num Topics = 3  has Coherence Value of 0.6331\n",
      "Num Topics = 4  has Coherence Value of 0.5661\n",
      "Num Topics = 5  has Coherence Value of 0.5663\n",
      "Num Topics = 6  has Coherence Value of 0.5549\n",
      "Num Topics = 7  has Coherence Value of 0.5671\n",
      "Num Topics = 8  has Coherence Value of 0.5543\n",
      "Num Topics = 9  has Coherence Value of 0.5358\n"
     ]
    },
    {
     "data": {
      "image/png": "[encoded data removed]",
      "text/plain": [
       "<Figure size 432x288 with 1 Axes>"
      ]
     },
     "metadata": {
      "needs_background": "light"
     },
     "output_type": "display_data"
    }
   ],
   "source": [
    "# Obtain optimal number of topics\n",
    "final_num_topics, final_score, coherence_score_topic = get_coherence_values_and_optimal_topic_num(corpus_tfidf,10, id2word, data_words)"
   ]
  },
  {
   "cell_type": "code",
   "execution_count": 7,
   "id": "adaf5631",
   "metadata": {},
   "outputs": [
    {
     "name": "stdout",
     "output_type": "stream",
     "text": [
      "Topic: 0 \n",
      "Words: 0.006*\"coffee\" + 0.004*\"tea\" + 0.004*\"cup\" + 0.003*\"price\" + 0.003*\"love\" + 0.003*\"buy\" + 0.003*\"much\" + 0.003*\"chocolate\" + 0.003*\"try\" + 0.003*\"really\"\n",
      "Topic: 1 \n",
      "Words: 0.003*\"love\" + 0.003*\"snack\" + 0.003*\"bar\" + 0.003*\"price\" + 0.003*\"chip\" + 0.003*\"buy\" + 0.003*\"find\" + 0.003*\"try\" + 0.003*\"eat\" + 0.003*\"would\"\n",
      "Topic: 2 \n",
      "Words: 0.004*\"dog\" + 0.004*\"tea\" + 0.003*\"treat\" + 0.003*\"food\" + 0.002*\"love\" + 0.002*\"buy\" + 0.002*\"coffee\" + 0.002*\"cat\" + 0.002*\"eat\" + 0.002*\"china\"\n",
      "Topic 0: {'really', 'cup', 'much', 'chocolate'}\n",
      "Topic 1: {'find', 'snack', 'bar', 'would', 'chip'}\n",
      "Topic 2: {'dog', 'china', 'cat', 'food', 'treat'}\n"
     ]
    }
   ],
   "source": [
    "# run final LDA model using optimal number of topics\n",
    "lda_final_model = load_final_lda_model(id2word, corpus_tfidf, final_num_topics)\n",
    "\n",
    "# print 10 keywords of the topics\n",
    "unique_sets(lda_final_model)"
   ]
  },
  {
   "cell_type": "code",
   "execution_count": 8,
   "id": "b700bf69",
   "metadata": {},
   "outputs": [
    {
     "data": {
      "text/plain": [
       "0    2456\n",
       "1    2235\n",
       "2     753\n",
       "Name: Dominant_Topic, dtype: int64"
      ]
     },
     "execution_count": 8,
     "metadata": {},
     "output_type": "execute_result"
    }
   ],
   "source": [
    "# Obtain the dominant topic for each review and save it to csv\n",
    "topic_review_df = dominant_topic_per_review(lda_final_model, corpus_tfidf, data)\n",
    "\n",
    "# topic distribution \n",
    "topic_distri_across_review(topic_review_df)"
   ]
  },
  {
   "cell_type": "markdown",
   "id": "a013a24a",
   "metadata": {},
   "source": [
    "# Topic Classification"
   ]
  },
  {
   "cell_type": "code",
   "execution_count": 9,
   "id": "4fb6cee9",
   "metadata": {},
   "outputs": [],
   "source": [
    "from topic_classification_modularized import *"
   ]
  },
  {
   "cell_type": "code",
   "execution_count": 10,
   "id": "0b270126",
   "metadata": {},
   "outputs": [],
   "source": [
    "train, test = split_test_train(topic_review_df)"
   ]
  },
  {
   "cell_type": "code",
   "execution_count": 11,
   "id": "77e36f8d",
   "metadata": {},
   "outputs": [],
   "source": [
    "# Obtain train and test corpus respectively using LDA dictionary aka id2words \n",
    "x_train_corpus = preprocess_test_train(train, id2word)\n",
    "x_test_corpus = preprocess_test_train(test, id2word)"
   ]
  },
  {
   "cell_type": "code",
   "execution_count": 12,
   "id": "60ae2896",
   "metadata": {},
   "outputs": [],
   "source": [
    "y_train, y_test = y_label(train, test)"
   ]
  },
  {
   "cell_type": "code",
   "execution_count": 13,
   "id": "cdae011e",
   "metadata": {},
   "outputs": [],
   "source": [
    "# Convert corpus to vectors to feed into sklearn\n",
    "train_vecs = create_vectors(x_train_corpus, train, lda_final_model, final_num_topics)\n",
    "test_vecs = create_vectors(x_test_corpus, test, lda_final_model, final_num_topics)"
   ]
  },
  {
   "cell_type": "code",
   "execution_count": 14,
   "id": "8ee9cf44",
   "metadata": {},
   "outputs": [],
   "source": [
    "# Convert vector to scaled numpy array\n",
    "x_train_scale, y_train, x_test_scale, y_test = convert_vector_to_scaled_array(train_vecs, y_train, test_vecs, y_test)"
   ]
  },
  {
   "cell_type": "code",
   "execution_count": 16,
   "id": "e67e0939",
   "metadata": {},
   "outputs": [
    {
     "name": "stdout",
     "output_type": "stream",
     "text": [
      "              precision    recall  f1-score      support\n",
      "0              0.948025  0.940206  0.944099   485.000000\n",
      "1              0.970320  0.948661  0.959368   448.000000\n",
      "2              0.788235  0.858974  0.822086   156.000000\n",
      "accuracy       0.932048  0.932048  0.932048     0.932048\n",
      "macro avg      0.902193  0.915947  0.908518  1089.000000\n",
      "weighted avg   0.934307  0.932048  0.932902  1089.000000      0    1    2\n",
      "0  456    7   22\n",
      "1    9  425   14\n",
      "2   16    6  134\n"
     ]
    }
   ],
   "source": [
    "# Baseline svc\n",
    "base_svc = baseline_svc(x_train_scale, y_train)\n",
    "\n",
    "classification_df, confusion_matrix_df = predict_and_evaluate_model(base_svc, x_test_scale, y_test)\n",
    "print(classification_df, confusion_matrix_df)"
   ]
  },
  {
   "cell_type": "code",
   "execution_count": 18,
   "id": "1961d70e",
   "metadata": {},
   "outputs": [
    {
     "name": "stdout",
     "output_type": "stream",
     "text": [
      "Fitting 5 folds for each of 48 candidates, totalling 240 fits\n",
      "[CV] END .........................C=0.1, gamma=1, kernel=rbf; total time=   0.0s\n",
      "[CV] END .........................C=0.1, gamma=1, kernel=rbf; total time=   0.0s\n",
      "[CV] END .........................C=0.1, gamma=1, kernel=rbf; total time=   0.0s\n",
      "[CV] END .........................C=0.1, gamma=1, kernel=rbf; total time=   0.0s\n",
      "[CV] END .........................C=0.1, gamma=1, kernel=rbf; total time=   0.0s\n",
      "[CV] END ........................C=0.1, gamma=1, kernel=poly; total time=   0.0s\n",
      "[CV] END ........................C=0.1, gamma=1, kernel=poly; total time=   0.0s\n",
      "[CV] END ........................C=0.1, gamma=1, kernel=poly; total time=   0.0s\n",
      "[CV] END ........................C=0.1, gamma=1, kernel=poly; total time=   0.0s\n",
      "[CV] END ........................C=0.1, gamma=1, kernel=poly; total time=   0.0s\n",
      "[CV] END .....................C=0.1, gamma=1, kernel=sigmoid; total time=   0.0s\n",
      "[CV] END .....................C=0.1, gamma=1, kernel=sigmoid; total time=   0.0s\n",
      "[CV] END .....................C=0.1, gamma=1, kernel=sigmoid; total time=   0.0s\n",
      "[CV] END .....................C=0.1, gamma=1, kernel=sigmoid; total time=   0.0s\n",
      "[CV] END .....................C=0.1, gamma=1, kernel=sigmoid; total time=   0.0s\n",
      "[CV] END .......................C=0.1, gamma=0.1, kernel=rbf; total time=   0.0s\n",
      "[CV] END .......................C=0.1, gamma=0.1, kernel=rbf; total time=   0.0s\n",
      "[CV] END .......................C=0.1, gamma=0.1, kernel=rbf; total time=   0.0s\n",
      "[CV] END .......................C=0.1, gamma=0.1, kernel=rbf; total time=   0.0s\n",
      "[CV] END .......................C=0.1, gamma=0.1, kernel=rbf; total time=   0.0s\n",
      "[CV] END ......................C=0.1, gamma=0.1, kernel=poly; total time=   0.1s\n",
      "[CV] END ......................C=0.1, gamma=0.1, kernel=poly; total time=   0.1s\n",
      "[CV] END ......................C=0.1, gamma=0.1, kernel=poly; total time=   0.1s\n",
      "[CV] END ......................C=0.1, gamma=0.1, kernel=poly; total time=   0.1s\n",
      "[CV] END ......................C=0.1, gamma=0.1, kernel=poly; total time=   0.1s\n",
      "[CV] END ...................C=0.1, gamma=0.1, kernel=sigmoid; total time=   0.0s\n",
      "[CV] END ...................C=0.1, gamma=0.1, kernel=sigmoid; total time=   0.0s\n",
      "[CV] END ...................C=0.1, gamma=0.1, kernel=sigmoid; total time=   0.0s\n",
      "[CV] END ...................C=0.1, gamma=0.1, kernel=sigmoid; total time=   0.0s\n",
      "[CV] END ...................C=0.1, gamma=0.1, kernel=sigmoid; total time=   0.0s\n",
      "[CV] END ......................C=0.1, gamma=0.01, kernel=rbf; total time=   0.1s\n",
      "[CV] END ......................C=0.1, gamma=0.01, kernel=rbf; total time=   0.1s\n",
      "[CV] END ......................C=0.1, gamma=0.01, kernel=rbf; total time=   0.1s\n",
      "[CV] END ......................C=0.1, gamma=0.01, kernel=rbf; total time=   0.1s\n",
      "[CV] END ......................C=0.1, gamma=0.01, kernel=rbf; total time=   0.1s\n",
      "[CV] END .....................C=0.1, gamma=0.01, kernel=poly; total time=   0.3s\n",
      "[CV] END .....................C=0.1, gamma=0.01, kernel=poly; total time=   0.4s\n",
      "[CV] END .....................C=0.1, gamma=0.01, kernel=poly; total time=   0.3s\n",
      "[CV] END .....................C=0.1, gamma=0.01, kernel=poly; total time=   0.3s\n",
      "[CV] END .....................C=0.1, gamma=0.01, kernel=poly; total time=   0.3s\n",
      "[CV] END ..................C=0.1, gamma=0.01, kernel=sigmoid; total time=   0.1s\n",
      "[CV] END ..................C=0.1, gamma=0.01, kernel=sigmoid; total time=   0.1s\n",
      "[CV] END ..................C=0.1, gamma=0.01, kernel=sigmoid; total time=   0.1s\n",
      "[CV] END ..................C=0.1, gamma=0.01, kernel=sigmoid; total time=   0.1s\n",
      "[CV] END ..................C=0.1, gamma=0.01, kernel=sigmoid; total time=   0.1s\n",
      "[CV] END .....................C=0.1, gamma=0.001, kernel=rbf; total time=   0.6s\n",
      "[CV] END .....................C=0.1, gamma=0.001, kernel=rbf; total time=   0.6s\n",
      "[CV] END .....................C=0.1, gamma=0.001, kernel=rbf; total time=   0.6s\n",
      "[CV] END .....................C=0.1, gamma=0.001, kernel=rbf; total time=   0.6s\n",
      "[CV] END .....................C=0.1, gamma=0.001, kernel=rbf; total time=   0.6s\n",
      "[CV] END ....................C=0.1, gamma=0.001, kernel=poly; total time=   0.3s\n",
      "[CV] END ....................C=0.1, gamma=0.001, kernel=poly; total time=   0.3s\n",
      "[CV] END ....................C=0.1, gamma=0.001, kernel=poly; total time=   0.3s\n",
      "[CV] END ....................C=0.1, gamma=0.001, kernel=poly; total time=   0.3s\n",
      "[CV] END ....................C=0.1, gamma=0.001, kernel=poly; total time=   0.3s\n",
      "[CV] END .................C=0.1, gamma=0.001, kernel=sigmoid; total time=   0.5s\n",
      "[CV] END .................C=0.1, gamma=0.001, kernel=sigmoid; total time=   0.5s\n",
      "[CV] END .................C=0.1, gamma=0.001, kernel=sigmoid; total time=   0.5s\n",
      "[CV] END .................C=0.1, gamma=0.001, kernel=sigmoid; total time=   0.4s\n",
      "[CV] END .................C=0.1, gamma=0.001, kernel=sigmoid; total time=   0.5s\n",
      "[CV] END ...........................C=1, gamma=1, kernel=rbf; total time=   0.0s\n",
      "[CV] END ...........................C=1, gamma=1, kernel=rbf; total time=   0.0s\n",
      "[CV] END ...........................C=1, gamma=1, kernel=rbf; total time=   0.0s\n",
      "[CV] END ...........................C=1, gamma=1, kernel=rbf; total time=   0.0s\n",
      "[CV] END ...........................C=1, gamma=1, kernel=rbf; total time=   0.0s\n",
      "[CV] END ..........................C=1, gamma=1, kernel=poly; total time=   0.0s\n",
      "[CV] END ..........................C=1, gamma=1, kernel=poly; total time=   0.0s\n",
      "[CV] END ..........................C=1, gamma=1, kernel=poly; total time=   0.0s\n",
      "[CV] END ..........................C=1, gamma=1, kernel=poly; total time=   0.0s\n",
      "[CV] END ..........................C=1, gamma=1, kernel=poly; total time=   0.0s\n",
      "[CV] END .......................C=1, gamma=1, kernel=sigmoid; total time=   0.0s\n",
      "[CV] END .......................C=1, gamma=1, kernel=sigmoid; total time=   0.0s\n",
      "[CV] END .......................C=1, gamma=1, kernel=sigmoid; total time=   0.0s\n",
      "[CV] END .......................C=1, gamma=1, kernel=sigmoid; total time=   0.0s\n",
      "[CV] END .......................C=1, gamma=1, kernel=sigmoid; total time=   0.0s\n",
      "[CV] END .........................C=1, gamma=0.1, kernel=rbf; total time=   0.0s\n",
      "[CV] END .........................C=1, gamma=0.1, kernel=rbf; total time=   0.0s\n",
      "[CV] END .........................C=1, gamma=0.1, kernel=rbf; total time=   0.0s\n",
      "[CV] END .........................C=1, gamma=0.1, kernel=rbf; total time=   0.0s\n",
      "[CV] END .........................C=1, gamma=0.1, kernel=rbf; total time=   0.0s\n",
      "[CV] END ........................C=1, gamma=0.1, kernel=poly; total time=   0.0s\n",
      "[CV] END ........................C=1, gamma=0.1, kernel=poly; total time=   0.0s\n",
      "[CV] END ........................C=1, gamma=0.1, kernel=poly; total time=   0.0s\n",
      "[CV] END ........................C=1, gamma=0.1, kernel=poly; total time=   0.0s\n",
      "[CV] END ........................C=1, gamma=0.1, kernel=poly; total time=   0.0s\n",
      "[CV] END .....................C=1, gamma=0.1, kernel=sigmoid; total time=   0.0s\n",
      "[CV] END .....................C=1, gamma=0.1, kernel=sigmoid; total time=   0.0s\n",
      "[CV] END .....................C=1, gamma=0.1, kernel=sigmoid; total time=   0.0s\n",
      "[CV] END .....................C=1, gamma=0.1, kernel=sigmoid; total time=   0.0s\n",
      "[CV] END .....................C=1, gamma=0.1, kernel=sigmoid; total time=   0.0s\n",
      "[CV] END ........................C=1, gamma=0.01, kernel=rbf; total time=   0.0s\n",
      "[CV] END ........................C=1, gamma=0.01, kernel=rbf; total time=   0.2s\n",
      "[CV] END ........................C=1, gamma=0.01, kernel=rbf; total time=   0.0s\n",
      "[CV] END ........................C=1, gamma=0.01, kernel=rbf; total time=   0.0s\n",
      "[CV] END ........................C=1, gamma=0.01, kernel=rbf; total time=   0.0s\n",
      "[CV] END .......................C=1, gamma=0.01, kernel=poly; total time=   0.3s\n",
      "[CV] END .......................C=1, gamma=0.01, kernel=poly; total time=   0.3s\n",
      "[CV] END .......................C=1, gamma=0.01, kernel=poly; total time=   0.4s\n",
      "[CV] END .......................C=1, gamma=0.01, kernel=poly; total time=   0.3s\n",
      "[CV] END .......................C=1, gamma=0.01, kernel=poly; total time=   0.4s\n",
      "[CV] END ....................C=1, gamma=0.01, kernel=sigmoid; total time=   0.0s\n",
      "[CV] END ....................C=1, gamma=0.01, kernel=sigmoid; total time=   0.0s\n"
     ]
    },
    {
     "name": "stdout",
     "output_type": "stream",
     "text": [
      "[CV] END ....................C=1, gamma=0.01, kernel=sigmoid; total time=   0.0s\n",
      "[CV] END ....................C=1, gamma=0.01, kernel=sigmoid; total time=   0.0s\n",
      "[CV] END ....................C=1, gamma=0.01, kernel=sigmoid; total time=   0.0s\n",
      "[CV] END .......................C=1, gamma=0.001, kernel=rbf; total time=   0.1s\n",
      "[CV] END .......................C=1, gamma=0.001, kernel=rbf; total time=   0.1s\n",
      "[CV] END .......................C=1, gamma=0.001, kernel=rbf; total time=   0.1s\n",
      "[CV] END .......................C=1, gamma=0.001, kernel=rbf; total time=   0.1s\n",
      "[CV] END .......................C=1, gamma=0.001, kernel=rbf; total time=   0.1s\n",
      "[CV] END ......................C=1, gamma=0.001, kernel=poly; total time=   0.3s\n",
      "[CV] END ......................C=1, gamma=0.001, kernel=poly; total time=   0.3s\n",
      "[CV] END ......................C=1, gamma=0.001, kernel=poly; total time=   0.4s\n",
      "[CV] END ......................C=1, gamma=0.001, kernel=poly; total time=   0.4s\n",
      "[CV] END ......................C=1, gamma=0.001, kernel=poly; total time=   0.3s\n",
      "[CV] END ...................C=1, gamma=0.001, kernel=sigmoid; total time=   0.1s\n",
      "[CV] END ...................C=1, gamma=0.001, kernel=sigmoid; total time=   0.1s\n",
      "[CV] END ...................C=1, gamma=0.001, kernel=sigmoid; total time=   0.1s\n",
      "[CV] END ...................C=1, gamma=0.001, kernel=sigmoid; total time=   0.1s\n",
      "[CV] END ...................C=1, gamma=0.001, kernel=sigmoid; total time=   0.1s\n",
      "[CV] END ..........................C=10, gamma=1, kernel=rbf; total time=   0.0s\n",
      "[CV] END ..........................C=10, gamma=1, kernel=rbf; total time=   0.0s\n",
      "[CV] END ..........................C=10, gamma=1, kernel=rbf; total time=   0.0s\n",
      "[CV] END ..........................C=10, gamma=1, kernel=rbf; total time=   0.0s\n",
      "[CV] END ..........................C=10, gamma=1, kernel=rbf; total time=   0.0s\n",
      "[CV] END .........................C=10, gamma=1, kernel=poly; total time=   0.0s\n",
      "[CV] END .........................C=10, gamma=1, kernel=poly; total time=   0.0s\n",
      "[CV] END .........................C=10, gamma=1, kernel=poly; total time=   0.0s\n",
      "[CV] END .........................C=10, gamma=1, kernel=poly; total time=   0.0s\n",
      "[CV] END .........................C=10, gamma=1, kernel=poly; total time=   0.0s\n",
      "[CV] END ......................C=10, gamma=1, kernel=sigmoid; total time=   0.0s\n",
      "[CV] END ......................C=10, gamma=1, kernel=sigmoid; total time=   0.0s\n",
      "[CV] END ......................C=10, gamma=1, kernel=sigmoid; total time=   0.0s\n",
      "[CV] END ......................C=10, gamma=1, kernel=sigmoid; total time=   0.0s\n",
      "[CV] END ......................C=10, gamma=1, kernel=sigmoid; total time=   0.0s\n",
      "[CV] END ........................C=10, gamma=0.1, kernel=rbf; total time=   0.0s\n",
      "[CV] END ........................C=10, gamma=0.1, kernel=rbf; total time=   0.0s\n",
      "[CV] END ........................C=10, gamma=0.1, kernel=rbf; total time=   0.0s\n",
      "[CV] END ........................C=10, gamma=0.1, kernel=rbf; total time=   0.0s\n",
      "[CV] END ........................C=10, gamma=0.1, kernel=rbf; total time=   0.0s\n",
      "[CV] END .......................C=10, gamma=0.1, kernel=poly; total time=   0.0s\n",
      "[CV] END .......................C=10, gamma=0.1, kernel=poly; total time=   0.0s\n",
      "[CV] END .......................C=10, gamma=0.1, kernel=poly; total time=   0.0s\n",
      "[CV] END .......................C=10, gamma=0.1, kernel=poly; total time=   0.0s\n",
      "[CV] END .......................C=10, gamma=0.1, kernel=poly; total time=   0.0s\n",
      "[CV] END ....................C=10, gamma=0.1, kernel=sigmoid; total time=   0.0s\n",
      "[CV] END ....................C=10, gamma=0.1, kernel=sigmoid; total time=   0.0s\n",
      "[CV] END ....................C=10, gamma=0.1, kernel=sigmoid; total time=   0.0s\n",
      "[CV] END ....................C=10, gamma=0.1, kernel=sigmoid; total time=   0.0s\n",
      "[CV] END ....................C=10, gamma=0.1, kernel=sigmoid; total time=   0.0s\n",
      "[CV] END .......................C=10, gamma=0.01, kernel=rbf; total time=   0.0s\n",
      "[CV] END .......................C=10, gamma=0.01, kernel=rbf; total time=   0.0s\n",
      "[CV] END .......................C=10, gamma=0.01, kernel=rbf; total time=   0.0s\n",
      "[CV] END .......................C=10, gamma=0.01, kernel=rbf; total time=   0.0s\n",
      "[CV] END .......................C=10, gamma=0.01, kernel=rbf; total time=   0.0s\n",
      "[CV] END ......................C=10, gamma=0.01, kernel=poly; total time=   0.3s\n",
      "[CV] END ......................C=10, gamma=0.01, kernel=poly; total time=   0.3s\n",
      "[CV] END ......................C=10, gamma=0.01, kernel=poly; total time=   0.3s\n",
      "[CV] END ......................C=10, gamma=0.01, kernel=poly; total time=   0.3s\n",
      "[CV] END ......................C=10, gamma=0.01, kernel=poly; total time=   0.3s\n",
      "[CV] END ...................C=10, gamma=0.01, kernel=sigmoid; total time=   0.0s\n",
      "[CV] END ...................C=10, gamma=0.01, kernel=sigmoid; total time=   0.0s\n",
      "[CV] END ...................C=10, gamma=0.01, kernel=sigmoid; total time=   0.0s\n",
      "[CV] END ...................C=10, gamma=0.01, kernel=sigmoid; total time=   0.0s\n",
      "[CV] END ...................C=10, gamma=0.01, kernel=sigmoid; total time=   0.0s\n",
      "[CV] END ......................C=10, gamma=0.001, kernel=rbf; total time=   0.0s\n",
      "[CV] END ......................C=10, gamma=0.001, kernel=rbf; total time=   0.0s\n",
      "[CV] END ......................C=10, gamma=0.001, kernel=rbf; total time=   0.0s\n",
      "[CV] END ......................C=10, gamma=0.001, kernel=rbf; total time=   0.0s\n",
      "[CV] END ......................C=10, gamma=0.001, kernel=rbf; total time=   0.0s\n",
      "[CV] END .....................C=10, gamma=0.001, kernel=poly; total time=   0.3s\n",
      "[CV] END .....................C=10, gamma=0.001, kernel=poly; total time=   0.3s\n",
      "[CV] END .....................C=10, gamma=0.001, kernel=poly; total time=   0.3s\n",
      "[CV] END .....................C=10, gamma=0.001, kernel=poly; total time=   0.3s\n",
      "[CV] END .....................C=10, gamma=0.001, kernel=poly; total time=   0.3s\n",
      "[CV] END ..................C=10, gamma=0.001, kernel=sigmoid; total time=   0.0s\n",
      "[CV] END ..................C=10, gamma=0.001, kernel=sigmoid; total time=   0.0s\n",
      "[CV] END ..................C=10, gamma=0.001, kernel=sigmoid; total time=   0.0s\n",
      "[CV] END ..................C=10, gamma=0.001, kernel=sigmoid; total time=   0.0s\n",
      "[CV] END ..................C=10, gamma=0.001, kernel=sigmoid; total time=   0.0s\n",
      "[CV] END .........................C=100, gamma=1, kernel=rbf; total time=   0.0s\n",
      "[CV] END .........................C=100, gamma=1, kernel=rbf; total time=   0.0s\n",
      "[CV] END .........................C=100, gamma=1, kernel=rbf; total time=   0.0s\n",
      "[CV] END .........................C=100, gamma=1, kernel=rbf; total time=   0.0s\n",
      "[CV] END .........................C=100, gamma=1, kernel=rbf; total time=   0.0s\n",
      "[CV] END ........................C=100, gamma=1, kernel=poly; total time=   0.0s\n",
      "[CV] END ........................C=100, gamma=1, kernel=poly; total time=   0.0s\n",
      "[CV] END ........................C=100, gamma=1, kernel=poly; total time=   0.0s\n",
      "[CV] END ........................C=100, gamma=1, kernel=poly; total time=   0.0s\n",
      "[CV] END ........................C=100, gamma=1, kernel=poly; total time=   0.0s\n",
      "[CV] END .....................C=100, gamma=1, kernel=sigmoid; total time=   0.0s\n",
      "[CV] END .....................C=100, gamma=1, kernel=sigmoid; total time=   0.0s\n",
      "[CV] END .....................C=100, gamma=1, kernel=sigmoid; total time=   0.0s\n",
      "[CV] END .....................C=100, gamma=1, kernel=sigmoid; total time=   0.0s\n",
      "[CV] END .....................C=100, gamma=1, kernel=sigmoid; total time=   0.0s\n",
      "[CV] END .......................C=100, gamma=0.1, kernel=rbf; total time=   0.0s\n",
      "[CV] END .......................C=100, gamma=0.1, kernel=rbf; total time=   0.0s\n",
      "[CV] END .......................C=100, gamma=0.1, kernel=rbf; total time=   0.0s\n",
      "[CV] END .......................C=100, gamma=0.1, kernel=rbf; total time=   0.0s\n",
      "[CV] END .......................C=100, gamma=0.1, kernel=rbf; total time=   0.0s\n",
      "[CV] END ......................C=100, gamma=0.1, kernel=poly; total time=   0.0s\n",
      "[CV] END ......................C=100, gamma=0.1, kernel=poly; total time=   0.0s\n",
      "[CV] END ......................C=100, gamma=0.1, kernel=poly; total time=   0.0s\n",
      "[CV] END ......................C=100, gamma=0.1, kernel=poly; total time=   0.0s\n",
      "[CV] END ......................C=100, gamma=0.1, kernel=poly; total time=   0.0s\n",
      "[CV] END ...................C=100, gamma=0.1, kernel=sigmoid; total time=   0.0s\n",
      "[CV] END ...................C=100, gamma=0.1, kernel=sigmoid; total time=   0.0s\n"
     ]
    },
    {
     "name": "stdout",
     "output_type": "stream",
     "text": [
      "[CV] END ...................C=100, gamma=0.1, kernel=sigmoid; total time=   0.0s\n",
      "[CV] END ...................C=100, gamma=0.1, kernel=sigmoid; total time=   0.0s\n",
      "[CV] END ...................C=100, gamma=0.1, kernel=sigmoid; total time=   0.0s\n",
      "[CV] END ......................C=100, gamma=0.01, kernel=rbf; total time=   0.0s\n",
      "[CV] END ......................C=100, gamma=0.01, kernel=rbf; total time=   0.0s\n",
      "[CV] END ......................C=100, gamma=0.01, kernel=rbf; total time=   0.0s\n",
      "[CV] END ......................C=100, gamma=0.01, kernel=rbf; total time=   0.0s\n",
      "[CV] END ......................C=100, gamma=0.01, kernel=rbf; total time=   0.0s\n",
      "[CV] END .....................C=100, gamma=0.01, kernel=poly; total time=   0.1s\n",
      "[CV] END .....................C=100, gamma=0.01, kernel=poly; total time=   0.1s\n",
      "[CV] END .....................C=100, gamma=0.01, kernel=poly; total time=   0.1s\n",
      "[CV] END .....................C=100, gamma=0.01, kernel=poly; total time=   0.1s\n",
      "[CV] END .....................C=100, gamma=0.01, kernel=poly; total time=   0.1s\n",
      "[CV] END ..................C=100, gamma=0.01, kernel=sigmoid; total time=   0.0s\n",
      "[CV] END ..................C=100, gamma=0.01, kernel=sigmoid; total time=   0.0s\n",
      "[CV] END ..................C=100, gamma=0.01, kernel=sigmoid; total time=   0.0s\n",
      "[CV] END ..................C=100, gamma=0.01, kernel=sigmoid; total time=   0.0s\n",
      "[CV] END ..................C=100, gamma=0.01, kernel=sigmoid; total time=   0.0s\n",
      "[CV] END .....................C=100, gamma=0.001, kernel=rbf; total time=   0.0s\n",
      "[CV] END .....................C=100, gamma=0.001, kernel=rbf; total time=   0.0s\n",
      "[CV] END .....................C=100, gamma=0.001, kernel=rbf; total time=   0.0s\n",
      "[CV] END .....................C=100, gamma=0.001, kernel=rbf; total time=   0.0s\n",
      "[CV] END .....................C=100, gamma=0.001, kernel=rbf; total time=   0.0s\n",
      "[CV] END ....................C=100, gamma=0.001, kernel=poly; total time=   0.4s\n",
      "[CV] END ....................C=100, gamma=0.001, kernel=poly; total time=   0.4s\n",
      "[CV] END ....................C=100, gamma=0.001, kernel=poly; total time=   0.3s\n",
      "[CV] END ....................C=100, gamma=0.001, kernel=poly; total time=   0.3s\n",
      "[CV] END ....................C=100, gamma=0.001, kernel=poly; total time=   0.3s\n",
      "[CV] END .................C=100, gamma=0.001, kernel=sigmoid; total time=   0.0s\n",
      "[CV] END .................C=100, gamma=0.001, kernel=sigmoid; total time=   0.0s\n",
      "[CV] END .................C=100, gamma=0.001, kernel=sigmoid; total time=   0.0s\n",
      "[CV] END .................C=100, gamma=0.001, kernel=sigmoid; total time=   0.0s\n",
      "[CV] END .................C=100, gamma=0.001, kernel=sigmoid; total time=   0.0s\n",
      "{'C': 0.1, 'gamma': 0.01, 'kernel': 'sigmoid'}\n"
     ]
    }
   ],
   "source": [
    "tune_hyperparameter(x_train_scale, y_train)"
   ]
  },
  {
   "cell_type": "code",
   "execution_count": 19,
   "id": "e6d0dfde",
   "metadata": {},
   "outputs": [
    {
     "name": "stdout",
     "output_type": "stream",
     "text": [
      "              precision    recall  f1-score      support\n",
      "0              0.977413  0.981443  0.979424   485.000000\n",
      "1              0.973626  0.988839  0.981174   448.000000\n",
      "2              0.979592  0.923077  0.950495   156.000000\n",
      "accuracy       0.976125  0.976125  0.976125     0.976125\n",
      "macro avg      0.976877  0.964453  0.970364  1089.000000\n",
      "weighted avg   0.976167  0.976125  0.976000  1089.000000      0    1    2\n",
      "0  476    7    2\n",
      "1    4  443    1\n",
      "2    7    5  144\n"
     ]
    }
   ],
   "source": [
    "# Final svc\n",
    "svc_final =  final_svc(x_train_scale, y_train,  0.1,  0.01, 'sigmoid')\n",
    "\n",
    "classification_df, confusion_matrix_df = predict_and_evaluate_model(svc_final, x_test_scale, y_test)\n",
    "print(classification_df, confusion_matrix_df)"
   ]
  }
 ],
 "metadata": {
  "kernelspec": {
   "display_name": "Python 3 (ipykernel)",
   "language": "python",
   "name": "python3"
  },
  "language_info": {
   "codemirror_mode": {
    "name": "ipython",
    "version": 3
   },
   "file_extension": ".py",
   "mimetype": "text/x-python",
   "name": "python",
   "nbconvert_exporter": "python",
   "pygments_lexer": "ipython3",
   "version": "3.10.4"
  }
 },
 "nbformat": 4,
 "nbformat_minor": 5
}
