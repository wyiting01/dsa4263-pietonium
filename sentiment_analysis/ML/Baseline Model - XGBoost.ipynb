{
 "cells": [
  {
   "cell_type": "code",
   "execution_count": 12,
   "id": "89172bb3",
   "metadata": {},
   "outputs": [],
   "source": [
    "import pandas as pd\n",
    "import numpy as np\n",
    "import matplotlib.pyplot as plt\n",
    "import pickle\n",
    "\n",
    "from sklearn.model_selection import train_test_split, KFold, cross_val_score\n",
    "from sklearn.feature_extraction.text import TfidfVectorizer\n",
    "from sklearn.metrics import classification_report, confusion_matrix, ConfusionMatrixDisplay\n",
    "\n",
    "from xgboost import XGBClassifier"
   ]
  },
  {
   "cell_type": "code",
   "execution_count": 2,
   "id": "9cf910f2",
   "metadata": {},
   "outputs": [
    {
     "data": {
      "text/html": [
       "<div>\n",
       "<style scoped>\n",
       "    .dataframe tbody tr th:only-of-type {\n",
       "        vertical-align: middle;\n",
       "    }\n",
       "\n",
       "    .dataframe tbody tr th {\n",
       "        vertical-align: top;\n",
       "    }\n",
       "\n",
       "    .dataframe thead th {\n",
       "        text-align: right;\n",
       "    }\n",
       "</style>\n",
       "<table border=\"1\" class=\"dataframe\">\n",
       "  <thead>\n",
       "    <tr style=\"text-align: right;\">\n",
       "      <th></th>\n",
       "      <th>Sentiment</th>\n",
       "      <th>Time</th>\n",
       "      <th>Text</th>\n",
       "      <th>processed_text</th>\n",
       "    </tr>\n",
       "  </thead>\n",
       "  <tbody>\n",
       "    <tr>\n",
       "      <th>0</th>\n",
       "      <td>0</td>\n",
       "      <td>2021-06-18</td>\n",
       "      <td>This is a very healthy dog food. Good for thei...</td>\n",
       "      <td>healthy dog food good digestion also good smal...</td>\n",
       "    </tr>\n",
       "    <tr>\n",
       "      <th>1</th>\n",
       "      <td>0</td>\n",
       "      <td>2021-07-07</td>\n",
       "      <td>I've been very pleased with the Natural Balanc...</td>\n",
       "      <td>please natural balance dog food dog issue dog ...</td>\n",
       "    </tr>\n",
       "    <tr>\n",
       "      <th>2</th>\n",
       "      <td>0</td>\n",
       "      <td>2021-06-18</td>\n",
       "      <td>Before I was educated about feline nutrition, ...</td>\n",
       "      <td>educate feline nutrition allow cat become addi...</td>\n",
       "    </tr>\n",
       "    <tr>\n",
       "      <th>3</th>\n",
       "      <td>0</td>\n",
       "      <td>2021-07-07</td>\n",
       "      <td>My holistic vet recommended this, along with a...</td>\n",
       "      <td>holistic vet recommend along brand try cat pre...</td>\n",
       "    </tr>\n",
       "    <tr>\n",
       "      <th>4</th>\n",
       "      <td>0</td>\n",
       "      <td>2021-01-07</td>\n",
       "      <td>I bought this coffee because its much cheaper ...</td>\n",
       "      <td>buy coffee much cheaper ganocafe organic reish...</td>\n",
       "    </tr>\n",
       "    <tr>\n",
       "      <th>...</th>\n",
       "      <td>...</td>\n",
       "      <td>...</td>\n",
       "      <td>...</td>\n",
       "      <td>...</td>\n",
       "    </tr>\n",
       "    <tr>\n",
       "      <th>5439</th>\n",
       "      <td>1</td>\n",
       "      <td>2021-02-26</td>\n",
       "      <td>This is an okay gift box, only if you like med...</td>\n",
       "      <td>okay gift box like mediocre cheese summer saus...</td>\n",
       "    </tr>\n",
       "    <tr>\n",
       "      <th>5440</th>\n",
       "      <td>1</td>\n",
       "      <td>2019-12-18</td>\n",
       "      <td>It looks llike I just walked into a raw deal. ...</td>\n",
       "      <td>look llike walk raw deal item intolerably stal...</td>\n",
       "    </tr>\n",
       "    <tr>\n",
       "      <th>5441</th>\n",
       "      <td>1</td>\n",
       "      <td>2020-01-19</td>\n",
       "      <td>Thank god that i tasted the metal before i swa...</td>\n",
       "      <td>thank god taste metal swallow dont even get ge...</td>\n",
       "    </tr>\n",
       "    <tr>\n",
       "      <th>5442</th>\n",
       "      <td>1</td>\n",
       "      <td>2020-09-13</td>\n",
       "      <td>This product was very good when I began buying...</td>\n",
       "      <td>product good begin buy lately terrible taste r...</td>\n",
       "    </tr>\n",
       "    <tr>\n",
       "      <th>5443</th>\n",
       "      <td>1</td>\n",
       "      <td>2020-10-07</td>\n",
       "      <td>Once again, Paragon has disappointed with this...</td>\n",
       "      <td>paragon disappoint flavor hawaiian tropic simp...</td>\n",
       "    </tr>\n",
       "  </tbody>\n",
       "</table>\n",
       "<p>5444 rows × 4 columns</p>\n",
       "</div>"
      ],
      "text/plain": [
       "      Sentiment       Time                                               Text  \\\n",
       "0             0 2021-06-18  This is a very healthy dog food. Good for thei...   \n",
       "1             0 2021-07-07  I've been very pleased with the Natural Balanc...   \n",
       "2             0 2021-06-18  Before I was educated about feline nutrition, ...   \n",
       "3             0 2021-07-07  My holistic vet recommended this, along with a...   \n",
       "4             0 2021-01-07  I bought this coffee because its much cheaper ...   \n",
       "...         ...        ...                                                ...   \n",
       "5439          1 2021-02-26  This is an okay gift box, only if you like med...   \n",
       "5440          1 2019-12-18  It looks llike I just walked into a raw deal. ...   \n",
       "5441          1 2020-01-19  Thank god that i tasted the metal before i swa...   \n",
       "5442          1 2020-09-13  This product was very good when I began buying...   \n",
       "5443          1 2020-10-07  Once again, Paragon has disappointed with this...   \n",
       "\n",
       "                                         processed_text  \n",
       "0     healthy dog food good digestion also good smal...  \n",
       "1     please natural balance dog food dog issue dog ...  \n",
       "2     educate feline nutrition allow cat become addi...  \n",
       "3     holistic vet recommend along brand try cat pre...  \n",
       "4     buy coffee much cheaper ganocafe organic reish...  \n",
       "...                                                 ...  \n",
       "5439  okay gift box like mediocre cheese summer saus...  \n",
       "5440  look llike walk raw deal item intolerably stal...  \n",
       "5441  thank god taste metal swallow dont even get ge...  \n",
       "5442  product good begin buy lately terrible taste r...  \n",
       "5443  paragon disappoint flavor hawaiian tropic simp...  \n",
       "\n",
       "[5444 rows x 4 columns]"
      ]
     },
     "execution_count": 2,
     "metadata": {},
     "output_type": "execute_result"
    }
   ],
   "source": [
    "df = pd.read_csv('../../data/curated/yiting_cleaned_reviews.csv', parse_dates = ['Time'])\n",
    "df"
   ]
  },
  {
   "cell_type": "markdown",
   "id": "491b926a",
   "metadata": {},
   "source": [
    "## Load in Pre-trained gloVe "
   ]
  },
  {
   "cell_type": "code",
   "execution_count": null,
   "id": "70f5a936",
   "metadata": {},
   "outputs": [],
   "source": [
    "# load gloVe word embeddings and create an Embeddings Dictionary\n",
    "embedding_dictionary = dict()\n",
    "glove_file = open('glove.6B.100d.txt', encoding='utf8')\n",
    "\n",
    "for line in glove_file:\n",
    "    records = line.split()\n",
    "    word = records[0]\n",
    "    vector_dimensions = np.asarray(records[1:], dtype='float32')\n",
    "    embedding_dictionary[word] = vector_dimensions\n",
    "glove_file.close()"
   ]
  },
  {
   "cell_type": "code",
   "execution_count": null,
   "id": "0879f5ef",
   "metadata": {},
   "outputs": [],
   "source": [
    "test = df['processed_text'][0]\n",
    "test"
   ]
  },
  {
   "cell_type": "code",
   "execution_count": null,
   "id": "636e63a2",
   "metadata": {},
   "outputs": [],
   "source": [
    "count = 0\n",
    "for word in test.split():\n",
    "    embedding_vector = embedding_dictionary.get(word)\n",
    "    if embedding_vector is not None:\n",
    "        count += 1"
   ]
  },
  {
   "cell_type": "code",
   "execution_count": null,
   "id": "56522c50",
   "metadata": {},
   "outputs": [],
   "source": [
    "def get_embeddings(review):\n",
    "    embedding_vector = np.zeros(shape = (100,))\n",
    "    tokens = review.split()\n",
    "    for word in tokens:\n",
    "        embedding"
   ]
  },
  {
   "cell_type": "code",
   "execution_count": null,
   "id": "7da38990",
   "metadata": {},
   "outputs": [],
   "source": [
    "embedding_vector = np.zeros(shape = (100,))"
   ]
  },
  {
   "cell_type": "markdown",
   "id": "e48f7385",
   "metadata": {},
   "source": [
    "# TF-IDF"
   ]
  },
  {
   "cell_type": "code",
   "execution_count": 3,
   "id": "210a1875",
   "metadata": {},
   "outputs": [],
   "source": [
    "x_train, x_test, y_train, y_test = train_test_split(df['processed_text'], df['Sentiment'], test_size = 0.2, random_state=4211)"
   ]
  },
  {
   "cell_type": "code",
   "execution_count": 4,
   "id": "d633edf3",
   "metadata": {},
   "outputs": [],
   "source": [
    "vectorizer = TfidfVectorizer(max_df=0.8, sublinear_tf=True)\n",
    "train_vectors = vectorizer.fit_transform(x_train)"
   ]
  },
  {
   "cell_type": "markdown",
   "id": "8bf5a5eb",
   "metadata": {},
   "source": [
    "# XGBoost"
   ]
  },
  {
   "cell_type": "code",
   "execution_count": 5,
   "id": "ac64960c",
   "metadata": {},
   "outputs": [],
   "source": [
    "xgb_model = XGBClassifier()\n",
    "k_folds = KFold(n_splits=5)\n",
    "val_scores = cross_val_score(xgb_model, train_vectors, y_train, cv=k_folds)"
   ]
  },
  {
   "cell_type": "code",
   "execution_count": 6,
   "id": "a24edf60",
   "metadata": {},
   "outputs": [
    {
     "name": "stdout",
     "output_type": "stream",
     "text": [
      "Cross validation scores: [0.8771527  0.85304248 0.85074627 0.85189437 0.87944891]\n",
      "Average CV scores: 0.8624569460390357\n"
     ]
    }
   ],
   "source": [
    "print(f\"Cross validation scores: {val_scores}\") # [0.8771527  0.85304248 0.85074627 0.85189437 0.87944891]\n",
    "print(f\"Average CV scores: {val_scores.mean()}\") # 0.8624569460390357"
   ]
  },
  {
   "cell_type": "code",
   "execution_count": 7,
   "id": "6966e744",
   "metadata": {},
   "outputs": [
    {
     "data": {
      "text/html": [
       "<style>#sk-container-id-1 {color: black;background-color: white;}#sk-container-id-1 pre{padding: 0;}#sk-container-id-1 div.sk-toggleable {background-color: white;}#sk-container-id-1 label.sk-toggleable__label {cursor: pointer;display: block;width: 100%;margin-bottom: 0;padding: 0.3em;box-sizing: border-box;text-align: center;}#sk-container-id-1 label.sk-toggleable__label-arrow:before {content: \"▸\";float: left;margin-right: 0.25em;color: #696969;}#sk-container-id-1 label.sk-toggleable__label-arrow:hover:before {color: black;}#sk-container-id-1 div.sk-estimator:hover label.sk-toggleable__label-arrow:before {color: black;}#sk-container-id-1 div.sk-toggleable__content {max-height: 0;max-width: 0;overflow: hidden;text-align: left;background-color: #f0f8ff;}#sk-container-id-1 div.sk-toggleable__content pre {margin: 0.2em;color: black;border-radius: 0.25em;background-color: #f0f8ff;}#sk-container-id-1 input.sk-toggleable__control:checked~div.sk-toggleable__content {max-height: 200px;max-width: 100%;overflow: auto;}#sk-container-id-1 input.sk-toggleable__control:checked~label.sk-toggleable__label-arrow:before {content: \"▾\";}#sk-container-id-1 div.sk-estimator input.sk-toggleable__control:checked~label.sk-toggleable__label {background-color: #d4ebff;}#sk-container-id-1 div.sk-label input.sk-toggleable__control:checked~label.sk-toggleable__label {background-color: #d4ebff;}#sk-container-id-1 input.sk-hidden--visually {border: 0;clip: rect(1px 1px 1px 1px);clip: rect(1px, 1px, 1px, 1px);height: 1px;margin: -1px;overflow: hidden;padding: 0;position: absolute;width: 1px;}#sk-container-id-1 div.sk-estimator {font-family: monospace;background-color: #f0f8ff;border: 1px dotted black;border-radius: 0.25em;box-sizing: border-box;margin-bottom: 0.5em;}#sk-container-id-1 div.sk-estimator:hover {background-color: #d4ebff;}#sk-container-id-1 div.sk-parallel-item::after {content: \"\";width: 100%;border-bottom: 1px solid gray;flex-grow: 1;}#sk-container-id-1 div.sk-label:hover label.sk-toggleable__label {background-color: #d4ebff;}#sk-container-id-1 div.sk-serial::before {content: \"\";position: absolute;border-left: 1px solid gray;box-sizing: border-box;top: 0;bottom: 0;left: 50%;z-index: 0;}#sk-container-id-1 div.sk-serial {display: flex;flex-direction: column;align-items: center;background-color: white;padding-right: 0.2em;padding-left: 0.2em;position: relative;}#sk-container-id-1 div.sk-item {position: relative;z-index: 1;}#sk-container-id-1 div.sk-parallel {display: flex;align-items: stretch;justify-content: center;background-color: white;position: relative;}#sk-container-id-1 div.sk-item::before, #sk-container-id-1 div.sk-parallel-item::before {content: \"\";position: absolute;border-left: 1px solid gray;box-sizing: border-box;top: 0;bottom: 0;left: 50%;z-index: -1;}#sk-container-id-1 div.sk-parallel-item {display: flex;flex-direction: column;z-index: 1;position: relative;background-color: white;}#sk-container-id-1 div.sk-parallel-item:first-child::after {align-self: flex-end;width: 50%;}#sk-container-id-1 div.sk-parallel-item:last-child::after {align-self: flex-start;width: 50%;}#sk-container-id-1 div.sk-parallel-item:only-child::after {width: 0;}#sk-container-id-1 div.sk-dashed-wrapped {border: 1px dashed gray;margin: 0 0.4em 0.5em 0.4em;box-sizing: border-box;padding-bottom: 0.4em;background-color: white;}#sk-container-id-1 div.sk-label label {font-family: monospace;font-weight: bold;display: inline-block;line-height: 1.2em;}#sk-container-id-1 div.sk-label-container {text-align: center;}#sk-container-id-1 div.sk-container {/* jupyter's `normalize.less` sets `[hidden] { display: none; }` but bootstrap.min.css set `[hidden] { display: none !important; }` so we also need the `!important` here to be able to override the default hidden behavior on the sphinx rendered scikit-learn.org. See: https://github.com/scikit-learn/scikit-learn/issues/21755 */display: inline-block !important;position: relative;}#sk-container-id-1 div.sk-text-repr-fallback {display: none;}</style><div id=\"sk-container-id-1\" class=\"sk-top-container\"><div class=\"sk-text-repr-fallback\"><pre>XGBClassifier(base_score=None, booster=None, callbacks=None,\n",
       "              colsample_bylevel=None, colsample_bynode=None,\n",
       "              colsample_bytree=None, early_stopping_rounds=None,\n",
       "              enable_categorical=False, eval_metric=None, feature_types=None,\n",
       "              gamma=None, gpu_id=None, grow_policy=None, importance_type=None,\n",
       "              interaction_constraints=None, learning_rate=None, max_bin=None,\n",
       "              max_cat_threshold=None, max_cat_to_onehot=None,\n",
       "              max_delta_step=None, max_depth=None, max_leaves=None,\n",
       "              min_child_weight=None, missing=nan, monotone_constraints=None,\n",
       "              n_estimators=100, n_jobs=None, num_parallel_tree=None,\n",
       "              predictor=None, random_state=None, ...)</pre><b>In a Jupyter environment, please rerun this cell to show the HTML representation or trust the notebook. <br />On GitHub, the HTML representation is unable to render, please try loading this page with nbviewer.org.</b></div><div class=\"sk-container\" hidden><div class=\"sk-item\"><div class=\"sk-estimator sk-toggleable\"><input class=\"sk-toggleable__control sk-hidden--visually\" id=\"sk-estimator-id-1\" type=\"checkbox\" checked><label for=\"sk-estimator-id-1\" class=\"sk-toggleable__label sk-toggleable__label-arrow\">XGBClassifier</label><div class=\"sk-toggleable__content\"><pre>XGBClassifier(base_score=None, booster=None, callbacks=None,\n",
       "              colsample_bylevel=None, colsample_bynode=None,\n",
       "              colsample_bytree=None, early_stopping_rounds=None,\n",
       "              enable_categorical=False, eval_metric=None, feature_types=None,\n",
       "              gamma=None, gpu_id=None, grow_policy=None, importance_type=None,\n",
       "              interaction_constraints=None, learning_rate=None, max_bin=None,\n",
       "              max_cat_threshold=None, max_cat_to_onehot=None,\n",
       "              max_delta_step=None, max_depth=None, max_leaves=None,\n",
       "              min_child_weight=None, missing=nan, monotone_constraints=None,\n",
       "              n_estimators=100, n_jobs=None, num_parallel_tree=None,\n",
       "              predictor=None, random_state=None, ...)</pre></div></div></div></div></div>"
      ],
      "text/plain": [
       "XGBClassifier(base_score=None, booster=None, callbacks=None,\n",
       "              colsample_bylevel=None, colsample_bynode=None,\n",
       "              colsample_bytree=None, early_stopping_rounds=None,\n",
       "              enable_categorical=False, eval_metric=None, feature_types=None,\n",
       "              gamma=None, gpu_id=None, grow_policy=None, importance_type=None,\n",
       "              interaction_constraints=None, learning_rate=None, max_bin=None,\n",
       "              max_cat_threshold=None, max_cat_to_onehot=None,\n",
       "              max_delta_step=None, max_depth=None, max_leaves=None,\n",
       "              min_child_weight=None, missing=nan, monotone_constraints=None,\n",
       "              n_estimators=100, n_jobs=None, num_parallel_tree=None,\n",
       "              predictor=None, random_state=None, ...)"
      ]
     },
     "execution_count": 7,
     "metadata": {},
     "output_type": "execute_result"
    }
   ],
   "source": [
    "xgb_model.fit(train_vectors, y_train)"
   ]
  },
  {
   "cell_type": "markdown",
   "id": "6d109463",
   "metadata": {},
   "source": [
    "# Evaluation and Prediction"
   ]
  },
  {
   "cell_type": "code",
   "execution_count": 8,
   "id": "ba7b542b",
   "metadata": {},
   "outputs": [],
   "source": [
    "test_vector = vectorizer.transform(x_test)"
   ]
  },
  {
   "cell_type": "code",
   "execution_count": 9,
   "id": "b0785077",
   "metadata": {},
   "outputs": [],
   "source": [
    "x_test_predicted = xgb_model.predict(test_vector)"
   ]
  },
  {
   "cell_type": "code",
   "execution_count": 10,
   "id": "e420890a",
   "metadata": {},
   "outputs": [
    {
     "name": "stdout",
     "output_type": "stream",
     "text": [
      "Positive:\n",
      "---------\n",
      "precision: 0.892\n",
      "recall: 0.948\n",
      "f1-score: 0.919\n",
      "support: 815\n",
      "\n",
      "Negative:\n",
      "---------\n",
      "precision: 0.811\n",
      "recall: 0.657\n",
      "f1-score: 0.726\n",
      "support: 274\n",
      "\n",
      "Overall:\n",
      "--------\n",
      "accuracy: 0.875\n"
     ]
    }
   ],
   "source": [
    "report = classification_report(y_test, x_test_predicted, output_dict=True)\n",
    "\n",
    "print('Positive:')\n",
    "print('---------')\n",
    "for metric, score in report['0'].items():\n",
    "    print(f'{metric}: {round(score, 3)}')\n",
    "    \n",
    "print('\\nNegative:')\n",
    "print('---------')\n",
    "for metric, score in report['1'].items():\n",
    "    print(f'{metric}: {round(score, 3)}')\n",
    "    \n",
    "print('\\nOverall:')\n",
    "print('--------')\n",
    "print(f\"accuracy: {round(report['accuracy'], 3)}\")"
   ]
  },
  {
   "cell_type": "code",
   "execution_count": 11,
   "id": "5fcb8258",
   "metadata": {},
   "outputs": [
    {
     "data": {
      "image/png": "[encoded data removed]",
      "text/plain": [
       "<Figure size 640x480 with 2 Axes>"
      ]
     },
     "metadata": {},
     "output_type": "display_data"
    }
   ],
   "source": [
    "cm = confusion_matrix(y_test, x_test_predicted)\n",
    "cm_display = ConfusionMatrixDisplay(confusion_matrix = cm, display_labels = ['negative', 'positive'])\n",
    "cm_display.plot()\n",
    "plt.show()"
   ]
  },
  {
   "cell_type": "markdown",
   "id": "d380bec0",
   "metadata": {},
   "source": [
    "# Save Model"
   ]
  },
  {
   "cell_type": "code",
   "execution_count": 13,
   "id": "3d4131e8",
   "metadata": {},
   "outputs": [],
   "source": [
    "# pickling the TF-IDF vectorizer\n",
    "pickle.dump(vectorizer, open('../../model/xgboost_vectorizer.pkl', 'wb'))\n",
    "\n",
    "# pickling the SVM Linear Classifier\n",
    "pickle.dump(xgb_model, open('../../model/xgboost.pkl', 'wb'))"
   ]
  }
 ],
 "metadata": {
  "kernelspec": {
   "display_name": "Python 3 (ipykernel)",
   "language": "python",
   "name": "python3"
  },
  "language_info": {
   "codemirror_mode": {
    "name": "ipython",
    "version": 3
   },
   "file_extension": ".py",
   "mimetype": "text/x-python",
   "name": "python",
   "nbconvert_exporter": "python",
   "pygments_lexer": "ipython3",
   "version": "3.9.16"
  }
 },
 "nbformat": 4,
 "nbformat_minor": 5
}
