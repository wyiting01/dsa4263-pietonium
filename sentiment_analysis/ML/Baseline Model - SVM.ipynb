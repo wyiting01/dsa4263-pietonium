{
  "cells": [
    {
      "cell_type": "code",
      "execution_count": 1,
      "metadata": {
        "id": "LVyNQP4gyakq"
      },
      "outputs": [],
      "source": [
        "import pandas as pd\n",
        "import numpy as np\n",
        "import matplotlib.pyplot as plt"
      ]
    },
    {
      "cell_type": "markdown",
      "metadata": {
        "id": "rPwPB-0qysmj"
      },
      "source": [
        "### Import Data"
      ]
    },
    {
      "cell_type": "code",
      "execution_count": 2,
      "metadata": {
        "colab": {
          "base_uri": "https://localhost:8080/",
          "height": 206
        },
        "id": "vD9r-hYUn2iw",
        "outputId": "bc19be4e-5834-4040-f012-4187140e9e6e"
      },
      "outputs": [
        {
          "data": {
            "text/html": [
              "<div>\n",
              "<style scoped>\n",
              "    .dataframe tbody tr th:only-of-type {\n",
              "        vertical-align: middle;\n",
              "    }\n",
              "\n",
              "    .dataframe tbody tr th {\n",
              "        vertical-align: top;\n",
              "    }\n",
              "\n",
              "    .dataframe thead th {\n",
              "        text-align: right;\n",
              "    }\n",
              "</style>\n",
              "<table border=\"1\" class=\"dataframe\">\n",
              "  <thead>\n",
              "    <tr style=\"text-align: right;\">\n",
              "      <th></th>\n",
              "      <th>Sentiment</th>\n",
              "      <th>Time</th>\n",
              "      <th>Text</th>\n",
              "      <th>processed_text</th>\n",
              "    </tr>\n",
              "  </thead>\n",
              "  <tbody>\n",
              "    <tr>\n",
              "      <th>0</th>\n",
              "      <td>1</td>\n",
              "      <td>18/6/21</td>\n",
              "      <td>This is a very healthy dog food. Good for thei...</td>\n",
              "      <td>healthy dog food good digestion also good smal...</td>\n",
              "    </tr>\n",
              "    <tr>\n",
              "      <th>1</th>\n",
              "      <td>1</td>\n",
              "      <td>7/7/21</td>\n",
              "      <td>I've been very pleased with the Natural Balanc...</td>\n",
              "      <td>pleased natural balance dog food dog issue dog...</td>\n",
              "    </tr>\n",
              "    <tr>\n",
              "      <th>2</th>\n",
              "      <td>1</td>\n",
              "      <td>18/6/21</td>\n",
              "      <td>Before I was educated about feline nutrition, ...</td>\n",
              "      <td>educate feline nutrition allow cat become addi...</td>\n",
              "    </tr>\n",
              "    <tr>\n",
              "      <th>3</th>\n",
              "      <td>1</td>\n",
              "      <td>7/7/21</td>\n",
              "      <td>My holistic vet recommended this, along with a...</td>\n",
              "      <td>holistic vet recommend along brand try cat pre...</td>\n",
              "    </tr>\n",
              "    <tr>\n",
              "      <th>4</th>\n",
              "      <td>1</td>\n",
              "      <td>1/7/21</td>\n",
              "      <td>I bought this coffee because its much cheaper ...</td>\n",
              "      <td>buy coffee much cheaper ganocafe organic reish...</td>\n",
              "    </tr>\n",
              "  </tbody>\n",
              "</table>\n",
              "</div>"
            ],
            "text/plain": [
              "   Sentiment     Time                                               Text  \\\n",
              "0          1  18/6/21  This is a very healthy dog food. Good for thei...   \n",
              "1          1   7/7/21  I've been very pleased with the Natural Balanc...   \n",
              "2          1  18/6/21  Before I was educated about feline nutrition, ...   \n",
              "3          1   7/7/21  My holistic vet recommended this, along with a...   \n",
              "4          1   1/7/21  I bought this coffee because its much cheaper ...   \n",
              "\n",
              "                                      processed_text  \n",
              "0  healthy dog food good digestion also good smal...  \n",
              "1  pleased natural balance dog food dog issue dog...  \n",
              "2  educate feline nutrition allow cat become addi...  \n",
              "3  holistic vet recommend along brand try cat pre...  \n",
              "4  buy coffee much cheaper ganocafe organic reish...  "
            ]
          },
          "execution_count": 2,
          "metadata": {},
          "output_type": "execute_result"
        }
      ],
      "source": [
        "# Using Yiting Cleaned Reviews\n",
        "\n",
        "full_df = pd.read_csv(filepath_or_buffer='../../data/curated/reviews/cleaned_reviews.csv')\n",
        "full_df.head()"
      ]
    },
    {
      "cell_type": "code",
      "execution_count": 12,
      "metadata": {},
      "outputs": [
        {
          "data": {
            "text/plain": [
              "1    4030\n",
              "0    1414\n",
              "Name: Sentiment, dtype: int64"
            ]
          },
          "execution_count": 12,
          "metadata": {},
          "output_type": "execute_result"
        }
      ],
      "source": [
        "full_df['Sentiment'].value_counts()"
      ]
    },
    {
      "cell_type": "markdown",
      "metadata": {
        "id": "z5H6HL70yvEg"
      },
      "source": [
        "## Train-Test Split -> leave out 20% for testing"
      ]
    },
    {
      "cell_type": "code",
      "execution_count": 13,
      "metadata": {
        "id": "qpWMJ1uMx82P"
      },
      "outputs": [],
      "source": [
        "from sklearn.model_selection import train_test_split\n",
        "full_label = full_df['Sentiment']\n",
        "full_text = full_df['processed_text']\n",
        "\n",
        "X_train, X_test, y_train, y_test = train_test_split(full_text, full_label, test_size = 0.2, random_state=4211)"
      ]
    },
    {
      "cell_type": "markdown",
      "metadata": {
        "id": "X5xgmB9DzSME"
      },
      "source": [
        "### Feature Engineering with TF-IDF"
      ]
    },
    {
      "cell_type": "code",
      "execution_count": 14,
      "metadata": {
        "id": "JPJ18BV1zXBe"
      },
      "outputs": [],
      "source": [
        "from sklearn.feature_extraction.text import TfidfVectorizer\n",
        "\n",
        "tf_idf_vectorizer = TfidfVectorizer(\n",
        "    max_df = 0.5,\n",
        "    sublinear_tf = True\n",
        ")\n",
        "train_vectors = tf_idf_vectorizer.fit_transform(X_train)"
      ]
    },
    {
      "cell_type": "markdown",
      "metadata": {
        "id": "5VOCd2N817pZ"
      },
      "source": [
        "### Fit SVM & Cross Validation"
      ]
    },
    {
      "cell_type": "code",
      "execution_count": 15,
      "metadata": {
        "id": "BTVp55Js1_ja"
      },
      "outputs": [],
      "source": [
        "# Fit SVM\n",
        "import time\n",
        "from sklearn import svm\n",
        "from sklearn.metrics import classification_report, confusion_matrix, ConfusionMatrixDisplay\n",
        "from sklearn.model_selection import KFold, cross_val_score"
      ]
    },
    {
      "cell_type": "code",
      "execution_count": 16,
      "metadata": {
        "colab": {
          "base_uri": "https://localhost:8080/"
        },
        "id": "SoaZ3o1I2BNh",
        "outputId": "a388ea71-39e3-4597-ccc5-bfd474a402de"
      },
      "outputs": [
        {
          "name": "stdout",
          "output_type": "stream",
          "text": [
            "Cross validation scores: [0.90700344 0.88289323 0.86681975 0.88633754 0.89437428]\n",
            "Average CV scores: 0.8874856486796785\n"
          ]
        }
      ],
      "source": [
        "svm_linear_classifier = svm.LinearSVC()\n",
        "k_folds = KFold(n_splits=5)\n",
        "val_scores = cross_val_score(svm_linear_classifier, train_vectors, y_train, cv=k_folds)\n",
        "\n",
        "print(f\"Cross validation scores: {val_scores}\") # [0.90355913 0.88289323 0.86796785 0.88518944 0.88978186]\n",
        "print(f\"Average CV scores: {val_scores.mean()}\")"
      ]
    },
    {
      "cell_type": "code",
      "execution_count": 17,
      "metadata": {
        "id": "ODQFdvFK2bzo"
      },
      "outputs": [],
      "source": [
        "starttrain = time.time()\n",
        "svm_linear_classifier.fit(train_vectors, y_train)\n",
        "endtrain = time.time()"
      ]
    },
    {
      "cell_type": "markdown",
      "metadata": {
        "id": "woc_RB4v2lGu"
      },
      "source": [
        "### Evaludation and Prediction"
      ]
    },
    {
      "cell_type": "code",
      "execution_count": 18,
      "metadata": {
        "colab": {
          "base_uri": "https://localhost:8080/"
        },
        "id": "8yt0L5PX2net",
        "outputId": "cea1951e-d5f9-41d8-d821-92536301b816"
      },
      "outputs": [
        {
          "name": "stdout",
          "output_type": "stream",
          "text": [
            "Training time: 0.0438389778137207\n",
            "Prediction time: 0.0010027885437011719\n"
          ]
        }
      ],
      "source": [
        "test_vectors = tf_idf_vectorizer.transform(X_test)\n",
        "startpred = time.time()\n",
        "svm_preds_linear = svm_linear_classifier.predict(test_vectors)\n",
        "endpred = time.time()\n",
        "\n",
        "print(f\"Training time: {endtrain - starttrain}\")\n",
        "print(f\"Prediction time: {endpred - startpred}\")\n"
      ]
    },
    {
      "cell_type": "markdown",
      "metadata": {
        "id": "yObkq9gj2t0l"
      },
      "source": [
        "### Results"
      ]
    },
    {
      "cell_type": "code",
      "execution_count": 20,
      "metadata": {
        "colab": {
          "base_uri": "https://localhost:8080/"
        },
        "id": "HdMYscr62xH0",
        "outputId": "786d9c5f-d882-45e4-ea47-851098ef4c9d"
      },
      "outputs": [
        {
          "name": "stdout",
          "output_type": "stream",
          "text": [
            "Training time: 0.043839s; Prediction time: 0.001003s\n",
            "negative:  {'precision': 0.8181818181818182, 'recall': 0.7226277372262774, 'f1-score': 0.7674418604651163, 'support': 274}\n",
            "positive:  {'precision': 0.910271546635183, 'recall': 0.9460122699386503, 'f1-score': 0.927797833935018, 'support': 815}\n",
            "accuracy:  0.8898071625344353\n"
          ]
        }
      ],
      "source": [
        "print(\"Training time: %fs; Prediction time: %fs\" % (endtrain - starttrain, endpred - startpred))\n",
        "report = classification_report(y_test, svm_preds_linear, output_dict=True)\n",
        "print('negative: ', report['0'])\n",
        "print('positive: ', report['1'])\n",
        "print('accuracy: ', report['accuracy'])"
      ]
    },
    {
      "cell_type": "code",
      "execution_count": 22,
      "metadata": {
        "colab": {
          "base_uri": "https://localhost:8080/",
          "height": 296
        },
        "id": "yXL-mdYK21A8",
        "outputId": "b8ab8049-fd1e-4797-8717-edae3037a88c"
      },
      "outputs": [
        {
          "data": {
            "text/plain": [
              "<sklearn.metrics._plot.confusion_matrix.ConfusionMatrixDisplay at 0x2d118de8088>"
            ]
          },
          "execution_count": 22,
          "metadata": {},
          "output_type": "execute_result"
        },
        {
          "data": {
            "image/png": "[encoded data removed]",
            "text/plain": [
              "<Figure size 432x288 with 2 Axes>"
            ]
          },
          "metadata": {
            "needs_background": "light"
          },
          "output_type": "display_data"
        }
      ],
      "source": [
        "cm = confusion_matrix(y_test, svm_preds_linear)\n",
        "cm_display = ConfusionMatrixDisplay(confusion_matrix = cm, display_labels = ['negative', 'positive'])\n",
        "cm_display.plot()"
      ]
    },
    {
      "cell_type": "code",
      "execution_count": 23,
      "metadata": {},
      "outputs": [],
      "source": [
        "# pickling the IF-IDF Vectorizer\n",
        "import pickle\n",
        "pickle.dump(tf_idf_vectorizer, open('../../model/svm_vectorizer.pkl', 'wb'))\n",
        "\n",
        "# pickling the SVM Linear Classifier\n",
        "pickle.dump(svm_linear_classifier, open('../../model/svm.pkl', 'wb'))"
      ]
    },
    {
      "attachments": {},
      "cell_type": "markdown",
      "metadata": {},
      "source": [
        "### Inference on full dataset"
      ]
    },
    {
      "cell_type": "code",
      "execution_count": 24,
      "metadata": {},
      "outputs": [
        {
          "name": "stdout",
          "output_type": "stream",
          "text": [
            "negative:  {'precision': 0.9663003663003663, 'recall': 0.9328147100424328, 'f1-score': 0.9492623245771861, 'support': 1414}\n",
            "positive:  {'precision': 0.9767099779357685, 'recall': 0.9885856079404467, 'f1-score': 0.982611912689604, 'support': 4030}\n",
            "accuracy:  0.9740999265246143\n"
          ]
        }
      ],
      "source": [
        "full_text_vectors = tf_idf_vectorizer.transform(full_text)\n",
        "svm_full_preds_linear = svm_linear_classifier.predict(full_text_vectors)\n",
        "\n",
        "report_full = classification_report(full_label, svm_full_preds_linear, output_dict=True)\n",
        "print('negative: ', report_full['0'])\n",
        "print('positive: ', report_full['1'])\n",
        "print('accuracy: ', report_full['accuracy'])"
      ]
    }
  ],
  "metadata": {
    "colab": {
      "provenance": []
    },
    "kernelspec": {
      "display_name": "Python 3",
      "name": "python3"
    },
    "language_info": {
      "codemirror_mode": {
        "name": "ipython",
        "version": 3
      },
      "file_extension": ".py",
      "mimetype": "text/x-python",
      "name": "python",
      "nbconvert_exporter": "python",
      "pygments_lexer": "ipython3",
      "version": "3.7.4"
    }
  },
  "nbformat": 4,
  "nbformat_minor": 0
}
