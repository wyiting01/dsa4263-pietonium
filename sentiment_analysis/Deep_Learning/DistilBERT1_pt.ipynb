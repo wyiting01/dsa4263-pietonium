{
  "cells": [
    {
      "attachments": {},
      "cell_type": "markdown",
      "metadata": {},
      "source": [
        "## INSTRUCTIONS ##\n",
        "1. This training notebook was run on Google Colab to create the DistilBERT1 model\n",
        "2. For illustration only (filename and filepath exported are not exactly the same as in Github), some cells may not be executable.\n",
        "3. Inference using this model is highly recommended with libraries versions specified in the 'Checking GPU and Libraries Versions'. Especially torch==2.0.0\n",
        "4. Reference: https://huggingface.co/docs/transformers/tasks/sequence_classification\n",
        "\n"
      ]
    },
    {
      "cell_type": "markdown",
      "metadata": {
        "id": "GiLr4yNixaek"
      },
      "source": [
        "### Checking GPU and Libraries Versions"
      ]
    },
    {
      "cell_type": "code",
      "execution_count": null,
      "metadata": {
        "colab": {
          "base_uri": "https://localhost:8080/"
        },
        "id": "YoRnjMQmzKJS",
        "outputId": "d2fcd9b3-dc52-40d7-92c2-d37c4f5a1b26"
      },
      "outputs": [
        {
          "name": "stdout",
          "output_type": "stream",
          "text": [
            "2.0.0+cu118\n"
          ]
        }
      ],
      "source": [
        "import torch\n",
        "torch.cuda.is_available()\n",
        "print(torch.__version__)"
      ]
    },
    {
      "cell_type": "code",
      "execution_count": null,
      "metadata": {
        "colab": {
          "base_uri": "https://localhost:8080/"
        },
        "id": "JGSwuMkbzKJU",
        "outputId": "ac7f77bb-9615-40de-e15a-688fb923ce46"
      },
      "outputs": [
        {
          "name": "stdout",
          "output_type": "stream",
          "text": [
            "Looking in indexes: https://pypi.org/simple, https://us-python.pkg.dev/colab-wheels/public/simple/\n",
            "Requirement already satisfied: transformers in /usr/local/lib/python3.9/dist-packages (4.27.4)\n",
            "Requirement already satisfied: evaluate in /usr/local/lib/python3.9/dist-packages (0.4.0)\n",
            "Requirement already satisfied: datasets in /usr/local/lib/python3.9/dist-packages (2.11.0)\n",
            "Requirement already satisfied: huggingface-hub<1.0,>=0.11.0 in /usr/local/lib/python3.9/dist-packages (from transformers) (0.13.4)\n",
            "Requirement already satisfied: packaging>=20.0 in /usr/local/lib/python3.9/dist-packages (from transformers) (23.0)\n",
            "Requirement already satisfied: filelock in /usr/local/lib/python3.9/dist-packages (from transformers) (3.10.7)\n",
            "Requirement already satisfied: requests in /usr/local/lib/python3.9/dist-packages (from transformers) (2.27.1)\n",
            "Requirement already satisfied: tokenizers!=0.11.3,<0.14,>=0.11.1 in /usr/local/lib/python3.9/dist-packages (from transformers) (0.13.3)\n",
            "Requirement already satisfied: regex!=2019.12.17 in /usr/local/lib/python3.9/dist-packages (from transformers) (2022.10.31)\n",
            "Requirement already satisfied: tqdm>=4.27 in /usr/local/lib/python3.9/dist-packages (from transformers) (4.65.0)\n",
            "Requirement already satisfied: pyyaml>=5.1 in /usr/local/lib/python3.9/dist-packages (from transformers) (6.0)\n",
            "Requirement already satisfied: numpy>=1.17 in /usr/local/lib/python3.9/dist-packages (from transformers) (1.22.4)\n",
            "Requirement already satisfied: fsspec[http]>=2021.05.0 in /usr/local/lib/python3.9/dist-packages (from evaluate) (2023.3.0)\n",
            "Requirement already satisfied: xxhash in /usr/local/lib/python3.9/dist-packages (from evaluate) (3.2.0)\n",
            "Requirement already satisfied: multiprocess in /usr/local/lib/python3.9/dist-packages (from evaluate) (0.70.14)\n",
            "Requirement already satisfied: dill in /usr/local/lib/python3.9/dist-packages (from evaluate) (0.3.6)\n",
            "Requirement already satisfied: pandas in /usr/local/lib/python3.9/dist-packages (from evaluate) (1.4.4)\n",
            "Requirement already satisfied: responses<0.19 in /usr/local/lib/python3.9/dist-packages (from evaluate) (0.18.0)\n",
            "Requirement already satisfied: aiohttp in /usr/local/lib/python3.9/dist-packages (from datasets) (3.8.4)\n",
            "Requirement already satisfied: pyarrow>=8.0.0 in /usr/local/lib/python3.9/dist-packages (from datasets) (9.0.0)\n",
            "Requirement already satisfied: charset-normalizer<4.0,>=2.0 in /usr/local/lib/python3.9/dist-packages (from aiohttp->datasets) (2.0.12)\n",
            "Requirement already satisfied: yarl<2.0,>=1.0 in /usr/local/lib/python3.9/dist-packages (from aiohttp->datasets) (1.8.2)\n",
            "Requirement already satisfied: multidict<7.0,>=4.5 in /usr/local/lib/python3.9/dist-packages (from aiohttp->datasets) (6.0.4)\n",
            "Requirement already satisfied: async-timeout<5.0,>=4.0.0a3 in /usr/local/lib/python3.9/dist-packages (from aiohttp->datasets) (4.0.2)\n",
            "Requirement already satisfied: frozenlist>=1.1.1 in /usr/local/lib/python3.9/dist-packages (from aiohttp->datasets) (1.3.3)\n",
            "Requirement already satisfied: attrs>=17.3.0 in /usr/local/lib/python3.9/dist-packages (from aiohttp->datasets) (22.2.0)\n",
            "Requirement already satisfied: aiosignal>=1.1.2 in /usr/local/lib/python3.9/dist-packages (from aiohttp->datasets) (1.3.1)\n",
            "Requirement already satisfied: typing-extensions>=3.7.4.3 in /usr/local/lib/python3.9/dist-packages (from huggingface-hub<1.0,>=0.11.0->transformers) (4.5.0)\n",
            "Requirement already satisfied: certifi>=2017.4.17 in /usr/local/lib/python3.9/dist-packages (from requests->transformers) (2022.12.7)\n",
            "Requirement already satisfied: idna<4,>=2.5 in /usr/local/lib/python3.9/dist-packages (from requests->transformers) (3.4)\n",
            "Requirement already satisfied: urllib3<1.27,>=1.21.1 in /usr/local/lib/python3.9/dist-packages (from requests->transformers) (1.26.15)\n",
            "Requirement already satisfied: python-dateutil>=2.8.1 in /usr/local/lib/python3.9/dist-packages (from pandas->evaluate) (2.8.2)\n",
            "Requirement already satisfied: pytz>=2020.1 in /usr/local/lib/python3.9/dist-packages (from pandas->evaluate) (2022.7.1)\n",
            "Requirement already satisfied: six>=1.5 in /usr/local/lib/python3.9/dist-packages (from python-dateutil>=2.8.1->pandas->evaluate) (1.16.0)\n"
          ]
        }
      ],
      "source": [
        "!pip install transformers evaluate datasets"
      ]
    },
    {
      "cell_type": "code",
      "execution_count": null,
      "metadata": {
        "id": "fD6731JKakpU"
      },
      "outputs": [],
      "source": [
        "!pip freeze > requirements.txt"
      ]
    },
    {
      "cell_type": "code",
      "execution_count": null,
      "metadata": {
        "colab": {
          "base_uri": "https://localhost:8080/"
        },
        "id": "xZOePxP9cl7X",
        "outputId": "e47e72e0-e586-44e0-af23-948888c65783"
      },
      "outputs": [
        {
          "name": "stdout",
          "output_type": "stream",
          "text": [
            "Python 3.9.16\n"
          ]
        }
      ],
      "source": [
        "!python --version"
      ]
    },
    {
      "cell_type": "code",
      "execution_count": null,
      "metadata": {
        "colab": {
          "base_uri": "https://localhost:8080/"
        },
        "id": "avQskrImfN2c",
        "outputId": "99c0a27b-6699-4710-c0a8-3abe7b782639"
      },
      "outputs": [
        {
          "name": "stdout",
          "output_type": "stream",
          "text": [
            "4.27.4\n",
            "2.0.0+cu118\n",
            "3.8.1\n",
            "1.2.2\n",
            "1.4.4\n",
            "1.22.4\n",
            "0.4.0\n",
            "2.11.0\n",
            "3.7.1\n",
            "0.12.2\n"
          ]
        }
      ],
      "source": [
        "import transformers\n",
        "import torch\n",
        "import nltk\n",
        "import sklearn \n",
        "import pandas\n",
        "import numpy\n",
        "import evaluate \n",
        "import datasets\n",
        "import matplotlib\n",
        "import seaborn\n",
        "print(transformers.__version__)\n",
        "print(torch.__version__)\n",
        "print(nltk.__version__)\n",
        "print(sklearn.__version__)\n",
        "print(pandas.__version__)\n",
        "print(numpy.__version__)\n",
        "print(evaluate.__version__)\n",
        "print(datasets.__version__)\n",
        "print(matplotlib.__version__)\n",
        "print(seaborn.__version__)"
      ]
    },
    {
      "cell_type": "code",
      "execution_count": null,
      "metadata": {
        "colab": {
          "base_uri": "https://localhost:8080/"
        },
        "id": "FffnAL-cKGip",
        "outputId": "92c298ae-38b6-471c-b06a-3acd5962c41f"
      },
      "outputs": [
        {
          "data": {
            "text/plain": [
              "True"
            ]
          },
          "execution_count": 1,
          "metadata": {},
          "output_type": "execute_result"
        }
      ],
      "source": [
        "import torch\n",
        "torch.cuda.is_available()"
      ]
    },
    {
      "cell_type": "markdown",
      "metadata": {
        "id": "OVvDsV0hWYxW"
      },
      "source": [
        "### LOADING AND MINOR CLEANING"
      ]
    },
    {
      "cell_type": "code",
      "execution_count": null,
      "metadata": {
        "colab": {
          "base_uri": "https://localhost:8080/"
        },
        "id": "DexRzbKBWYP3",
        "outputId": "06149872-b62c-4616-9136-1a6a9cac6bb2"
      },
      "outputs": [
        {
          "name": "stderr",
          "output_type": "stream",
          "text": [
            "[nltk_data] Downloading package punkt to /root/nltk_data...\n",
            "[nltk_data]   Package punkt is already up-to-date!\n",
            "[nltk_data] Downloading package stopwords to /root/nltk_data...\n",
            "[nltk_data]   Package stopwords is already up-to-date!\n",
            "[nltk_data] Downloading package stopwords to /root/nltk_data...\n",
            "[nltk_data]   Package stopwords is already up-to-date!\n"
          ]
        }
      ],
      "source": [
        "import pandas as pd\n",
        "import numpy as np\n",
        "import re\n",
        "import nltk\n",
        "nltk.download('punkt')\n",
        "nltk.download('stopwords')\n",
        "from nltk.corpus import stopwords\n",
        "\n",
        "HTML_PATTERN = re.compile('<.*?>')\n",
        "nltk.download('stopwords')\n",
        "STOPWORDS_LIST = set(stopwords.words('english'))\n",
        "\n",
        "def noise_entity_removal(target_input):\n",
        "    # convert to lower case\n",
        "    target_input = target_input.lower()\n",
        "    \n",
        "    # remove html tags\n",
        "    target_input = re.sub(HTML_PATTERN, ' ', target_input)\n",
        "    \n",
        "    # remove non-word characters like #,*,% etc\n",
        "    target_input = re.sub(r'\\W',' ', target_input)\n",
        "    \n",
        "    #will remove digits\n",
        "    target_input = re.sub(r'\\d',' ',target_input)\n",
        "    \n",
        "    #will remove extra spaces\n",
        "    target_input = re.sub(r'\\s+',' ',target_input)\n",
        "\n",
        "    #remove words less than 2 characters\n",
        "    # target_input = re.sub(r'\\b\\w{1}\\b', '', target_input)\n",
        "\n",
        "    return target_input\n",
        "\n",
        "def label_to_integer(sentiment_label):\n",
        "    if sentiment_label == 'positive':\n",
        "        return 1\n",
        "    elif sentiment_label == 'negative':\n",
        "        return 0\n",
        "    else:\n",
        "        return None\n",
        "\n",
        "full_data = pd.read_csv('/drive/MyDrive/DSA4263/reviews.csv') # link to file to be changed later (this is the raw reviews data)\n",
        "full_data['processed_text'] = full_data['Text'].apply(lambda x:noise_entity_removal(x))\n",
        "full_data['Sentiment'] = full_data['Sentiment'].apply(lambda x:label_to_integer(x))\n",
        "df = full_data[['Sentiment', 'processed_text']]"
      ]
    },
    {
      "cell_type": "code",
      "execution_count": null,
      "metadata": {
        "colab": {
          "base_uri": "https://localhost:8080/"
        },
        "id": "J7Wu9uC9aCCD",
        "outputId": "c140a485-cf1e-4abf-ca4e-7ca1b18576ff"
      },
      "outputs": [
        {
          "data": {
            "text/plain": [
              "Text(0.5, 1.0, 'Count of negative vs positive reviews')"
            ]
          },
          "execution_count": 16,
          "metadata": {},
          "output_type": "execute_result"
        },
        {
          "data": {
            "image/png": "[encoded data removed]",
            "text/plain": [
              "<Figure size 640x480 with 1 Axes>"
            ]
          },
          "metadata": {},
          "output_type": "display_data"
        }
      ],
      "source": [
        "import matplotlib.pyplot as plt\n",
        "import seaborn as sns\n",
        "\n",
        "ax=sns.countplot(x=full_data.Sentiment)\n",
        "plt.xlabel('review sentiment')\n",
        "ax.set_xticklabels(['negative', 'positive'])\n",
        "plt.title('Count of negative vs positive reviews')"
      ]
    },
    {
      "cell_type": "code",
      "execution_count": null,
      "metadata": {
        "colab": {
          "base_uri": "https://localhost:8080/"
        },
        "id": "-sFzEqnpbcCN",
        "outputId": "b8d04e57-3940-4095-ee8d-db475664c1c1"
      },
      "outputs": [
        {
          "name": "stdout",
          "output_type": "stream",
          "text": [
            "Number of reviews:  5444\n",
            "Number of reviews more than 500 words:  975\n",
            "Median of word counts:  243.5\n"
          ]
        },
        {
          "data": {
            "image/png": "[encoded data removed]",
            "text/plain": [
              "<Figure size 640x480 with 1 Axes>"
            ]
          },
          "metadata": {},
          "output_type": "display_data"
        }
      ],
      "source": [
        "review_lengths = [len(x) for x in full_data['processed_text']]\n",
        "sns.histplot(review_lengths)\n",
        "plt.title('Distribution of reviews length')\n",
        "wco = 500\n",
        "print(f'Number of reviews: ', len(full_data))\n",
        "print(f'Number of reviews more than {wco} words: ',sum([1 if x > wco else 0 for x in review_lengths]))\n",
        "print(f'Median of word counts: ', np.median(review_lengths))"
      ]
    },
    {
      "cell_type": "markdown",
      "metadata": {
        "id": "O_kTjCy9Bf2y"
      },
      "source": [
        "### HYPERPARAMETER CONFIG"
      ]
    },
    {
      "cell_type": "code",
      "execution_count": null,
      "metadata": {
        "id": "dbzoA9WCBiZy"
      },
      "outputs": [],
      "source": [
        "CONFIG = {\n",
        "    'random_seed': 4263,\n",
        "    'test_size': 0.2,\n",
        "    'val_size': 0.25, # relative to the remaining training data -> (train, val, test) = (60, 20, 20),\n",
        "    'retrained_model': 'distilbert-base-uncased',\n",
        "    'learning_rate': 2e-5,\n",
        "    'per_device_train_batch_size': 16,\n",
        "    'per_device_eval_batch_size': 16,\n",
        "    'num_train_epochs': 5,\n",
        "    'weight_decay': 0.01,\n",
        "    'evaluation_strategy' : \"epoch\",\n",
        "    'save_strategy': \"epoch\"\n",
        "}"
      ]
    },
    {
      "cell_type": "markdown",
      "metadata": {
        "id": "VAtswiTuYVLU"
      },
      "source": [
        "### PRE-PROCESS"
      ]
    },
    {
      "cell_type": "code",
      "execution_count": null,
      "metadata": {
        "colab": {
          "base_uri": "https://localhost:8080/"
        },
        "id": "VgVoRnEZl55T",
        "outputId": "84fd58b3-4bda-41cf-9ff0-441e6a86db81"
      },
      "outputs": [
        {
          "data": {
            "text/plain": [
              "DatasetDict({\n",
              "    train: Dataset({\n",
              "        features: ['text', 'label'],\n",
              "        num_rows: 3266\n",
              "    })\n",
              "    test: Dataset({\n",
              "        features: ['text', 'label'],\n",
              "        num_rows: 1089\n",
              "    })\n",
              "    val: Dataset({\n",
              "        features: ['text', 'label'],\n",
              "        num_rows: 1089\n",
              "    })\n",
              "})"
            ]
          },
          "execution_count": 19,
          "metadata": {},
          "output_type": "execute_result"
        }
      ],
      "source": [
        "from sklearn.model_selection import train_test_split\n",
        "\n",
        "train_df, test_df = train_test_split(df, test_size = CONFIG['test_size'], random_state=CONFIG['random_seed'], shuffle=True)\n",
        "train_df, val_df = train_test_split(train_df, test_size = CONFIG['val_size'], random_state=CONFIG['random_seed'], shuffle=True)\n",
        "\n",
        "import datasets\n",
        "\n",
        "train_dataset = datasets.Dataset.from_dict({\n",
        "    'text': train_df['processed_text'],\n",
        "    'label': train_df['Sentiment']\n",
        "})\n",
        "\n",
        "val_dataset = datasets.Dataset.from_dict({\n",
        "    'text': val_df['processed_text'],\n",
        "    'label': val_df['Sentiment']\n",
        "})\n",
        "\n",
        "test_dataset = datasets.Dataset.from_dict({\n",
        "    'text': test_df['processed_text'],\n",
        "    'label': test_df['Sentiment']\n",
        "})\n",
        "\n",
        "full_dataset = datasets.DatasetDict({\n",
        "    'train': train_dataset,\n",
        "    'test': test_dataset,\n",
        "    'val': val_dataset\n",
        "})\n",
        "\n",
        "full_dataset\n"
      ]
    },
    {
      "cell_type": "code",
      "execution_count": null,
      "metadata": {
        "colab": {
          "base_uri": "https://localhost:8080/",
          "height": 17,
          "referenced_widgets": [
            "9c449efc645e4064bf20feb64a77bcf6",
            "c43f00c98d6a43759978bcca8924dbb2",
            "b6829d4d13a04d818c99983758759ee1",
            "bf1f50c90cb84a378dcd41c89e86ce09",
            "2c2d7389f671490499afe5818453fdd1",
            "753cdf6d8b7941909a02fad67238442c",
            "d00dedf0a7f24c398899f889f7ae9ac7",
            "5f6c826c23ed4eea88c9c7e203931dfc",
            "afbd07464f414e3db498fffa60ebd7cc",
            "2b893111b102435287eb929e64912826",
            "3928edd512b147c28af7e09e14f706f2",
            "61a88ceb3fe94adf89238008b970411e",
            "340b8e7116ef4f3e8334b115ba375e4e",
            "13edef2ce46940b0a10130e26dacef4f",
            "a3377e9f9207485382d0c197e2ebb3fb",
            "607e98883d17437cbd87942197658a13",
            "4ad36e77231549148bd3a28feb8d5389",
            "3970af8a8b184c8ea9ecae50438b6b73",
            "209458f637b34925a1c35f76a391b0d9",
            "aabb31d56b424e7fa900e10534585b5c",
            "f6f458aa73a144fbbacca141f83cbb7d",
            "c7b45d552542407b880d15647f3283e9",
            "b546c7069e7f4727ae18336ff826a4eb",
            "f938372c57424cfb92c335bc8bca20a4",
            "2139c6eb496c4090b680d0eb86e40ae4",
            "d7e823fa9dba421eb938cd56ed609717",
            "db0557e278cf466289d98c4392582070",
            "ebbfd66165704889b9d0d66d9190cf4e",
            "c26ece1196624bcbb1585df6ddc59cb3",
            "a30115d8993c45449bd7d8082a620cbc",
            "64d014b9b6b54a81b5cbdb95a0167469",
            "e9a83bdb22934a729bcb6ad24102992b",
            "43e46e5cff3b4c8599d857349c7e8062"
          ]
        },
        "id": "xj7mFhG4YmBz",
        "outputId": "724bd80d-311e-491a-a4f6-770fdde6d76f"
      },
      "outputs": [
        {
          "data": {
            "application/vnd.jupyter.widget-view+json": {
              "model_id": "9c449efc645e4064bf20feb64a77bcf6",
              "version_major": 2,
              "version_minor": 0
            },
            "text/plain": [
              "Map:   0%|          | 0/3266 [00:00<?, ? examples/s]"
            ]
          },
          "metadata": {},
          "output_type": "display_data"
        },
        {
          "data": {
            "application/vnd.jupyter.widget-view+json": {
              "model_id": "61a88ceb3fe94adf89238008b970411e",
              "version_major": 2,
              "version_minor": 0
            },
            "text/plain": [
              "Map:   0%|          | 0/1089 [00:00<?, ? examples/s]"
            ]
          },
          "metadata": {},
          "output_type": "display_data"
        },
        {
          "data": {
            "application/vnd.jupyter.widget-view+json": {
              "model_id": "b546c7069e7f4727ae18336ff826a4eb",
              "version_major": 2,
              "version_minor": 0
            },
            "text/plain": [
              "Map:   0%|          | 0/1089 [00:00<?, ? examples/s]"
            ]
          },
          "metadata": {},
          "output_type": "display_data"
        }
      ],
      "source": [
        "## LOAD A DistilBERT tokenizer to preprocess the text field\n",
        "\n",
        "BERT_PRETRAINED_MODEL = CONFIG['retrained_model']\n",
        "\n",
        "from transformers import AutoTokenizer\n",
        "tokenizer = AutoTokenizer.from_pretrained(BERT_PRETRAINED_MODEL)\n",
        "\n",
        "# Create a preprocessing function to tokenize text and truncate sequences to be\n",
        "# not longer than DistilBERT\n",
        "\n",
        "def preprocess_function(examples):\n",
        "  return tokenizer(examples['text'], truncation=True)\n",
        "\n",
        "tokenized_dataset = full_dataset.map(preprocess_function, batched=True)\n",
        "\n",
        "# Dynamically pad the sentences to the longest length in a batch during collation, \n",
        "# instead of padding the whole dataset to the maximum length.\n",
        "\n",
        "from transformers import DataCollatorWithPadding\n",
        "\n",
        "data_collator = DataCollatorWithPadding(tokenizer=tokenizer)\n"
      ]
    },
    {
      "cell_type": "markdown",
      "metadata": {
        "id": "ftseFp74neDZ"
      },
      "source": [
        "### Evaluate"
      ]
    },
    {
      "cell_type": "code",
      "execution_count": null,
      "metadata": {
        "id": "8LZKLs9OngOY"
      },
      "outputs": [],
      "source": [
        "import evaluate\n",
        "accuracy = evaluate.load(\"accuracy\")\n",
        "\n",
        "import numpy as np\n",
        "def compute_metrics(eval_pred):\n",
        "    predictions, labels = eval_pred\n",
        "    predictions = np.argmax(predictions, axis=1)\n",
        "    return accuracy.compute(predictions=predictions, references=labels)\n"
      ]
    },
    {
      "cell_type": "markdown",
      "metadata": {
        "id": "9XUYZPgPoDEf"
      },
      "source": [
        "### Training"
      ]
    },
    {
      "cell_type": "code",
      "execution_count": null,
      "metadata": {
        "id": "sH_i1ckloEnm"
      },
      "outputs": [],
      "source": [
        "id2label = {0: 'Negative', 1: 'Positive'}\n",
        "label2id = {'Negative': 0, 'Positive': 1}"
      ]
    },
    {
      "cell_type": "code",
      "execution_count": null,
      "metadata": {
        "colab": {
          "base_uri": "https://localhost:8080/"
        },
        "id": "Kn-BxM31oVbL",
        "outputId": "0f40bc3e-0ad0-4c3d-a8e7-1decb4d9ecac"
      },
      "outputs": [
        {
          "name": "stderr",
          "output_type": "stream",
          "text": [
            "Some weights of the model checkpoint at distilbert-base-uncased were not used when initializing DistilBertForSequenceClassification: ['vocab_projector.bias', 'vocab_projector.weight', 'vocab_layer_norm.bias', 'vocab_transform.bias', 'vocab_transform.weight', 'vocab_layer_norm.weight']\n",
            "- This IS expected if you are initializing DistilBertForSequenceClassification from the checkpoint of a model trained on another task or with another architecture (e.g. initializing a BertForSequenceClassification model from a BertForPreTraining model).\n",
            "- This IS NOT expected if you are initializing DistilBertForSequenceClassification from the checkpoint of a model that you expect to be exactly identical (initializing a BertForSequenceClassification model from a BertForSequenceClassification model).\n",
            "Some weights of DistilBertForSequenceClassification were not initialized from the model checkpoint at distilbert-base-uncased and are newly initialized: ['classifier.weight', 'pre_classifier.weight', 'pre_classifier.bias', 'classifier.bias']\n",
            "You should probably TRAIN this model on a down-stream task to be able to use it for predictions and inference.\n"
          ]
        }
      ],
      "source": [
        "from transformers import AutoModelForSequenceClassification, TrainingArguments, Trainer\n",
        "\n",
        "model = AutoModelForSequenceClassification.from_pretrained(\n",
        "    BERT_PRETRAINED_MODEL, num_labels=2, id2label=id2label, label2id=label2id\n",
        ")"
      ]
    },
    {
      "cell_type": "code",
      "execution_count": null,
      "metadata": {
        "colab": {
          "base_uri": "https://localhost:8080/"
        },
        "id": "K4MQhz-btggq",
        "outputId": "bd92798f-6910-4739-c846-eb129a008085"
      },
      "outputs": [
        {
          "data": {
            "text/plain": [
              "True"
            ]
          },
          "execution_count": 24,
          "metadata": {},
          "output_type": "execute_result"
        }
      ],
      "source": [
        "import torch\n",
        "torch.cuda.is_available()"
      ]
    },
    {
      "cell_type": "code",
      "execution_count": null,
      "metadata": {
        "colab": {
          "base_uri": "https://localhost:8080/",
          "height": 339
        },
        "id": "rAvoJF_co5i_",
        "outputId": "a486c0cf-5095-4f65-e901-7a864fc7adf2"
      },
      "outputs": [
        {
          "name": "stderr",
          "output_type": "stream",
          "text": [
            "/usr/local/lib/python3.9/dist-packages/transformers/optimization.py:391: FutureWarning: This implementation of AdamW is deprecated and will be removed in a future version. Use the PyTorch implementation torch.optim.AdamW instead, or set `no_deprecation_warning=True` to disable this warning\n",
            "  warnings.warn(\n",
            "You're using a DistilBertTokenizerFast tokenizer. Please note that with a fast tokenizer, using the `__call__` method is faster than using a method to encode the text followed by a call to the `pad` method to get a padded encoding.\n"
          ]
        },
        {
          "data": {
            "text/html": [
              "\n",
              "    <div>\n",
              "      \n",
              "      <progress value='1025' max='1025' style='width:300px; height:20px; vertical-align: middle;'></progress>\n",
              "      [1025/1025 05:54, Epoch 5/5]\n",
              "    </div>\n",
              "    <table border=\"1\" class=\"dataframe\">\n",
              "  <thead>\n",
              " <tr style=\"text-align: left;\">\n",
              "      <th>Epoch</th>\n",
              "      <th>Training Loss</th>\n",
              "      <th>Validation Loss</th>\n",
              "      <th>Accuracy</th>\n",
              "    </tr>\n",
              "  </thead>\n",
              "  <tbody>\n",
              "    <tr>\n",
              "      <td>1</td>\n",
              "      <td>No log</td>\n",
              "      <td>0.202862</td>\n",
              "      <td>0.931129</td>\n",
              "    </tr>\n",
              "    <tr>\n",
              "      <td>2</td>\n",
              "      <td>No log</td>\n",
              "      <td>0.221821</td>\n",
              "      <td>0.935721</td>\n",
              "    </tr>\n",
              "    <tr>\n",
              "      <td>3</td>\n",
              "      <td>0.190500</td>\n",
              "      <td>0.271042</td>\n",
              "      <td>0.935721</td>\n",
              "    </tr>\n",
              "    <tr>\n",
              "      <td>4</td>\n",
              "      <td>0.190500</td>\n",
              "      <td>0.290004</td>\n",
              "      <td>0.936639</td>\n",
              "    </tr>\n",
              "    <tr>\n",
              "      <td>5</td>\n",
              "      <td>0.035800</td>\n",
              "      <td>0.306631</td>\n",
              "      <td>0.936639</td>\n",
              "    </tr>\n",
              "  </tbody>\n",
              "</table><p>"
            ],
            "text/plain": [
              "<IPython.core.display.HTML object>"
            ]
          },
          "metadata": {},
          "output_type": "display_data"
        },
        {
          "data": {
            "text/plain": [
              "TrainOutput(global_step=1025, training_loss=0.11078644377429311, metrics={'train_runtime': 357.6084, 'train_samples_per_second': 45.664, 'train_steps_per_second': 2.866, 'total_flos': 939897589526400.0, 'train_loss': 0.11078644377429311, 'epoch': 5.0})"
            ]
          },
          "execution_count": 25,
          "metadata": {},
          "output_type": "execute_result"
        }
      ],
      "source": [
        "training_args = TrainingArguments(\n",
        "    output_dir=\"model1\",\n",
        "    learning_rate=CONFIG['learning_rate'],\n",
        "    per_device_train_batch_size=CONFIG['per_device_train_batch_size'],\n",
        "    per_device_eval_batch_size=CONFIG['per_device_eval_batch_size'],\n",
        "    num_train_epochs=CONFIG['num_train_epochs'],\n",
        "    weight_decay=CONFIG['weight_decay'],\n",
        "    evaluation_strategy=CONFIG['evaluation_strategy'],\n",
        "    save_strategy=CONFIG['save_strategy'],\n",
        "    load_best_model_at_end=True,\n",
        "    push_to_hub=False,\n",
        ")\n",
        "\n",
        "trainer = Trainer(\n",
        "    model=model,\n",
        "    args=training_args,\n",
        "    train_dataset=tokenized_dataset[\"train\"],\n",
        "    eval_dataset=tokenized_dataset[\"val\"],\n",
        "    tokenizer=tokenizer,\n",
        "    data_collator=data_collator,\n",
        "    compute_metrics=compute_metrics,\n",
        ")\n",
        "\n",
        "trainer.train()"
      ]
    },
    {
      "cell_type": "code",
      "execution_count": null,
      "metadata": {
        "id": "-__dfDoVFZf9"
      },
      "outputs": [],
      "source": [
        "import json\n",
        "with open('config1.json', 'w') as f:\n",
        "  json.dump(CONFIG, f)"
      ]
    },
    {
      "cell_type": "code",
      "execution_count": null,
      "metadata": {
        "colab": {
          "base_uri": "https://localhost:8080/"
        },
        "id": "xpti0jG0GVOa",
        "outputId": "a3bd01e4-9702-4fe3-be26-bcc72351a927"
      },
      "outputs": [
        {
          "name": "stdout",
          "output_type": "stream",
          "text": [
            "  adding: model1/checkpoint-1025/ (stored 0%)\n",
            "  adding: model1/checkpoint-1025/pytorch_model.bin (deflated 8%)\n",
            "  adding: model1/checkpoint-1025/tokenizer_config.json (deflated 42%)\n",
            "  adding: model1/checkpoint-1025/config.json (deflated 47%)\n",
            "  adding: model1/checkpoint-1025/optimizer.pt (deflated 31%)\n",
            "  adding: model1/checkpoint-1025/tokenizer.json (deflated 71%)\n",
            "  adding: model1/checkpoint-1025/scheduler.pt (deflated 49%)\n",
            "  adding: model1/checkpoint-1025/trainer_state.json (deflated 71%)\n",
            "  adding: model1/checkpoint-1025/training_args.bin (deflated 49%)\n",
            "  adding: model1/checkpoint-1025/vocab.txt (deflated 53%)\n",
            "  adding: model1/checkpoint-1025/special_tokens_map.json (deflated 42%)\n",
            "  adding: model1/checkpoint-1025/rng_state.pth (deflated 28%)\n"
          ]
        }
      ],
      "source": [
        "!zip -r model1_ckpt1025.zip model1/checkpoint-1025/"
      ]
    },
    {
      "cell_type": "markdown",
      "metadata": {
        "id": "Hlf-9KE-IFk6"
      },
      "source": [
        "## Inference"
      ]
    },
    {
      "cell_type": "markdown",
      "metadata": {
        "id": "BpZROHdmJeJb"
      },
      "source": [
        "### Default Pipeline \n",
        "can't be used for review larger than 512 words"
      ]
    },
    {
      "cell_type": "code",
      "execution_count": null,
      "metadata": {
        "colab": {
          "base_uri": "https://localhost:8080/"
        },
        "id": "CSRhNSYHIHEa",
        "outputId": "190046cb-314c-4fc4-b907-2078ce3cdec2"
      },
      "outputs": [
        {
          "data": {
            "text/plain": [
              "[{'label': 'Positive', 'score': 0.9985461235046387}]"
            ]
          },
          "execution_count": 78,
          "metadata": {},
          "output_type": "execute_result"
        }
      ],
      "source": [
        "text = \"This was a masterpiece. Not completely faithful to the books, but enthralling from beginning to end. Might be my favorite of the three.\"\n",
        "from transformers import pipeline\n",
        "\n",
        "classifier = pipeline(\"sentiment-analysis\", model=\"model1/checkpoint-1025\")\n",
        "classifier(text)"
      ]
    },
    {
      "cell_type": "code",
      "execution_count": null,
      "metadata": {
        "colab": {
          "base_uri": "https://localhost:8080/"
        },
        "id": "H2Z8WJV1J2s8",
        "outputId": "134a5cf1-bf22-44fc-e291-35c0b02aef1a"
      },
      "outputs": [
        {
          "data": {
            "text/plain": [
              "Int64Index([4651], dtype='int64')"
            ]
          },
          "execution_count": 40,
          "metadata": {},
          "output_type": "execute_result"
        }
      ],
      "source": [
        "test_df.index[test_df['processed_text'].apply(lambda x: len(x.split(' '))) > 500]"
      ]
    },
    {
      "cell_type": "code",
      "execution_count": null,
      "metadata": {
        "colab": {
          "base_uri": "https://localhost:8080/"
        },
        "id": "fx9_wkdULjbM",
        "outputId": "2ebd9e62-6c63-4403-c49e-825a3f7e6688"
      },
      "outputs": [
        {
          "data": {
            "text/plain": [
              "863"
            ]
          },
          "execution_count": 43,
          "metadata": {},
          "output_type": "execute_result"
        }
      ],
      "source": [
        "len(test_df.loc[4651, 'processed_text'].split(' '))"
      ]
    },
    {
      "cell_type": "code",
      "execution_count": null,
      "metadata": {
        "colab": {
          "base_uri": "https://localhost:8080/",
          "height": 140
        },
        "id": "_RxL33F7Lzv_",
        "outputId": "7c7ed431-676f-4093-c366-907fe1174f4b"
      },
      "outputs": [
        {
          "data": {
            "application/vnd.google.colaboratory.intrinsic+json": {
              "type": "string"
            },
            "text/plain": [
              "'this review will make me sound really stupid but whatever i don t really care as long as people find out what s real and can avoid my mistakes i got my wonderful little sweet bella bean when she was a few days shy of three years old she had been bounced around from house to house and eating whatever was cheap i have had cats around me my entire life for about twenty five years now my mother always just fed them whatever the kinds of food you buy in the supermarket friskies nine lives kit kaboodle stuff like that and our cats were always fine at least in terms of their eating habits they would eat in the morning stop when they were done come back and eat some more when they got hungry my housemate at the time was working for hill s and assured me that this was the best food ever made so great so on and so forth i now know that she is an utter buffoon but i initially trusted her judgment which is so unfortunate because she doesn t think she also had plenty of coupons for free or deeply discounted bags which made it a much more attractive choice i first tried feeding the little bean an unmeasured amount of science diet in a bowl but that didn t work as she would devour it in one sitting so then i took to measuring it and she did the same thing then i started parsing it out to twice a day that didn t work either because she would start going crazy in the middle of the day running around intentionally destroying things deliberately spilling her water crying etc until she got more food so then i split it into three servings same thing then it got to be four servings that was a little better but it was too much maintenance and unrealistic to be around every day to feed her four times so then it went back to three all the while i was trying to reduce the amount of food i was feeding her to less than of a cup because she was a little chubby reducing was hell she became even more hungry but i figured she would get used to it not really for over a year she would wake me up every morning looking for food in a serious way knocking things off my desk ripping up any paper she could find scratching at the door and committing general acts of mischief as soon as she got food she was back to her sweet self but only for three or four hours we thought she was bored we thought she was a little nutty and maybe even had a kitty eating disorder she always wanted food it was kind of funny but in the end it was just sad a few weeks back we took her to a new good non money factory vet for her second checkup since i ve had her i talked with him about her being always hungry he asked what she ate and i told him the adult indoor science diet without saying as much he basically told me that this food is garbage and i should look for something else he said cat food should have a protein followed by a carbohydrate as the first two ingredients science diet does in a very loose by product kind of way ground up slaughterhouse leftovers and corn dust then they put a bunch of vitamins in it to make it healthy instead of just using good ingredients from the beginning not that i care about spending money on the bean but this food is way too expensive for what it is so we began transitioning her onto wellness indoor formula about two weeks ago she is still eating percent science diet with percent wellness you really shouldn t just give a cat different food one day out of the blue but she never freaks out anymore it s amazing and it s percent because she is eating real food now along with that sawdust and chicken hearts i still regrettable have to feed her we have her down to eating twice a day only cup in total she was eating three times a day of a cup in total now she eats some in the morning walks away eats some more a few hours later and then looks for dinner about twelve hours after her initial feeding no more knocking things over no more trashing dad s papers on the desk no more howling no more deliberately spilled water on the floor it s incredible i feel so bad that i was doing this to her for so long we really thought she was just being dramatic or whatever but no she was genuinely hungry because she wasn t eating any real food do your cat a favor buy her or him so food made with real ingredients things you would eat wellness halo innova evo whatever figure it out for yourself but please don t feed your cat this it s garbage '"
            ]
          },
          "execution_count": 44,
          "metadata": {},
          "output_type": "execute_result"
        }
      ],
      "source": [
        "test_df.loc[4651, 'processed_text']"
      ]
    },
    {
      "cell_type": "code",
      "execution_count": null,
      "metadata": {
        "colab": {
          "base_uri": "https://localhost:8080/"
        },
        "id": "1cgn0jVXMFTi",
        "outputId": "37a4b5df-2ad1-4df6-97a2-dfb3446c99f7"
      },
      "outputs": [
        {
          "data": {
            "text/plain": [
              "0"
            ]
          },
          "execution_count": 45,
          "metadata": {},
          "output_type": "execute_result"
        }
      ],
      "source": [
        "test_df.loc[4651, 'Sentiment']"
      ]
    },
    {
      "cell_type": "code",
      "execution_count": null,
      "metadata": {
        "colab": {
          "base_uri": "https://localhost:8080/"
        },
        "id": "B8GVl6fHMeCl",
        "outputId": "2334e6e7-d1d2-4b36-a30e-aaf2eaa64aba"
      },
      "outputs": [
        {
          "data": {
            "text/plain": [
              "Int64Index([4778, 554, 4545, 355, 420], dtype='int64')"
            ]
          },
          "execution_count": 48,
          "metadata": {},
          "output_type": "execute_result"
        }
      ],
      "source": [
        "train_df.index[train_df['processed_text'].apply(lambda x: len(x.split(' '))) > 512]"
      ]
    },
    {
      "cell_type": "code",
      "execution_count": null,
      "metadata": {
        "colab": {
          "base_uri": "https://localhost:8080/",
          "height": 140
        },
        "id": "7XvwaVkFNFW8",
        "outputId": "6fdb1c00-9592-4c18-e086-c8c5a0765887"
      },
      "outputs": [
        {
          "data": {
            "application/vnd.google.colaboratory.intrinsic+json": {
              "type": "string"
            },
            "text/plain": [
              "'this review will make me sound really stupid but whatever i don t really care as long as people find out what s real and can avoid my mistakes i got my wonderful little sweet bella bean when she was a few days shy of three years old she had been bounced around from house to house and eating whatever was cheap i have had cats around me my entire life for about twenty five years now my mother always just fed them whatever the kinds of food you buy in the supermarket friskies nine lives kit kaboodle stuff like that and our cats were always fine at least in terms of their eating habits they would eat in the morning stop when they were done come back and eat some more when they got hungry my housemate at the time was working for hill s and assured me that this was the best food ever made so great so on and so forth i now know that she is an utter buffoon but i initially trusted her judgment which is so unfortunate because she doesn t think she also had plenty of coupons for free or deeply discounted bags which made it a much more attractive choice i first tried feeding the little bean an unmeasured amount of science diet in a bowl but that didn t work as she would devour it in one sitting so then i took to measuring it and she did the same thing then i started parsing it out to twice a day that didn t work either because she would start going crazy in the middle of the day running around intentionally destroying things deliberately spilling her water crying etc until she got more food so then i split it into three servings same thing then it got to be four servings that was a little better but it was too much maintenance and unrealistic to be around every day to feed her four times so then it went back to three all the while i was trying to reduce the amount of food i was feeding her to less than of a cup because she was a little chubby reducing was hell she became even more hungry but i figured she would get used to it not really for over a year she would wake me up every morning looking for food in a serious way knocking things off my desk ripping up any paper she could find scratching at the door and committing general acts of mischief as soon as she got food she was back to her sweet self but only for three or four hours we thought she was bored we thought she was a little nutty and maybe even had a kitty eating disorder she always wanted food it was kind of funny but in the end it was just sad a few weeks back we took her to a new good non money factory vet for her second checkup since i ve had her i talked with him about her being always hungry he asked what she ate and i told him the adult indoor science diet without saying as much he basically told me that this food is garbage and i should look for something else he said cat food should have a protein followed by a carbohydrate as the first two ingredients science diet does in a very loose by product kind of way ground up slaughterhouse leftovers and corn dust then they put a bunch of vitamins in it to make it healthy instead of just using good ingredients from the beginning not that i care about spending money on the bean but this food is way too expensive for what it is so we began transitioning her onto wellness indoor formula about two weeks ago she is still eating percent science diet with percent wellness you really shouldn t just give a cat different food one day out of the blue but she never freaks out anymore it s amazing and it s percent because she is eating real food now along with that sawdust and chicken hearts i still regrettable have to feed her we have her down to eating twice a day only cup in total she was eating three times a day of a cup in total now she eats some in the morning walks away eats some more a few hours later and then looks for dinner about twelve hours after her initial feeding no more knocking things over no more trashing dad s papers on the desk no more howling no more deliberately spilled water on the floor it s incredible i feel so bad that i was doing this to her for so long we really thought she was just being dramatic or whatever but no she was genuinely hungry because she wasn t eating any real food do your cat a favor buy her or him so food made with real ingredients things you would eat wellness halo innova evo whatever figure it out for yourself but please don t feed your cat this it s garbage '"
            ]
          },
          "execution_count": 59,
          "metadata": {},
          "output_type": "execute_result"
        }
      ],
      "source": [
        "[x for x in tokenized_dataset['test']['text'] if len(x.split(' ')) > 512][0]"
      ]
    },
    {
      "attachments": {},
      "cell_type": "markdown",
      "metadata": {
        "id": "WLt2yt1VJiOr"
      },
      "source": [
        "### Pytorch\n",
        "Use this instead"
      ]
    },
    {
      "cell_type": "code",
      "execution_count": null,
      "metadata": {
        "id": "uIi3tNnDPxFb"
      },
      "outputs": [],
      "source": [
        "from transformers import AutoTokenizer\n",
        "tokenizer = AutoTokenizer.from_pretrained(BERT_PRETRAINED_MODEL)\n",
        "\n",
        "# Create a preprocessing function to tokenize text and truncate sequences to be\n",
        "# not longer than DistilBERT\n",
        "\n",
        "def preprocess_function(examples):\n",
        "  return tokenizer(examples['text'], truncation=True)\n",
        "\n",
        "tokenized_dataset = full_dataset.map(preprocess_function, batched=True)"
      ]
    },
    {
      "cell_type": "code",
      "execution_count": null,
      "metadata": {
        "colab": {
          "base_uri": "https://localhost:8080/",
          "height": 36
        },
        "id": "G4WMFaC_JkXX",
        "outputId": "0cb12e36-1dce-479d-90e0-5ea5a77b1873"
      },
      "outputs": [
        {
          "data": {
            "application/vnd.google.colaboratory.intrinsic+json": {
              "type": "string"
            },
            "text/plain": [
              "'Negative'"
            ]
          },
          "execution_count": 80,
          "metadata": {},
          "output_type": "execute_result"
        }
      ],
      "source": [
        "from transformers import AutoTokenizer\n",
        "\n",
        "text = [x for x in tokenized_dataset['test']['text'] if len(x.split(' ')) > 512][0] # edge case of more than 512 tokens\n",
        "tokenizer = AutoTokenizer.from_pretrained(\"model1/checkpoint-1025\")\n",
        "inputs = tokenizer(text, return_tensors=\"pt\", truncation=True)\n",
        "\n",
        "from transformers import AutoModelForSequenceClassification\n",
        "\n",
        "model = AutoModelForSequenceClassification.from_pretrained(\"model1/checkpoint-1025\")\n",
        "with torch.no_grad():\n",
        "    logits = model(**inputs).logits\n",
        "\n",
        "predicted_class_id = logits.argmax().item()\n",
        "model.config.id2label[predicted_class_id]"
      ]
    }
  ],
  "metadata": {
    "accelerator": "GPU",
    "colab": {
      "collapsed_sections": [
        "ftseFp74neDZ",
        "BpZROHdmJeJb"
      ],
      "provenance": [],
      "toc_visible": true
    },
    "gpuClass": "standard",
    "kernelspec": {
      "display_name": "Python 3",
      "name": "python3"
    },
    "language_info": {
      "name": "python"
    },
    "widgets": {
      "application/vnd.jupyter.widget-state+json": {
        "13edef2ce46940b0a10130e26dacef4f": {
          "model_module": "@jupyter-widgets/controls",
          "model_module_version": "1.5.0",
          "model_name": "FloatProgressModel",
          "state": {
            "_dom_classes": [],
            "_model_module": "@jupyter-widgets/controls",
            "_model_module_version": "1.5.0",
            "_model_name": "FloatProgressModel",
            "_view_count": null,
            "_view_module": "@jupyter-widgets/controls",
            "_view_module_version": "1.5.0",
            "_view_name": "ProgressView",
            "bar_style": "",
            "description": "",
            "description_tooltip": null,
            "layout": "IPY_MODEL_209458f637b34925a1c35f76a391b0d9",
            "max": 1089,
            "min": 0,
            "orientation": "horizontal",
            "style": "IPY_MODEL_aabb31d56b424e7fa900e10534585b5c",
            "value": 1089
          }
        },
        "209458f637b34925a1c35f76a391b0d9": {
          "model_module": "@jupyter-widgets/base",
          "model_module_version": "1.2.0",
          "model_name": "LayoutModel",
          "state": {
            "_model_module": "@jupyter-widgets/base",
            "_model_module_version": "1.2.0",
            "_model_name": "LayoutModel",
            "_view_count": null,
            "_view_module": "@jupyter-widgets/base",
            "_view_module_version": "1.2.0",
            "_view_name": "LayoutView",
            "align_content": null,
            "align_items": null,
            "align_self": null,
            "border": null,
            "bottom": null,
            "display": null,
            "flex": null,
            "flex_flow": null,
            "grid_area": null,
            "grid_auto_columns": null,
            "grid_auto_flow": null,
            "grid_auto_rows": null,
            "grid_column": null,
            "grid_gap": null,
            "grid_row": null,
            "grid_template_areas": null,
            "grid_template_columns": null,
            "grid_template_rows": null,
            "height": null,
            "justify_content": null,
            "justify_items": null,
            "left": null,
            "margin": null,
            "max_height": null,
            "max_width": null,
            "min_height": null,
            "min_width": null,
            "object_fit": null,
            "object_position": null,
            "order": null,
            "overflow": null,
            "overflow_x": null,
            "overflow_y": null,
            "padding": null,
            "right": null,
            "top": null,
            "visibility": null,
            "width": null
          }
        },
        "2139c6eb496c4090b680d0eb86e40ae4": {
          "model_module": "@jupyter-widgets/controls",
          "model_module_version": "1.5.0",
          "model_name": "FloatProgressModel",
          "state": {
            "_dom_classes": [],
            "_model_module": "@jupyter-widgets/controls",
            "_model_module_version": "1.5.0",
            "_model_name": "FloatProgressModel",
            "_view_count": null,
            "_view_module": "@jupyter-widgets/controls",
            "_view_module_version": "1.5.0",
            "_view_name": "ProgressView",
            "bar_style": "",
            "description": "",
            "description_tooltip": null,
            "layout": "IPY_MODEL_a30115d8993c45449bd7d8082a620cbc",
            "max": 1089,
            "min": 0,
            "orientation": "horizontal",
            "style": "IPY_MODEL_64d014b9b6b54a81b5cbdb95a0167469",
            "value": 1089
          }
        },
        "2b893111b102435287eb929e64912826": {
          "model_module": "@jupyter-widgets/base",
          "model_module_version": "1.2.0",
          "model_name": "LayoutModel",
          "state": {
            "_model_module": "@jupyter-widgets/base",
            "_model_module_version": "1.2.0",
            "_model_name": "LayoutModel",
            "_view_count": null,
            "_view_module": "@jupyter-widgets/base",
            "_view_module_version": "1.2.0",
            "_view_name": "LayoutView",
            "align_content": null,
            "align_items": null,
            "align_self": null,
            "border": null,
            "bottom": null,
            "display": null,
            "flex": null,
            "flex_flow": null,
            "grid_area": null,
            "grid_auto_columns": null,
            "grid_auto_flow": null,
            "grid_auto_rows": null,
            "grid_column": null,
            "grid_gap": null,
            "grid_row": null,
            "grid_template_areas": null,
            "grid_template_columns": null,
            "grid_template_rows": null,
            "height": null,
            "justify_content": null,
            "justify_items": null,
            "left": null,
            "margin": null,
            "max_height": null,
            "max_width": null,
            "min_height": null,
            "min_width": null,
            "object_fit": null,
            "object_position": null,
            "order": null,
            "overflow": null,
            "overflow_x": null,
            "overflow_y": null,
            "padding": null,
            "right": null,
            "top": null,
            "visibility": null,
            "width": null
          }
        },
        "2c2d7389f671490499afe5818453fdd1": {
          "model_module": "@jupyter-widgets/base",
          "model_module_version": "1.2.0",
          "model_name": "LayoutModel",
          "state": {
            "_model_module": "@jupyter-widgets/base",
            "_model_module_version": "1.2.0",
            "_model_name": "LayoutModel",
            "_view_count": null,
            "_view_module": "@jupyter-widgets/base",
            "_view_module_version": "1.2.0",
            "_view_name": "LayoutView",
            "align_content": null,
            "align_items": null,
            "align_self": null,
            "border": null,
            "bottom": null,
            "display": null,
            "flex": null,
            "flex_flow": null,
            "grid_area": null,
            "grid_auto_columns": null,
            "grid_auto_flow": null,
            "grid_auto_rows": null,
            "grid_column": null,
            "grid_gap": null,
            "grid_row": null,
            "grid_template_areas": null,
            "grid_template_columns": null,
            "grid_template_rows": null,
            "height": null,
            "justify_content": null,
            "justify_items": null,
            "left": null,
            "margin": null,
            "max_height": null,
            "max_width": null,
            "min_height": null,
            "min_width": null,
            "object_fit": null,
            "object_position": null,
            "order": null,
            "overflow": null,
            "overflow_x": null,
            "overflow_y": null,
            "padding": null,
            "right": null,
            "top": null,
            "visibility": "hidden",
            "width": null
          }
        },
        "340b8e7116ef4f3e8334b115ba375e4e": {
          "model_module": "@jupyter-widgets/controls",
          "model_module_version": "1.5.0",
          "model_name": "HTMLModel",
          "state": {
            "_dom_classes": [],
            "_model_module": "@jupyter-widgets/controls",
            "_model_module_version": "1.5.0",
            "_model_name": "HTMLModel",
            "_view_count": null,
            "_view_module": "@jupyter-widgets/controls",
            "_view_module_version": "1.5.0",
            "_view_name": "HTMLView",
            "description": "",
            "description_tooltip": null,
            "layout": "IPY_MODEL_4ad36e77231549148bd3a28feb8d5389",
            "placeholder": "​",
            "style": "IPY_MODEL_3970af8a8b184c8ea9ecae50438b6b73",
            "value": "Map:  92%"
          }
        },
        "3928edd512b147c28af7e09e14f706f2": {
          "model_module": "@jupyter-widgets/controls",
          "model_module_version": "1.5.0",
          "model_name": "DescriptionStyleModel",
          "state": {
            "_model_module": "@jupyter-widgets/controls",
            "_model_module_version": "1.5.0",
            "_model_name": "DescriptionStyleModel",
            "_view_count": null,
            "_view_module": "@jupyter-widgets/base",
            "_view_module_version": "1.2.0",
            "_view_name": "StyleView",
            "description_width": ""
          }
        },
        "3970af8a8b184c8ea9ecae50438b6b73": {
          "model_module": "@jupyter-widgets/controls",
          "model_module_version": "1.5.0",
          "model_name": "DescriptionStyleModel",
          "state": {
            "_model_module": "@jupyter-widgets/controls",
            "_model_module_version": "1.5.0",
            "_model_name": "DescriptionStyleModel",
            "_view_count": null,
            "_view_module": "@jupyter-widgets/base",
            "_view_module_version": "1.2.0",
            "_view_name": "StyleView",
            "description_width": ""
          }
        },
        "43e46e5cff3b4c8599d857349c7e8062": {
          "model_module": "@jupyter-widgets/controls",
          "model_module_version": "1.5.0",
          "model_name": "DescriptionStyleModel",
          "state": {
            "_model_module": "@jupyter-widgets/controls",
            "_model_module_version": "1.5.0",
            "_model_name": "DescriptionStyleModel",
            "_view_count": null,
            "_view_module": "@jupyter-widgets/base",
            "_view_module_version": "1.2.0",
            "_view_name": "StyleView",
            "description_width": ""
          }
        },
        "4ad36e77231549148bd3a28feb8d5389": {
          "model_module": "@jupyter-widgets/base",
          "model_module_version": "1.2.0",
          "model_name": "LayoutModel",
          "state": {
            "_model_module": "@jupyter-widgets/base",
            "_model_module_version": "1.2.0",
            "_model_name": "LayoutModel",
            "_view_count": null,
            "_view_module": "@jupyter-widgets/base",
            "_view_module_version": "1.2.0",
            "_view_name": "LayoutView",
            "align_content": null,
            "align_items": null,
            "align_self": null,
            "border": null,
            "bottom": null,
            "display": null,
            "flex": null,
            "flex_flow": null,
            "grid_area": null,
            "grid_auto_columns": null,
            "grid_auto_flow": null,
            "grid_auto_rows": null,
            "grid_column": null,
            "grid_gap": null,
            "grid_row": null,
            "grid_template_areas": null,
            "grid_template_columns": null,
            "grid_template_rows": null,
            "height": null,
            "justify_content": null,
            "justify_items": null,
            "left": null,
            "margin": null,
            "max_height": null,
            "max_width": null,
            "min_height": null,
            "min_width": null,
            "object_fit": null,
            "object_position": null,
            "order": null,
            "overflow": null,
            "overflow_x": null,
            "overflow_y": null,
            "padding": null,
            "right": null,
            "top": null,
            "visibility": null,
            "width": null
          }
        },
        "5f6c826c23ed4eea88c9c7e203931dfc": {
          "model_module": "@jupyter-widgets/base",
          "model_module_version": "1.2.0",
          "model_name": "LayoutModel",
          "state": {
            "_model_module": "@jupyter-widgets/base",
            "_model_module_version": "1.2.0",
            "_model_name": "LayoutModel",
            "_view_count": null,
            "_view_module": "@jupyter-widgets/base",
            "_view_module_version": "1.2.0",
            "_view_name": "LayoutView",
            "align_content": null,
            "align_items": null,
            "align_self": null,
            "border": null,
            "bottom": null,
            "display": null,
            "flex": null,
            "flex_flow": null,
            "grid_area": null,
            "grid_auto_columns": null,
            "grid_auto_flow": null,
            "grid_auto_rows": null,
            "grid_column": null,
            "grid_gap": null,
            "grid_row": null,
            "grid_template_areas": null,
            "grid_template_columns": null,
            "grid_template_rows": null,
            "height": null,
            "justify_content": null,
            "justify_items": null,
            "left": null,
            "margin": null,
            "max_height": null,
            "max_width": null,
            "min_height": null,
            "min_width": null,
            "object_fit": null,
            "object_position": null,
            "order": null,
            "overflow": null,
            "overflow_x": null,
            "overflow_y": null,
            "padding": null,
            "right": null,
            "top": null,
            "visibility": null,
            "width": null
          }
        },
        "607e98883d17437cbd87942197658a13": {
          "model_module": "@jupyter-widgets/base",
          "model_module_version": "1.2.0",
          "model_name": "LayoutModel",
          "state": {
            "_model_module": "@jupyter-widgets/base",
            "_model_module_version": "1.2.0",
            "_model_name": "LayoutModel",
            "_view_count": null,
            "_view_module": "@jupyter-widgets/base",
            "_view_module_version": "1.2.0",
            "_view_name": "LayoutView",
            "align_content": null,
            "align_items": null,
            "align_self": null,
            "border": null,
            "bottom": null,
            "display": null,
            "flex": null,
            "flex_flow": null,
            "grid_area": null,
            "grid_auto_columns": null,
            "grid_auto_flow": null,
            "grid_auto_rows": null,
            "grid_column": null,
            "grid_gap": null,
            "grid_row": null,
            "grid_template_areas": null,
            "grid_template_columns": null,
            "grid_template_rows": null,
            "height": null,
            "justify_content": null,
            "justify_items": null,
            "left": null,
            "margin": null,
            "max_height": null,
            "max_width": null,
            "min_height": null,
            "min_width": null,
            "object_fit": null,
            "object_position": null,
            "order": null,
            "overflow": null,
            "overflow_x": null,
            "overflow_y": null,
            "padding": null,
            "right": null,
            "top": null,
            "visibility": "hidden",
            "width": null
          }
        },
        "61a88ceb3fe94adf89238008b970411e": {
          "model_module": "@jupyter-widgets/controls",
          "model_module_version": "1.5.0",
          "model_name": "HBoxModel",
          "state": {
            "_dom_classes": [],
            "_model_module": "@jupyter-widgets/controls",
            "_model_module_version": "1.5.0",
            "_model_name": "HBoxModel",
            "_view_count": null,
            "_view_module": "@jupyter-widgets/controls",
            "_view_module_version": "1.5.0",
            "_view_name": "HBoxView",
            "box_style": "",
            "children": [
              "IPY_MODEL_340b8e7116ef4f3e8334b115ba375e4e",
              "IPY_MODEL_13edef2ce46940b0a10130e26dacef4f",
              "IPY_MODEL_a3377e9f9207485382d0c197e2ebb3fb"
            ],
            "layout": "IPY_MODEL_607e98883d17437cbd87942197658a13"
          }
        },
        "64d014b9b6b54a81b5cbdb95a0167469": {
          "model_module": "@jupyter-widgets/controls",
          "model_module_version": "1.5.0",
          "model_name": "ProgressStyleModel",
          "state": {
            "_model_module": "@jupyter-widgets/controls",
            "_model_module_version": "1.5.0",
            "_model_name": "ProgressStyleModel",
            "_view_count": null,
            "_view_module": "@jupyter-widgets/base",
            "_view_module_version": "1.2.0",
            "_view_name": "StyleView",
            "bar_color": null,
            "description_width": ""
          }
        },
        "753cdf6d8b7941909a02fad67238442c": {
          "model_module": "@jupyter-widgets/base",
          "model_module_version": "1.2.0",
          "model_name": "LayoutModel",
          "state": {
            "_model_module": "@jupyter-widgets/base",
            "_model_module_version": "1.2.0",
            "_model_name": "LayoutModel",
            "_view_count": null,
            "_view_module": "@jupyter-widgets/base",
            "_view_module_version": "1.2.0",
            "_view_name": "LayoutView",
            "align_content": null,
            "align_items": null,
            "align_self": null,
            "border": null,
            "bottom": null,
            "display": null,
            "flex": null,
            "flex_flow": null,
            "grid_area": null,
            "grid_auto_columns": null,
            "grid_auto_flow": null,
            "grid_auto_rows": null,
            "grid_column": null,
            "grid_gap": null,
            "grid_row": null,
            "grid_template_areas": null,
            "grid_template_columns": null,
            "grid_template_rows": null,
            "height": null,
            "justify_content": null,
            "justify_items": null,
            "left": null,
            "margin": null,
            "max_height": null,
            "max_width": null,
            "min_height": null,
            "min_width": null,
            "object_fit": null,
            "object_position": null,
            "order": null,
            "overflow": null,
            "overflow_x": null,
            "overflow_y": null,
            "padding": null,
            "right": null,
            "top": null,
            "visibility": null,
            "width": null
          }
        },
        "9c449efc645e4064bf20feb64a77bcf6": {
          "model_module": "@jupyter-widgets/controls",
          "model_module_version": "1.5.0",
          "model_name": "HBoxModel",
          "state": {
            "_dom_classes": [],
            "_model_module": "@jupyter-widgets/controls",
            "_model_module_version": "1.5.0",
            "_model_name": "HBoxModel",
            "_view_count": null,
            "_view_module": "@jupyter-widgets/controls",
            "_view_module_version": "1.5.0",
            "_view_name": "HBoxView",
            "box_style": "",
            "children": [
              "IPY_MODEL_c43f00c98d6a43759978bcca8924dbb2",
              "IPY_MODEL_b6829d4d13a04d818c99983758759ee1",
              "IPY_MODEL_bf1f50c90cb84a378dcd41c89e86ce09"
            ],
            "layout": "IPY_MODEL_2c2d7389f671490499afe5818453fdd1"
          }
        },
        "a30115d8993c45449bd7d8082a620cbc": {
          "model_module": "@jupyter-widgets/base",
          "model_module_version": "1.2.0",
          "model_name": "LayoutModel",
          "state": {
            "_model_module": "@jupyter-widgets/base",
            "_model_module_version": "1.2.0",
            "_model_name": "LayoutModel",
            "_view_count": null,
            "_view_module": "@jupyter-widgets/base",
            "_view_module_version": "1.2.0",
            "_view_name": "LayoutView",
            "align_content": null,
            "align_items": null,
            "align_self": null,
            "border": null,
            "bottom": null,
            "display": null,
            "flex": null,
            "flex_flow": null,
            "grid_area": null,
            "grid_auto_columns": null,
            "grid_auto_flow": null,
            "grid_auto_rows": null,
            "grid_column": null,
            "grid_gap": null,
            "grid_row": null,
            "grid_template_areas": null,
            "grid_template_columns": null,
            "grid_template_rows": null,
            "height": null,
            "justify_content": null,
            "justify_items": null,
            "left": null,
            "margin": null,
            "max_height": null,
            "max_width": null,
            "min_height": null,
            "min_width": null,
            "object_fit": null,
            "object_position": null,
            "order": null,
            "overflow": null,
            "overflow_x": null,
            "overflow_y": null,
            "padding": null,
            "right": null,
            "top": null,
            "visibility": null,
            "width": null
          }
        },
        "a3377e9f9207485382d0c197e2ebb3fb": {
          "model_module": "@jupyter-widgets/controls",
          "model_module_version": "1.5.0",
          "model_name": "HTMLModel",
          "state": {
            "_dom_classes": [],
            "_model_module": "@jupyter-widgets/controls",
            "_model_module_version": "1.5.0",
            "_model_name": "HTMLModel",
            "_view_count": null,
            "_view_module": "@jupyter-widgets/controls",
            "_view_module_version": "1.5.0",
            "_view_name": "HTMLView",
            "description": "",
            "description_tooltip": null,
            "layout": "IPY_MODEL_f6f458aa73a144fbbacca141f83cbb7d",
            "placeholder": "​",
            "style": "IPY_MODEL_c7b45d552542407b880d15647f3283e9",
            "value": " 1000/1089 [00:00&lt;00:00, 4033.65 examples/s]"
          }
        },
        "aabb31d56b424e7fa900e10534585b5c": {
          "model_module": "@jupyter-widgets/controls",
          "model_module_version": "1.5.0",
          "model_name": "ProgressStyleModel",
          "state": {
            "_model_module": "@jupyter-widgets/controls",
            "_model_module_version": "1.5.0",
            "_model_name": "ProgressStyleModel",
            "_view_count": null,
            "_view_module": "@jupyter-widgets/base",
            "_view_module_version": "1.2.0",
            "_view_name": "StyleView",
            "bar_color": null,
            "description_width": ""
          }
        },
        "afbd07464f414e3db498fffa60ebd7cc": {
          "model_module": "@jupyter-widgets/controls",
          "model_module_version": "1.5.0",
          "model_name": "ProgressStyleModel",
          "state": {
            "_model_module": "@jupyter-widgets/controls",
            "_model_module_version": "1.5.0",
            "_model_name": "ProgressStyleModel",
            "_view_count": null,
            "_view_module": "@jupyter-widgets/base",
            "_view_module_version": "1.2.0",
            "_view_name": "StyleView",
            "bar_color": null,
            "description_width": ""
          }
        },
        "b546c7069e7f4727ae18336ff826a4eb": {
          "model_module": "@jupyter-widgets/controls",
          "model_module_version": "1.5.0",
          "model_name": "HBoxModel",
          "state": {
            "_dom_classes": [],
            "_model_module": "@jupyter-widgets/controls",
            "_model_module_version": "1.5.0",
            "_model_name": "HBoxModel",
            "_view_count": null,
            "_view_module": "@jupyter-widgets/controls",
            "_view_module_version": "1.5.0",
            "_view_name": "HBoxView",
            "box_style": "",
            "children": [
              "IPY_MODEL_f938372c57424cfb92c335bc8bca20a4",
              "IPY_MODEL_2139c6eb496c4090b680d0eb86e40ae4",
              "IPY_MODEL_d7e823fa9dba421eb938cd56ed609717"
            ],
            "layout": "IPY_MODEL_db0557e278cf466289d98c4392582070"
          }
        },
        "b6829d4d13a04d818c99983758759ee1": {
          "model_module": "@jupyter-widgets/controls",
          "model_module_version": "1.5.0",
          "model_name": "FloatProgressModel",
          "state": {
            "_dom_classes": [],
            "_model_module": "@jupyter-widgets/controls",
            "_model_module_version": "1.5.0",
            "_model_name": "FloatProgressModel",
            "_view_count": null,
            "_view_module": "@jupyter-widgets/controls",
            "_view_module_version": "1.5.0",
            "_view_name": "ProgressView",
            "bar_style": "",
            "description": "",
            "description_tooltip": null,
            "layout": "IPY_MODEL_5f6c826c23ed4eea88c9c7e203931dfc",
            "max": 3266,
            "min": 0,
            "orientation": "horizontal",
            "style": "IPY_MODEL_afbd07464f414e3db498fffa60ebd7cc",
            "value": 3266
          }
        },
        "bf1f50c90cb84a378dcd41c89e86ce09": {
          "model_module": "@jupyter-widgets/controls",
          "model_module_version": "1.5.0",
          "model_name": "HTMLModel",
          "state": {
            "_dom_classes": [],
            "_model_module": "@jupyter-widgets/controls",
            "_model_module_version": "1.5.0",
            "_model_name": "HTMLModel",
            "_view_count": null,
            "_view_module": "@jupyter-widgets/controls",
            "_view_module_version": "1.5.0",
            "_view_name": "HTMLView",
            "description": "",
            "description_tooltip": null,
            "layout": "IPY_MODEL_2b893111b102435287eb929e64912826",
            "placeholder": "​",
            "style": "IPY_MODEL_3928edd512b147c28af7e09e14f706f2",
            "value": " 3000/3266 [00:01&lt;00:00, 3054.95 examples/s]"
          }
        },
        "c26ece1196624bcbb1585df6ddc59cb3": {
          "model_module": "@jupyter-widgets/controls",
          "model_module_version": "1.5.0",
          "model_name": "DescriptionStyleModel",
          "state": {
            "_model_module": "@jupyter-widgets/controls",
            "_model_module_version": "1.5.0",
            "_model_name": "DescriptionStyleModel",
            "_view_count": null,
            "_view_module": "@jupyter-widgets/base",
            "_view_module_version": "1.2.0",
            "_view_name": "StyleView",
            "description_width": ""
          }
        },
        "c43f00c98d6a43759978bcca8924dbb2": {
          "model_module": "@jupyter-widgets/controls",
          "model_module_version": "1.5.0",
          "model_name": "HTMLModel",
          "state": {
            "_dom_classes": [],
            "_model_module": "@jupyter-widgets/controls",
            "_model_module_version": "1.5.0",
            "_model_name": "HTMLModel",
            "_view_count": null,
            "_view_module": "@jupyter-widgets/controls",
            "_view_module_version": "1.5.0",
            "_view_name": "HTMLView",
            "description": "",
            "description_tooltip": null,
            "layout": "IPY_MODEL_753cdf6d8b7941909a02fad67238442c",
            "placeholder": "​",
            "style": "IPY_MODEL_d00dedf0a7f24c398899f889f7ae9ac7",
            "value": "Map:  92%"
          }
        },
        "c7b45d552542407b880d15647f3283e9": {
          "model_module": "@jupyter-widgets/controls",
          "model_module_version": "1.5.0",
          "model_name": "DescriptionStyleModel",
          "state": {
            "_model_module": "@jupyter-widgets/controls",
            "_model_module_version": "1.5.0",
            "_model_name": "DescriptionStyleModel",
            "_view_count": null,
            "_view_module": "@jupyter-widgets/base",
            "_view_module_version": "1.2.0",
            "_view_name": "StyleView",
            "description_width": ""
          }
        },
        "d00dedf0a7f24c398899f889f7ae9ac7": {
          "model_module": "@jupyter-widgets/controls",
          "model_module_version": "1.5.0",
          "model_name": "DescriptionStyleModel",
          "state": {
            "_model_module": "@jupyter-widgets/controls",
            "_model_module_version": "1.5.0",
            "_model_name": "DescriptionStyleModel",
            "_view_count": null,
            "_view_module": "@jupyter-widgets/base",
            "_view_module_version": "1.2.0",
            "_view_name": "StyleView",
            "description_width": ""
          }
        },
        "d7e823fa9dba421eb938cd56ed609717": {
          "model_module": "@jupyter-widgets/controls",
          "model_module_version": "1.5.0",
          "model_name": "HTMLModel",
          "state": {
            "_dom_classes": [],
            "_model_module": "@jupyter-widgets/controls",
            "_model_module_version": "1.5.0",
            "_model_name": "HTMLModel",
            "_view_count": null,
            "_view_module": "@jupyter-widgets/controls",
            "_view_module_version": "1.5.0",
            "_view_name": "HTMLView",
            "description": "",
            "description_tooltip": null,
            "layout": "IPY_MODEL_e9a83bdb22934a729bcb6ad24102992b",
            "placeholder": "​",
            "style": "IPY_MODEL_43e46e5cff3b4c8599d857349c7e8062",
            "value": " 1000/1089 [00:00&lt;00:00, 4292.67 examples/s]"
          }
        },
        "db0557e278cf466289d98c4392582070": {
          "model_module": "@jupyter-widgets/base",
          "model_module_version": "1.2.0",
          "model_name": "LayoutModel",
          "state": {
            "_model_module": "@jupyter-widgets/base",
            "_model_module_version": "1.2.0",
            "_model_name": "LayoutModel",
            "_view_count": null,
            "_view_module": "@jupyter-widgets/base",
            "_view_module_version": "1.2.0",
            "_view_name": "LayoutView",
            "align_content": null,
            "align_items": null,
            "align_self": null,
            "border": null,
            "bottom": null,
            "display": null,
            "flex": null,
            "flex_flow": null,
            "grid_area": null,
            "grid_auto_columns": null,
            "grid_auto_flow": null,
            "grid_auto_rows": null,
            "grid_column": null,
            "grid_gap": null,
            "grid_row": null,
            "grid_template_areas": null,
            "grid_template_columns": null,
            "grid_template_rows": null,
            "height": null,
            "justify_content": null,
            "justify_items": null,
            "left": null,
            "margin": null,
            "max_height": null,
            "max_width": null,
            "min_height": null,
            "min_width": null,
            "object_fit": null,
            "object_position": null,
            "order": null,
            "overflow": null,
            "overflow_x": null,
            "overflow_y": null,
            "padding": null,
            "right": null,
            "top": null,
            "visibility": "hidden",
            "width": null
          }
        },
        "e9a83bdb22934a729bcb6ad24102992b": {
          "model_module": "@jupyter-widgets/base",
          "model_module_version": "1.2.0",
          "model_name": "LayoutModel",
          "state": {
            "_model_module": "@jupyter-widgets/base",
            "_model_module_version": "1.2.0",
            "_model_name": "LayoutModel",
            "_view_count": null,
            "_view_module": "@jupyter-widgets/base",
            "_view_module_version": "1.2.0",
            "_view_name": "LayoutView",
            "align_content": null,
            "align_items": null,
            "align_self": null,
            "border": null,
            "bottom": null,
            "display": null,
            "flex": null,
            "flex_flow": null,
            "grid_area": null,
            "grid_auto_columns": null,
            "grid_auto_flow": null,
            "grid_auto_rows": null,
            "grid_column": null,
            "grid_gap": null,
            "grid_row": null,
            "grid_template_areas": null,
            "grid_template_columns": null,
            "grid_template_rows": null,
            "height": null,
            "justify_content": null,
            "justify_items": null,
            "left": null,
            "margin": null,
            "max_height": null,
            "max_width": null,
            "min_height": null,
            "min_width": null,
            "object_fit": null,
            "object_position": null,
            "order": null,
            "overflow": null,
            "overflow_x": null,
            "overflow_y": null,
            "padding": null,
            "right": null,
            "top": null,
            "visibility": null,
            "width": null
          }
        },
        "ebbfd66165704889b9d0d66d9190cf4e": {
          "model_module": "@jupyter-widgets/base",
          "model_module_version": "1.2.0",
          "model_name": "LayoutModel",
          "state": {
            "_model_module": "@jupyter-widgets/base",
            "_model_module_version": "1.2.0",
            "_model_name": "LayoutModel",
            "_view_count": null,
            "_view_module": "@jupyter-widgets/base",
            "_view_module_version": "1.2.0",
            "_view_name": "LayoutView",
            "align_content": null,
            "align_items": null,
            "align_self": null,
            "border": null,
            "bottom": null,
            "display": null,
            "flex": null,
            "flex_flow": null,
            "grid_area": null,
            "grid_auto_columns": null,
            "grid_auto_flow": null,
            "grid_auto_rows": null,
            "grid_column": null,
            "grid_gap": null,
            "grid_row": null,
            "grid_template_areas": null,
            "grid_template_columns": null,
            "grid_template_rows": null,
            "height": null,
            "justify_content": null,
            "justify_items": null,
            "left": null,
            "margin": null,
            "max_height": null,
            "max_width": null,
            "min_height": null,
            "min_width": null,
            "object_fit": null,
            "object_position": null,
            "order": null,
            "overflow": null,
            "overflow_x": null,
            "overflow_y": null,
            "padding": null,
            "right": null,
            "top": null,
            "visibility": null,
            "width": null
          }
        },
        "f6f458aa73a144fbbacca141f83cbb7d": {
          "model_module": "@jupyter-widgets/base",
          "model_module_version": "1.2.0",
          "model_name": "LayoutModel",
          "state": {
            "_model_module": "@jupyter-widgets/base",
            "_model_module_version": "1.2.0",
            "_model_name": "LayoutModel",
            "_view_count": null,
            "_view_module": "@jupyter-widgets/base",
            "_view_module_version": "1.2.0",
            "_view_name": "LayoutView",
            "align_content": null,
            "align_items": null,
            "align_self": null,
            "border": null,
            "bottom": null,
            "display": null,
            "flex": null,
            "flex_flow": null,
            "grid_area": null,
            "grid_auto_columns": null,
            "grid_auto_flow": null,
            "grid_auto_rows": null,
            "grid_column": null,
            "grid_gap": null,
            "grid_row": null,
            "grid_template_areas": null,
            "grid_template_columns": null,
            "grid_template_rows": null,
            "height": null,
            "justify_content": null,
            "justify_items": null,
            "left": null,
            "margin": null,
            "max_height": null,
            "max_width": null,
            "min_height": null,
            "min_width": null,
            "object_fit": null,
            "object_position": null,
            "order": null,
            "overflow": null,
            "overflow_x": null,
            "overflow_y": null,
            "padding": null,
            "right": null,
            "top": null,
            "visibility": null,
            "width": null
          }
        },
        "f938372c57424cfb92c335bc8bca20a4": {
          "model_module": "@jupyter-widgets/controls",
          "model_module_version": "1.5.0",
          "model_name": "HTMLModel",
          "state": {
            "_dom_classes": [],
            "_model_module": "@jupyter-widgets/controls",
            "_model_module_version": "1.5.0",
            "_model_name": "HTMLModel",
            "_view_count": null,
            "_view_module": "@jupyter-widgets/controls",
            "_view_module_version": "1.5.0",
            "_view_name": "HTMLView",
            "description": "",
            "description_tooltip": null,
            "layout": "IPY_MODEL_ebbfd66165704889b9d0d66d9190cf4e",
            "placeholder": "​",
            "style": "IPY_MODEL_c26ece1196624bcbb1585df6ddc59cb3",
            "value": "Map:  92%"
          }
        }
      }
    }
  },
  "nbformat": 4,
  "nbformat_minor": 0
}
