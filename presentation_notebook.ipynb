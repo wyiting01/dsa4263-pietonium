{
 "cells": [
  {
   "cell_type": "code",
   "execution_count": 1,
   "id": "307a7923",
   "metadata": {},
   "outputs": [],
   "source": [
    "from pprint import pprint"
   ]
  },
  {
   "cell_type": "code",
   "execution_count": 2,
   "id": "c137d1bb",
   "metadata": {},
   "outputs": [
    {
     "data": {
      "text/plain": [
       "'C:\\\\Users\\\\wyiti\\\\Documents\\\\NUS\\\\Y3S2\\\\DSA4263\\\\Project\\\\dsa4263-pietonium'"
      ]
     },
     "execution_count": 2,
     "metadata": {},
     "output_type": "execute_result"
    }
   ],
   "source": [
    "pwd"
   ]
  },
  {
   "cell_type": "markdown",
   "id": "ad67f95f",
   "metadata": {},
   "source": [
    "# Preprocessing\n",
    "Process the text on the Text column, and create a new column processed_text to store the processed text"
   ]
  },
  {
   "cell_type": "code",
   "execution_count": 3,
   "id": "90d376d6",
   "metadata": {},
   "outputs": [
    {
     "name": "stderr",
     "output_type": "stream",
     "text": [
      "[nltk_data] Downloading package stopwords to\n",
      "[nltk_data]     C:\\Users\\wyiti\\AppData\\Roaming\\nltk_data...\n",
      "[nltk_data]   Package stopwords is already up-to-date!\n"
     ]
    }
   ],
   "source": [
    "from deployment.preprocess_fn import *"
   ]
  },
  {
   "cell_type": "code",
   "execution_count": 4,
   "id": "93d9083a",
   "metadata": {},
   "outputs": [
    {
     "data": {
      "text/html": [
       "<div>\n",
       "<style scoped>\n",
       "    .dataframe tbody tr th:only-of-type {\n",
       "        vertical-align: middle;\n",
       "    }\n",
       "\n",
       "    .dataframe tbody tr th {\n",
       "        vertical-align: top;\n",
       "    }\n",
       "\n",
       "    .dataframe thead th {\n",
       "        text-align: right;\n",
       "    }\n",
       "</style>\n",
       "<table border=\"1\" class=\"dataframe\">\n",
       "  <thead>\n",
       "    <tr style=\"text-align: right;\">\n",
       "      <th></th>\n",
       "      <th>Sentiment</th>\n",
       "      <th>Time</th>\n",
       "      <th>Text</th>\n",
       "    </tr>\n",
       "  </thead>\n",
       "  <tbody>\n",
       "    <tr>\n",
       "      <th>0</th>\n",
       "      <td>positive</td>\n",
       "      <td>2021-06-18</td>\n",
       "      <td>This is a very healthy dog food. Good for thei...</td>\n",
       "    </tr>\n",
       "    <tr>\n",
       "      <th>1</th>\n",
       "      <td>positive</td>\n",
       "      <td>2021-07-07</td>\n",
       "      <td>I've been very pleased with the Natural Balanc...</td>\n",
       "    </tr>\n",
       "    <tr>\n",
       "      <th>2</th>\n",
       "      <td>positive</td>\n",
       "      <td>2021-06-18</td>\n",
       "      <td>Before I was educated about feline nutrition, ...</td>\n",
       "    </tr>\n",
       "    <tr>\n",
       "      <th>3</th>\n",
       "      <td>positive</td>\n",
       "      <td>2021-07-07</td>\n",
       "      <td>My holistic vet recommended this, along with a...</td>\n",
       "    </tr>\n",
       "    <tr>\n",
       "      <th>4</th>\n",
       "      <td>positive</td>\n",
       "      <td>2021-01-07</td>\n",
       "      <td>I bought this coffee because its much cheaper ...</td>\n",
       "    </tr>\n",
       "  </tbody>\n",
       "</table>\n",
       "</div>"
      ],
      "text/plain": [
       "  Sentiment       Time                                               Text\n",
       "0  positive 2021-06-18  This is a very healthy dog food. Good for thei...\n",
       "1  positive 2021-07-07  I've been very pleased with the Natural Balanc...\n",
       "2  positive 2021-06-18  Before I was educated about feline nutrition, ...\n",
       "3  positive 2021-07-07  My holistic vet recommended this, along with a...\n",
       "4  positive 2021-01-07  I bought this coffee because its much cheaper ..."
      ]
     },
     "execution_count": 4,
     "metadata": {},
     "output_type": "execute_result"
    }
   ],
   "source": [
    "# read in raw data\n",
    "df_path = 'data/raw/reviews.csv'\n",
    "df = pd.read_csv(df_path, parse_dates = ['Time'])\n",
    "df.head()"
   ]
  },
  {
   "cell_type": "code",
   "execution_count": 5,
   "id": "d79fe45d",
   "metadata": {},
   "outputs": [
    {
     "name": "stdout",
     "output_type": "stream",
     "text": [
      "CPU times: total: 12 s\n",
      "Wall time: 16.7 s\n"
     ]
    }
   ],
   "source": [
    "%%time\n",
    "# preprocess the text\n",
    "df = preprocess(df, label_col_name = 'Sentiment')"
   ]
  },
  {
   "cell_type": "code",
   "execution_count": 6,
   "id": "56b25e8f",
   "metadata": {},
   "outputs": [
    {
     "data": {
      "text/html": [
       "<div>\n",
       "<style scoped>\n",
       "    .dataframe tbody tr th:only-of-type {\n",
       "        vertical-align: middle;\n",
       "    }\n",
       "\n",
       "    .dataframe tbody tr th {\n",
       "        vertical-align: top;\n",
       "    }\n",
       "\n",
       "    .dataframe thead th {\n",
       "        text-align: right;\n",
       "    }\n",
       "</style>\n",
       "<table border=\"1\" class=\"dataframe\">\n",
       "  <thead>\n",
       "    <tr style=\"text-align: right;\">\n",
       "      <th></th>\n",
       "      <th>Sentiment</th>\n",
       "      <th>Time</th>\n",
       "      <th>Text</th>\n",
       "      <th>processed_text</th>\n",
       "    </tr>\n",
       "  </thead>\n",
       "  <tbody>\n",
       "    <tr>\n",
       "      <th>0</th>\n",
       "      <td>1</td>\n",
       "      <td>2021-06-18</td>\n",
       "      <td>This is a very healthy dog food. Good for thei...</td>\n",
       "      <td>healthy dog food good digestion also good smal...</td>\n",
       "    </tr>\n",
       "    <tr>\n",
       "      <th>1</th>\n",
       "      <td>1</td>\n",
       "      <td>2021-07-07</td>\n",
       "      <td>I've been very pleased with the Natural Balanc...</td>\n",
       "      <td>pleased natural balance dog food dog issue dog...</td>\n",
       "    </tr>\n",
       "    <tr>\n",
       "      <th>2</th>\n",
       "      <td>1</td>\n",
       "      <td>2021-06-18</td>\n",
       "      <td>Before I was educated about feline nutrition, ...</td>\n",
       "      <td>educate feline nutrition allow cat become addi...</td>\n",
       "    </tr>\n",
       "    <tr>\n",
       "      <th>3</th>\n",
       "      <td>1</td>\n",
       "      <td>2021-07-07</td>\n",
       "      <td>My holistic vet recommended this, along with a...</td>\n",
       "      <td>holistic vet recommend along brand try cat pre...</td>\n",
       "    </tr>\n",
       "    <tr>\n",
       "      <th>4</th>\n",
       "      <td>1</td>\n",
       "      <td>2021-01-07</td>\n",
       "      <td>I bought this coffee because its much cheaper ...</td>\n",
       "      <td>buy coffee much cheaper ganocafe organic reish...</td>\n",
       "    </tr>\n",
       "  </tbody>\n",
       "</table>\n",
       "</div>"
      ],
      "text/plain": [
       "   Sentiment       Time                                               Text  \\\n",
       "0          1 2021-06-18  This is a very healthy dog food. Good for thei...   \n",
       "1          1 2021-07-07  I've been very pleased with the Natural Balanc...   \n",
       "2          1 2021-06-18  Before I was educated about feline nutrition, ...   \n",
       "3          1 2021-07-07  My holistic vet recommended this, along with a...   \n",
       "4          1 2021-01-07  I bought this coffee because its much cheaper ...   \n",
       "\n",
       "                                      processed_text  \n",
       "0  healthy dog food good digestion also good smal...  \n",
       "1  pleased natural balance dog food dog issue dog...  \n",
       "2  educate feline nutrition allow cat become addi...  \n",
       "3  holistic vet recommend along brand try cat pre...  \n",
       "4  buy coffee much cheaper ganocafe organic reish...  "
      ]
     },
     "execution_count": 6,
     "metadata": {},
     "output_type": "execute_result"
    }
   ],
   "source": [
    "df.head()"
   ]
  },
  {
   "cell_type": "code",
   "execution_count": 7,
   "id": "3eb098fd",
   "metadata": {},
   "outputs": [
    {
     "name": "stdout",
     "output_type": "stream",
     "text": [
      "Row 0\n",
      "-----\n",
      "This is a very healthy dog food. Good for their digestion. Also good for small puppies. My dog eats her required amount at every feeding.\n",
      "\n",
      "healthy dog food good digestion also good small puppy dog eats require amount every feeding\n",
      "\n",
      "Row 1\n",
      "-----\n",
      "I've been very pleased with the Natural Balance dog food. Our dogs have had issues with other dog foods in the past and I had someone recommend Natural Balance grain free since it is possible they were allergic to grains. Since switching I haven't had any issues. It is also helpful that have have different kibble size for larger/smaller sized dogs.\n",
      "\n",
      "pleased natural balance dog food dog issue dog food past someone recommend natural balance grain free since possible allergic grain since switch issue also helpful different kibble size larger smaller sized dog\n",
      "\n",
      "Row 2\n",
      "-----\n",
      "Before I was educated about feline nutrition, I allowed my cats to become addicted to dry cat food. I always offered both canned and dry, but wish I would have fed them premium quality canned food and limited dry food. I have two 15 year old cats and two 5 year old cats. The only good quality dry foods they will eat are Wellness and Innova. Innova's manufacturer was recently purchased by Procter&Gamble. I began looking for a replacement. After once again offering several samples (from my local holistic pet store) Holistic Select was the only one (other than the usual Wellness and Innova) they would eat. For finicky cats, I recommend trying Holistic Select. It is a good quality food that is very palatable for finicky eaters.\n",
      "\n",
      "educate feline nutrition allow cat become addicted dry cat food always offer canned dry wish would feed premium quality can food limited dry food two year old cat two year old cat good quality dry food eat wellness innova innova manufacturer recently purchase procter gamble begin look replacement offer several sample local holistic pet store holistic select one usual wellness innova would eat finicky cat recommend try holistic select good quality food palatable finicky eater\n",
      "\n"
     ]
    }
   ],
   "source": [
    "# show the preprocessed text\n",
    "for i in range(3):\n",
    "    print(f'Row {i}')\n",
    "    print('-----')\n",
    "    print(df.iloc[i]['Text'])\n",
    "    print()\n",
    "    print(df.iloc[i]['processed_text'])\n",
    "    print()"
   ]
  },
  {
   "cell_type": "markdown",
   "id": "5efdb690",
   "metadata": {},
   "source": [
    "## EDA"
   ]
  },
  {
   "cell_type": "code",
   "execution_count": null,
   "id": "cd8e13d5",
   "metadata": {},
   "outputs": [],
   "source": []
  },
  {
   "cell_type": "code",
   "execution_count": null,
   "id": "d6bb09a3",
   "metadata": {},
   "outputs": [],
   "source": []
  },
  {
   "cell_type": "markdown",
   "id": "7ef2fcf8",
   "metadata": {},
   "source": [
    "# Sentiment Analysis"
   ]
  },
  {
   "cell_type": "code",
   "execution_count": 8,
   "id": "5d42862e",
   "metadata": {},
   "outputs": [],
   "source": [
    "# train test split\n",
    "x_train, x_test, y_train, y_test = split_train_test(df['processed_text'], df['Sentiment'])"
   ]
  },
  {
   "cell_type": "code",
   "execution_count": 9,
   "id": "b65ecd13",
   "metadata": {},
   "outputs": [
    {
     "name": "stdout",
     "output_type": "stream",
     "text": [
      "(4355,) (4355,)\n",
      "(1089,) (1089,)\n"
     ]
    }
   ],
   "source": [
    "print(x_train.shape, y_train.shape)\n",
    "print(x_test.shape, y_test.shape)"
   ]
  },
  {
   "cell_type": "markdown",
   "id": "2a0b49a2",
   "metadata": {},
   "source": [
    "## Training - XGBoost"
   ]
  },
  {
   "cell_type": "code",
   "execution_count": 10,
   "id": "e5bdf0ef",
   "metadata": {},
   "outputs": [],
   "source": [
    "from sentiment_analysis.ML.xgboost_model import xgb_instantiate_tfidf_vectorizer, xgb_instantiate_xgb_model, xgb_get_classification_report, xgb_print_classifcation_rerport, xgb_get_confusion_matrix"
   ]
  },
  {
   "cell_type": "code",
   "execution_count": 11,
   "id": "5f2934f0",
   "metadata": {},
   "outputs": [],
   "source": [
    "# initialise tfidf vectorizer and fit train data into it\n",
    "xgboost_vectorizer = xgb_instantiate_tfidf_vectorizer(x_train)\n",
    "train_vectors = xgboost_vectorizer.transform(x_train)\n",
    "test_vectors = xgboost_vectorizer.transform(x_test)"
   ]
  },
  {
   "cell_type": "code",
   "execution_count": 12,
   "id": "0fabf215",
   "metadata": {},
   "outputs": [
    {
     "name": "stdout",
     "output_type": "stream",
     "text": [
      "(4355, 9246)\n",
      "(1089, 9246)\n"
     ]
    }
   ],
   "source": [
    "print(train_vectors.shape)\n",
    "print(test_vectors.shape)"
   ]
  },
  {
   "cell_type": "code",
   "execution_count": 13,
   "id": "7604ddd7",
   "metadata": {},
   "outputs": [],
   "source": [
    "# initialise xgb and fit training features and labels into it\n",
    "xgb_model = xgb_instantiate_xgb_model(train_vectors, y_train)"
   ]
  },
  {
   "cell_type": "markdown",
   "id": "6f24a23b",
   "metadata": {},
   "source": [
    "## Training - SVM"
   ]
  },
  {
   "cell_type": "code",
   "execution_count": null,
   "id": "2c589913",
   "metadata": {},
   "outputs": [],
   "source": [
    "from sentiment_analysis.ML.uy_svm1 import svm_instantiate_tfidf_vectorizer, svm_instantiate_svm_model, svm_get_classification_report, svm_print_classifcation_rerport, svm_get_confusion_matrix"
   ]
  },
  {
   "cell_type": "code",
   "execution_count": null,
   "id": "1680a220",
   "metadata": {},
   "outputs": [],
   "source": [
    "# initialise tfidf vectorizer and fit train data into it\n",
    "svm_vectorizer = svm_instantiate_tfidf_vectorizer(x_train)\n",
    "train_vectors = svm_vectorizer.transform(x_train)\n",
    "test_vectors = svm_vectorizer.transform(x_test)"
   ]
  },
  {
   "cell_type": "code",
   "execution_count": null,
   "id": "3932479c",
   "metadata": {},
   "outputs": [],
   "source": [
    "print(train_vectors.shape)\n",
    "print(test_vectors.shape)"
   ]
  },
  {
   "cell_type": "code",
   "execution_count": null,
   "id": "e8ad1e11",
   "metadata": {},
   "outputs": [],
   "source": [
    "# initialise svm and fit training features and labels into it\n",
    "svm_model = svm_instantiate_svm_model(train_vectors, y_train)"
   ]
  },
  {
   "cell_type": "markdown",
   "id": "47e8a363",
   "metadata": {},
   "source": [
    "## Training - BERT"
   ]
  },
  {
   "cell_type": "code",
   "execution_count": null,
   "id": "7cbed686",
   "metadata": {},
   "outputs": [],
   "source": [
    "from sentiment_analysis.Deep_Learning.bert import *"
   ]
  },
  {
   "cell_type": "code",
   "execution_count": null,
   "id": "5a44b400",
   "metadata": {},
   "outputs": [],
   "source": []
  },
  {
   "cell_type": "code",
   "execution_count": null,
   "id": "db6360c2",
   "metadata": {},
   "outputs": [],
   "source": []
  },
  {
   "cell_type": "code",
   "execution_count": null,
   "id": "3c8d7d12",
   "metadata": {},
   "outputs": [],
   "source": []
  },
  {
   "cell_type": "code",
   "execution_count": null,
   "id": "476a435c",
   "metadata": {},
   "outputs": [],
   "source": []
  },
  {
   "cell_type": "markdown",
   "id": "129bdc91",
   "metadata": {},
   "source": [
    "## Evaluation\n",
    "Evaluate the predictions of all three models - SVM, XGBoost and BERT"
   ]
  },
  {
   "cell_type": "code",
   "execution_count": 14,
   "id": "9cc24372",
   "metadata": {},
   "outputs": [],
   "source": [
    "from deployment.evaluate import evaluate_with_models\n",
    "from deployment.comparison import *"
   ]
  },
  {
   "cell_type": "code",
   "execution_count": null,
   "id": "e5792e3a",
   "metadata": {},
   "outputs": [],
   "source": [
    "target_models = [(\"xgboost\", xgb_model), (\"svm\", svm_model), (\"bert\", bert_model)]"
   ]
  },
  {
   "cell_type": "code",
   "execution_count": 16,
   "id": "47b2ba5a",
   "metadata": {
    "scrolled": true
   },
   "outputs": [
    {
     "data": {
      "text/plain": [
       "{'xgboost': {'prediction': array([1, 1, 0, ..., 1, 1, 1]),\n",
       "  'prediction_prob': array([[0.23096919, 0.7690308 ],\n",
       "         [0.10558426, 0.89441574],\n",
       "         [0.8274997 , 0.17250033],\n",
       "         ...,\n",
       "         [0.08321583, 0.91678417],\n",
       "         [0.05018127, 0.94981873],\n",
       "         [0.02242059, 0.9775794 ]], dtype=float32),\n",
       "  'metrics': {'cm': array([[177,  97],\n",
       "          [ 42, 773]], dtype=int64),\n",
       "   'accuracy': 0.8723599632690542,\n",
       "   'precision': 0.8885057471264368,\n",
       "   'recall': 0.9484662576687116}}}"
      ]
     },
     "execution_count": 16,
     "metadata": {},
     "output_type": "execute_result"
    }
   ],
   "source": [
    "evaluation_output = evaluate_with_models(test_vectors, y_test, [(\"xgboost\", xgb_model)])\n",
    "evaluation_output"
   ]
  },
  {
   "cell_type": "markdown",
   "id": "50edc383",
   "metadata": {},
   "source": [
    "## Comparison\n",
    "Compare the results among the three models, and choose the best one based on a metric"
   ]
  },
  {
   "cell_type": "code",
   "execution_count": null,
   "id": "ce79fd3a",
   "metadata": {},
   "outputs": [],
   "source": [
    "# can add plots to plot the results of all the models (diff line graphs for diff model, same color for same metric)"
   ]
  },
  {
   "cell_type": "code",
   "execution_count": 17,
   "id": "d8df3066",
   "metadata": {
    "scrolled": false
   },
   "outputs": [
    {
     "name": "stdout",
     "output_type": "stream",
     "text": [
      "xgboost: 0.8723599632690542\n",
      "Best Model: XGBOOST with accuracy = 0.8723599632690542\n"
     ]
    },
    {
     "data": {
      "image/png": "[encoded data removed]",
      "text/plain": [
       "<Figure size 640x480 with 2 Axes>"
      ]
     },
     "metadata": {},
     "output_type": "display_data"
    }
   ],
   "source": [
    "best_model_name, best_model_results = get_best_model(evaluation_output)"
   ]
  },
  {
   "cell_type": "code",
   "execution_count": null,
   "id": "d704dff9",
   "metadata": {},
   "outputs": [],
   "source": [
    "metric_list = [] # accuracy, precision, recall\n",
    "for metric, val in best_model_results['metrics'].items():\n",
    "    if metric != 'cm':\n",
    "        metric_list.append(val)\n",
    "metric_list"
   ]
  },
  {
   "cell_type": "code",
   "execution_count": null,
   "id": "493ba072",
   "metadata": {},
   "outputs": [],
   "source": []
  },
  {
   "cell_type": "code",
   "execution_count": null,
   "id": "8ffa1ca7",
   "metadata": {},
   "outputs": [],
   "source": []
  },
  {
   "cell_type": "markdown",
   "id": "05a22ae8",
   "metadata": {},
   "source": [
    "## Update of Results"
   ]
  },
  {
   "cell_type": "code",
   "execution_count": 18,
   "id": "9ff1bbeb",
   "metadata": {},
   "outputs": [],
   "source": [
    "predicted_labels = best_model_results['prediction']\n",
    "predicted_prob = best_model_results['prediction_prob']"
   ]
  },
  {
   "cell_type": "code",
   "execution_count": null,
   "id": "ff7ee8cf",
   "metadata": {},
   "outputs": [],
   "source": [
    "df['predcited_prob'] = predicted_prob\n",
    "df['predicted_sentiment'] = predicted_labels\n",
    "df.head()"
   ]
  },
  {
   "cell_type": "code",
   "execution_count": null,
   "id": "f6c47a58",
   "metadata": {},
   "outputs": [],
   "source": [
    "# save results\n",
    "df_to_save = df.loc[:, ['Sentiment', 'Time', 'Text', 'predcited_prob', 'predicted_sentiment']]\n",
    "display(df_to_save)\n",
    "# df_to_save.to_csv(\"reviews_results.csv\")"
   ]
  },
  {
   "cell_type": "markdown",
   "id": "ffb86b35",
   "metadata": {},
   "source": [
    "# Topic Classification"
   ]
  },
  {
   "cell_type": "code",
   "execution_count": null,
   "id": "b9f0cd66",
   "metadata": {},
   "outputs": [],
   "source": [
    "# from topic_modelling import *\n",
    "# topic_modelling.py:\n",
    "# a. tfidf\n",
    "# b. topic classifcation"
   ]
  },
  {
   "cell_type": "code",
   "execution_count": null,
   "id": "053f0502",
   "metadata": {},
   "outputs": [],
   "source": []
  }
 ],
 "metadata": {
  "kernelspec": {
   "display_name": "Python 3 (ipykernel)",
   "language": "python",
   "name": "python3"
  },
  "language_info": {
   "codemirror_mode": {
    "name": "ipython",
    "version": 3
   },
   "file_extension": ".py",
   "mimetype": "text/x-python",
   "name": "python",
   "nbconvert_exporter": "python",
   "pygments_lexer": "ipython3",
   "version": "3.9.16"
  }
 },
 "nbformat": 4,
 "nbformat_minor": 5
}
