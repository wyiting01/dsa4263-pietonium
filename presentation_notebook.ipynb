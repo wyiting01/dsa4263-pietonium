{
 "cells": [
  {
   "cell_type": "code",
   "execution_count": 1,
   "id": "307a7923",
   "metadata": {},
   "outputs": [],
   "source": [
    "from pprint import pprint"
   ]
  },
  {
   "cell_type": "code",
   "execution_count": 2,
   "id": "c137d1bb",
   "metadata": {},
   "outputs": [
    {
     "data": {
      "text/plain": [
       "'C:\\\\Users\\\\wyiti\\\\Documents\\\\NUS\\\\Y3S2\\\\DSA4263\\\\Project\\\\dsa4263-pietonium'"
      ]
     },
     "execution_count": 2,
     "metadata": {},
     "output_type": "execute_result"
    }
   ],
   "source": [
    "pwd"
   ]
  },
  {
   "cell_type": "markdown",
   "id": "ad67f95f",
   "metadata": {},
   "source": [
    "# Preprocessing\n",
    "Process the text on the Text column, and create a new column processed_text to store the processed text"
   ]
  },
  {
   "cell_type": "code",
   "execution_count": 3,
   "id": "90d376d6",
   "metadata": {},
   "outputs": [
    {
     "name": "stderr",
     "output_type": "stream",
     "text": [
      "[nltk_data] Downloading package stopwords to\n",
      "[nltk_data]     C:\\Users\\wyiti\\AppData\\Roaming\\nltk_data...\n",
      "[nltk_data]   Package stopwords is already up-to-date!\n"
     ]
    }
   ],
   "source": [
    "from deployment.preprocess_fn import *"
   ]
  },
  {
   "cell_type": "code",
   "execution_count": 4,
   "id": "93d9083a",
   "metadata": {},
   "outputs": [
    {
     "data": {
      "text/html": [
       "<div>\n",
       "<style scoped>\n",
       "    .dataframe tbody tr th:only-of-type {\n",
       "        vertical-align: middle;\n",
       "    }\n",
       "\n",
       "    .dataframe tbody tr th {\n",
       "        vertical-align: top;\n",
       "    }\n",
       "\n",
       "    .dataframe thead th {\n",
       "        text-align: right;\n",
       "    }\n",
       "</style>\n",
       "<table border=\"1\" class=\"dataframe\">\n",
       "  <thead>\n",
       "    <tr style=\"text-align: right;\">\n",
       "      <th></th>\n",
       "      <th>Sentiment</th>\n",
       "      <th>Time</th>\n",
       "      <th>Text</th>\n",
       "    </tr>\n",
       "  </thead>\n",
       "  <tbody>\n",
       "    <tr>\n",
       "      <th>0</th>\n",
       "      <td>positive</td>\n",
       "      <td>2021-06-18</td>\n",
       "      <td>This is a very healthy dog food. Good for thei...</td>\n",
       "    </tr>\n",
       "    <tr>\n",
       "      <th>1</th>\n",
       "      <td>positive</td>\n",
       "      <td>2021-07-07</td>\n",
       "      <td>I've been very pleased with the Natural Balanc...</td>\n",
       "    </tr>\n",
       "    <tr>\n",
       "      <th>2</th>\n",
       "      <td>positive</td>\n",
       "      <td>2021-06-18</td>\n",
       "      <td>Before I was educated about feline nutrition, ...</td>\n",
       "    </tr>\n",
       "    <tr>\n",
       "      <th>3</th>\n",
       "      <td>positive</td>\n",
       "      <td>2021-07-07</td>\n",
       "      <td>My holistic vet recommended this, along with a...</td>\n",
       "    </tr>\n",
       "    <tr>\n",
       "      <th>4</th>\n",
       "      <td>positive</td>\n",
       "      <td>2021-01-07</td>\n",
       "      <td>I bought this coffee because its much cheaper ...</td>\n",
       "    </tr>\n",
       "  </tbody>\n",
       "</table>\n",
       "</div>"
      ],
      "text/plain": [
       "  Sentiment       Time                                               Text\n",
       "0  positive 2021-06-18  This is a very healthy dog food. Good for thei...\n",
       "1  positive 2021-07-07  I've been very pleased with the Natural Balanc...\n",
       "2  positive 2021-06-18  Before I was educated about feline nutrition, ...\n",
       "3  positive 2021-07-07  My holistic vet recommended this, along with a...\n",
       "4  positive 2021-01-07  I bought this coffee because its much cheaper ..."
      ]
     },
     "execution_count": 4,
     "metadata": {},
     "output_type": "execute_result"
    }
   ],
   "source": [
    "# read in raw data\n",
    "df_path = 'data/raw/reviews.csv'\n",
    "df = pd.read_csv(df_path, parse_dates = ['Time'])\n",
    "df.head()"
   ]
  },
  {
   "cell_type": "code",
   "execution_count": 5,
   "id": "d79fe45d",
   "metadata": {},
   "outputs": [
    {
     "name": "stdout",
     "output_type": "stream",
     "text": [
      "CPU times: total: 10.6 s\n",
      "Wall time: 14.7 s\n"
     ]
    }
   ],
   "source": [
    "%%time\n",
    "# preprocess the text\n",
    "df = preprocess(df, label_col_name = 'Sentiment')"
   ]
  },
  {
   "cell_type": "code",
   "execution_count": 6,
   "id": "56b25e8f",
   "metadata": {},
   "outputs": [
    {
     "data": {
      "text/html": [
       "<div>\n",
       "<style scoped>\n",
       "    .dataframe tbody tr th:only-of-type {\n",
       "        vertical-align: middle;\n",
       "    }\n",
       "\n",
       "    .dataframe tbody tr th {\n",
       "        vertical-align: top;\n",
       "    }\n",
       "\n",
       "    .dataframe thead th {\n",
       "        text-align: right;\n",
       "    }\n",
       "</style>\n",
       "<table border=\"1\" class=\"dataframe\">\n",
       "  <thead>\n",
       "    <tr style=\"text-align: right;\">\n",
       "      <th></th>\n",
       "      <th>Sentiment</th>\n",
       "      <th>Time</th>\n",
       "      <th>Text</th>\n",
       "      <th>processed_text</th>\n",
       "    </tr>\n",
       "  </thead>\n",
       "  <tbody>\n",
       "    <tr>\n",
       "      <th>0</th>\n",
       "      <td>1</td>\n",
       "      <td>2021-06-18</td>\n",
       "      <td>This is a very healthy dog food. Good for thei...</td>\n",
       "      <td>healthy dog food good digestion also good smal...</td>\n",
       "    </tr>\n",
       "    <tr>\n",
       "      <th>1</th>\n",
       "      <td>1</td>\n",
       "      <td>2021-07-07</td>\n",
       "      <td>I've been very pleased with the Natural Balanc...</td>\n",
       "      <td>pleased natural balance dog food dog issue dog...</td>\n",
       "    </tr>\n",
       "    <tr>\n",
       "      <th>2</th>\n",
       "      <td>1</td>\n",
       "      <td>2021-06-18</td>\n",
       "      <td>Before I was educated about feline nutrition, ...</td>\n",
       "      <td>educate feline nutrition allow cat become addi...</td>\n",
       "    </tr>\n",
       "    <tr>\n",
       "      <th>3</th>\n",
       "      <td>1</td>\n",
       "      <td>2021-07-07</td>\n",
       "      <td>My holistic vet recommended this, along with a...</td>\n",
       "      <td>holistic vet recommend along brand try cat pre...</td>\n",
       "    </tr>\n",
       "    <tr>\n",
       "      <th>4</th>\n",
       "      <td>1</td>\n",
       "      <td>2021-01-07</td>\n",
       "      <td>I bought this coffee because its much cheaper ...</td>\n",
       "      <td>buy coffee much cheaper ganocafe organic reish...</td>\n",
       "    </tr>\n",
       "  </tbody>\n",
       "</table>\n",
       "</div>"
      ],
      "text/plain": [
       "   Sentiment       Time                                               Text  \\\n",
       "0          1 2021-06-18  This is a very healthy dog food. Good for thei...   \n",
       "1          1 2021-07-07  I've been very pleased with the Natural Balanc...   \n",
       "2          1 2021-06-18  Before I was educated about feline nutrition, ...   \n",
       "3          1 2021-07-07  My holistic vet recommended this, along with a...   \n",
       "4          1 2021-01-07  I bought this coffee because its much cheaper ...   \n",
       "\n",
       "                                      processed_text  \n",
       "0  healthy dog food good digestion also good smal...  \n",
       "1  pleased natural balance dog food dog issue dog...  \n",
       "2  educate feline nutrition allow cat become addi...  \n",
       "3  holistic vet recommend along brand try cat pre...  \n",
       "4  buy coffee much cheaper ganocafe organic reish...  "
      ]
     },
     "execution_count": 6,
     "metadata": {},
     "output_type": "execute_result"
    }
   ],
   "source": [
    "df.head()"
   ]
  },
  {
   "cell_type": "code",
   "execution_count": 7,
   "id": "3eb098fd",
   "metadata": {},
   "outputs": [
    {
     "name": "stdout",
     "output_type": "stream",
     "text": [
      "Row 0\n",
      "-----\n",
      "This is a very healthy dog food. Good for their digestion. Also good for small puppies. My dog eats her required amount at every feeding.\n",
      "\n",
      "healthy dog food good digestion also good small puppy dog eats require amount every feeding\n",
      "\n",
      "Row 1\n",
      "-----\n",
      "I've been very pleased with the Natural Balance dog food. Our dogs have had issues with other dog foods in the past and I had someone recommend Natural Balance grain free since it is possible they were allergic to grains. Since switching I haven't had any issues. It is also helpful that have have different kibble size for larger/smaller sized dogs.\n",
      "\n",
      "pleased natural balance dog food dog issue dog food past someone recommend natural balance grain free since possible allergic grain since switch issue also helpful different kibble size larger smaller sized dog\n",
      "\n",
      "Row 2\n",
      "-----\n",
      "Before I was educated about feline nutrition, I allowed my cats to become addicted to dry cat food. I always offered both canned and dry, but wish I would have fed them premium quality canned food and limited dry food. I have two 15 year old cats and two 5 year old cats. The only good quality dry foods they will eat are Wellness and Innova. Innova's manufacturer was recently purchased by Procter&Gamble. I began looking for a replacement. After once again offering several samples (from my local holistic pet store) Holistic Select was the only one (other than the usual Wellness and Innova) they would eat. For finicky cats, I recommend trying Holistic Select. It is a good quality food that is very palatable for finicky eaters.\n",
      "\n",
      "educate feline nutrition allow cat become addicted dry cat food always offer canned dry wish would feed premium quality can food limited dry food two year old cat two year old cat good quality dry food eat wellness innova innova manufacturer recently purchase procter gamble begin look replacement offer several sample local holistic pet store holistic select one usual wellness innova would eat finicky cat recommend try holistic select good quality food palatable finicky eater\n",
      "\n"
     ]
    }
   ],
   "source": [
    "# show the preprocessed text\n",
    "for i in range(3):\n",
    "    print(f'Row {i}')\n",
    "    print('-----')\n",
    "    print(df.iloc[i]['Text'])\n",
    "    print()\n",
    "    print(df.iloc[i]['processed_text'])\n",
    "    print()"
   ]
  },
  {
   "cell_type": "markdown",
   "id": "5efdb690",
   "metadata": {},
   "source": [
    "## EDA"
   ]
  },
  {
   "cell_type": "code",
   "execution_count": null,
   "id": "cd8e13d5",
   "metadata": {},
   "outputs": [],
   "source": []
  },
  {
   "cell_type": "code",
   "execution_count": null,
   "id": "d6bb09a3",
   "metadata": {},
   "outputs": [],
   "source": []
  },
  {
   "cell_type": "markdown",
   "id": "7ef2fcf8",
   "metadata": {},
   "source": [
    "# Sentiment Analysis"
   ]
  },
  {
   "cell_type": "code",
   "execution_count": 8,
   "id": "9cc24372",
   "metadata": {},
   "outputs": [],
   "source": [
    "from deployment.evaluate import *\n",
    "from deployment.comparison import *"
   ]
  },
  {
   "cell_type": "markdown",
   "id": "129bdc91",
   "metadata": {},
   "source": [
    "## Evaluation\n",
    "Evaluate the predictions of all three models - SVM, XGBoost and BERT"
   ]
  },
  {
   "cell_type": "code",
   "execution_count": 9,
   "id": "a38f218a",
   "metadata": {},
   "outputs": [],
   "source": [
    "# dictionary containing the filepath of all the saved model\n",
    "models_meta = {}\n",
    "models_meta[\"svm\"] = {\n",
    "    \"saved_tfidf\": \"model/svm_vectorizer.pkl\",\n",
    "    \"saved_model\": \"model/svm.pkl\"\n",
    "    }\n",
    "models_meta[\"xgboost\"] = {\n",
    "    \"saved_tfidf\": \"model/xgboost_vectorizer.pkl\",\n",
    "    \"saved_model\": \"model/xgboost.pkl\"\n",
    "    }\n",
    "models_meta[\"bert\"] = {\n",
    "    \"saved_model\": None\n",
    "    }\n",
    "models_meta[\"topic\"] = {\n",
    "    \"saved_tfidf\": None,\n",
    "    \"saved_model\": None\n",
    "}"
   ]
  },
  {
   "cell_type": "code",
   "execution_count": null,
   "id": "de891942",
   "metadata": {},
   "outputs": [],
   "source": [
    "test_data_path = \"data/curated/reviews/cleaned_reviews.csv\""
   ]
  },
  {
   "cell_type": "code",
   "execution_count": 10,
   "id": "fd9131cf",
   "metadata": {},
   "outputs": [
    {
     "name": "stdout",
     "output_type": "stream",
     "text": [
      "Evaluating SVM ...\n",
      "Evaluating XGBOOST ...\n",
      "{'svm': {'metrics': {'accuracy': 0.9740999265246143,\n",
      "                     'cm': array([[1319,   95],\n",
      "       [  46, 3984]], dtype=int64),\n",
      "                     'precision': 0.9767099779357685,\n",
      "                     'recall': 0.9885856079404467},\n",
      "         'prediction': array([1, 1, 1, ..., 0, 0, 0], dtype=int64)},\n",
      " 'xgboost': {'metrics': {'accuracy': 0.9568332108743571,\n",
      "                         'cm': array([[1244,  170],\n",
      "       [  65, 3965]], dtype=int64),\n",
      "                         'precision': 0.9588875453446191,\n",
      "                         'recall': 0.9838709677419355},\n",
      "             'prediction': array([1, 1, 1, ..., 0, 0, 0])}}\n"
     ]
    }
   ],
   "source": [
    "evaluation = evaluate(models_meta, df, target_models = [\"svm\", \"xgboost\"])\n",
    "pprint(evaluation)"
   ]
  },
  {
   "cell_type": "markdown",
   "id": "50edc383",
   "metadata": {},
   "source": [
    "## Comparison\n",
    "Compare the results among the three models, and choose the best one based on a metric"
   ]
  },
  {
   "cell_type": "code",
   "execution_count": null,
   "id": "ce79fd3a",
   "metadata": {},
   "outputs": [],
   "source": [
    "# can add plots to plot the results of all the models (diff line graphs for diff model, same color for same metric)"
   ]
  },
  {
   "cell_type": "code",
   "execution_count": 11,
   "id": "d8df3066",
   "metadata": {
    "scrolled": false
   },
   "outputs": [
    {
     "name": "stdout",
     "output_type": "stream",
     "text": [
      "svm: 0.9740999265246143\n",
      "xgboost: 0.9568332108743571\n",
      "Best Model: SVM with accuracy = 0.9740999265246143\n"
     ]
    },
    {
     "data": {
      "image/png": "[encoded data removed]",
      "text/plain": [
       "<Figure size 640x480 with 2 Axes>"
      ]
     },
     "metadata": {},
     "output_type": "display_data"
    }
   ],
   "source": [
    "best_model_name, best_model_results = get_best_model(evaluation)"
   ]
  },
  {
   "cell_type": "code",
   "execution_count": 12,
   "id": "d704dff9",
   "metadata": {},
   "outputs": [
    {
     "data": {
      "text/plain": [
       "[0.9740999265246143, 0.9767099779357685, 0.9885856079404467]"
      ]
     },
     "execution_count": 12,
     "metadata": {},
     "output_type": "execute_result"
    }
   ],
   "source": [
    "metric_list = [] # accuracy, precision, recall\n",
    "for metric, val in best_model_results['metrics'].items():\n",
    "    if metric != 'cm':\n",
    "        metric_list.append(val)\n",
    "metric_list"
   ]
  },
  {
   "cell_type": "code",
   "execution_count": null,
   "id": "493ba072",
   "metadata": {},
   "outputs": [],
   "source": []
  },
  {
   "cell_type": "code",
   "execution_count": null,
   "id": "8ffa1ca7",
   "metadata": {},
   "outputs": [],
   "source": []
  },
  {
   "cell_type": "markdown",
   "id": "05a22ae8",
   "metadata": {},
   "source": [
    "## Update of Results"
   ]
  },
  {
   "cell_type": "code",
   "execution_count": 13,
   "id": "9ff1bbeb",
   "metadata": {},
   "outputs": [],
   "source": [
    "predicted_labels = best_model_results['prediction']"
   ]
  },
  {
   "cell_type": "code",
   "execution_count": 14,
   "id": "ff7ee8cf",
   "metadata": {},
   "outputs": [
    {
     "data": {
      "text/html": [
       "<div>\n",
       "<style scoped>\n",
       "    .dataframe tbody tr th:only-of-type {\n",
       "        vertical-align: middle;\n",
       "    }\n",
       "\n",
       "    .dataframe tbody tr th {\n",
       "        vertical-align: top;\n",
       "    }\n",
       "\n",
       "    .dataframe thead th {\n",
       "        text-align: right;\n",
       "    }\n",
       "</style>\n",
       "<table border=\"1\" class=\"dataframe\">\n",
       "  <thead>\n",
       "    <tr style=\"text-align: right;\">\n",
       "      <th></th>\n",
       "      <th>Sentiment</th>\n",
       "      <th>Time</th>\n",
       "      <th>Text</th>\n",
       "      <th>processed_text</th>\n",
       "      <th>predicted_sentiment</th>\n",
       "    </tr>\n",
       "  </thead>\n",
       "  <tbody>\n",
       "    <tr>\n",
       "      <th>0</th>\n",
       "      <td>1</td>\n",
       "      <td>2021-06-18</td>\n",
       "      <td>This is a very healthy dog food. Good for thei...</td>\n",
       "      <td>healthy dog food good digestion also good smal...</td>\n",
       "      <td>1</td>\n",
       "    </tr>\n",
       "    <tr>\n",
       "      <th>1</th>\n",
       "      <td>1</td>\n",
       "      <td>2021-07-07</td>\n",
       "      <td>I've been very pleased with the Natural Balanc...</td>\n",
       "      <td>pleased natural balance dog food dog issue dog...</td>\n",
       "      <td>1</td>\n",
       "    </tr>\n",
       "    <tr>\n",
       "      <th>2</th>\n",
       "      <td>1</td>\n",
       "      <td>2021-06-18</td>\n",
       "      <td>Before I was educated about feline nutrition, ...</td>\n",
       "      <td>educate feline nutrition allow cat become addi...</td>\n",
       "      <td>1</td>\n",
       "    </tr>\n",
       "    <tr>\n",
       "      <th>3</th>\n",
       "      <td>1</td>\n",
       "      <td>2021-07-07</td>\n",
       "      <td>My holistic vet recommended this, along with a...</td>\n",
       "      <td>holistic vet recommend along brand try cat pre...</td>\n",
       "      <td>1</td>\n",
       "    </tr>\n",
       "    <tr>\n",
       "      <th>4</th>\n",
       "      <td>1</td>\n",
       "      <td>2021-01-07</td>\n",
       "      <td>I bought this coffee because its much cheaper ...</td>\n",
       "      <td>buy coffee much cheaper ganocafe organic reish...</td>\n",
       "      <td>1</td>\n",
       "    </tr>\n",
       "  </tbody>\n",
       "</table>\n",
       "</div>"
      ],
      "text/plain": [
       "   Sentiment       Time                                               Text  \\\n",
       "0          1 2021-06-18  This is a very healthy dog food. Good for thei...   \n",
       "1          1 2021-07-07  I've been very pleased with the Natural Balanc...   \n",
       "2          1 2021-06-18  Before I was educated about feline nutrition, ...   \n",
       "3          1 2021-07-07  My holistic vet recommended this, along with a...   \n",
       "4          1 2021-01-07  I bought this coffee because its much cheaper ...   \n",
       "\n",
       "                                      processed_text  predicted_sentiment  \n",
       "0  healthy dog food good digestion also good smal...                    1  \n",
       "1  pleased natural balance dog food dog issue dog...                    1  \n",
       "2  educate feline nutrition allow cat become addi...                    1  \n",
       "3  holistic vet recommend along brand try cat pre...                    1  \n",
       "4  buy coffee much cheaper ganocafe organic reish...                    1  "
      ]
     },
     "execution_count": 14,
     "metadata": {},
     "output_type": "execute_result"
    }
   ],
   "source": [
    "df['predicted_sentiment'] = predicted_labels\n",
    "df.head()"
   ]
  },
  {
   "cell_type": "code",
   "execution_count": null,
   "id": "f6c47a58",
   "metadata": {},
   "outputs": [],
   "source": [
    "# save results\n",
    "df_to_save = df.loc[:, ['Sentiment', 'Time', 'Text', 'predicted_sentiment']]\n",
    "display(df_to_save)\n",
    "# df_to_save.to_csv(\"reviews_results.csv\")"
   ]
  },
  {
   "cell_type": "markdown",
   "id": "ffb86b35",
   "metadata": {},
   "source": [
    "# Topic Classification"
   ]
  },
  {
   "cell_type": "code",
   "execution_count": null,
   "id": "b9f0cd66",
   "metadata": {},
   "outputs": [],
   "source": [
    "# from topic_modelling import *\n",
    "# topic_modelling.py:\n",
    "# a. tfidf\n",
    "# b. topic classifcation"
   ]
  },
  {
   "cell_type": "code",
   "execution_count": null,
   "id": "053f0502",
   "metadata": {},
   "outputs": [],
   "source": []
  }
 ],
 "metadata": {
  "kernelspec": {
   "display_name": "Python 3 (ipykernel)",
   "language": "python",
   "name": "python3"
  },
  "language_info": {
   "codemirror_mode": {
    "name": "ipython",
    "version": 3
   },
   "file_extension": ".py",
   "mimetype": "text/x-python",
   "name": "python",
   "nbconvert_exporter": "python",
   "pygments_lexer": "ipython3",
   "version": "3.10.4"
  }
 },
 "nbformat": 4,
 "nbformat_minor": 5
}
